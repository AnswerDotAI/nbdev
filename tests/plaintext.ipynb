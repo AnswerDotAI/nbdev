{
 "cells": [
  {
   "cell_type": "markdown",
   "metadata": {},
   "source": [
    "# plaintext\n",
    "\n",
    "> Tests and documents the plaintext conversion feature."
   ]
  },
  {
   "cell_type": "markdown",
   "metadata": {},
   "source": [
    "`nbdev.export.nb_export`, and `nbdev_export`, supports the following plain-text notebook formats:\n",
    "\n",
    "- `percent` (file extension: `.pct.py`)\n",
    "- `light` (file extension: `.lgt.py`)\n",
    "- `sphinx` (file extension: `.spx.py`)\n",
    "- `myst` (file extension: `.myst.md`)\n",
    "- `pandoc` (file extension: `.pandoc.md`)\n",
    "\n",
    "Code in any of the above formats can be used interchangeably with the standard `.ipynb` file, in the `nbs` directory.\n",
    "See [this](https://jupytext.readthedocs.io/en/latest/formats-scripts.html) for details the above plain-text notebook formats.\n"
   ]
  },
  {
   "cell_type": "markdown",
   "metadata": {},
   "source": [
    "The below code demonstrates the plaintext conversion feature for the above formats."
   ]
  },
  {
   "cell_type": "code",
   "execution_count": null,
   "metadata": {},
   "outputs": [],
   "source": [
    "import nbformat, jupytext\n",
    "import nbdev\n",
    "import tempfile\n",
    "from pathlib import Path"
   ]
  },
  {
   "cell_type": "code",
   "execution_count": null,
   "metadata": {},
   "outputs": [],
   "source": [
    "# Create a temporary directory store notebooks and plain-text files\n",
    "temp_dir = tempfile.TemporaryDirectory()\n",
    "temp_dir_path = Path(temp_dir.name)"
   ]
  },
  {
   "cell_type": "markdown",
   "metadata": {},
   "source": [
    "## `percent`\n",
    "\n"
   ]
  },
  {
   "cell_type": "code",
   "execution_count": null,
   "metadata": {},
   "outputs": [
    {
     "name": "stdout",
     "output_type": "stream",
     "text": [
      "Original file:  ./plaintext_files/test.pct.py\n",
      "Converted file:  /var/folders/22/k6clk3m10258k07mjcnlswt40000gn/T/tmpczn27yfl/pct/test.py\n"
     ]
    }
   ],
   "source": [
    "py_fp = \"./plaintext_files/test.pct.py\"\n",
    "nbdev.export.nb_export(py_fp, lib_path=temp_dir_path)\n",
    "print(\"Original file: \", py_fp)\n",
    "print(\"Converted file: \", temp_dir_path / \"pct/test.py\")"
   ]
  },
  {
   "cell_type": "markdown",
   "metadata": {},
   "source": [
    "## `light`\n",
    "\n"
   ]
  },
  {
   "cell_type": "code",
   "execution_count": null,
   "metadata": {},
   "outputs": [
    {
     "name": "stdout",
     "output_type": "stream",
     "text": [
      "Original file:  ./plaintext_files/test.lgt.py\n",
      "Converted file:  /var/folders/22/k6clk3m10258k07mjcnlswt40000gn/T/tmpczn27yfl/lgt/test.py\n"
     ]
    }
   ],
   "source": [
    "py_fp = \"./plaintext_files/test.lgt.py\"\n",
    "nbdev.export.nb_export(py_fp, lib_path=temp_dir_path)\n",
    "print(\"Original file: \", py_fp)\n",
    "print(\"Converted file: \", temp_dir_path / \"lgt/test.py\")"
   ]
  },
  {
   "cell_type": "markdown",
   "metadata": {},
   "source": [
    "## `sphinx`"
   ]
  },
  {
   "cell_type": "code",
   "execution_count": null,
   "metadata": {},
   "outputs": [
    {
     "name": "stdout",
     "output_type": "stream",
     "text": [
      "Original file:  ./plaintext_files/test.spx.py\n",
      "Converted file:  /var/folders/22/k6clk3m10258k07mjcnlswt40000gn/T/tmpczn27yfl/spx/test.py\n"
     ]
    }
   ],
   "source": [
    "py_fp = \"./plaintext_files/test.spx.py\"\n",
    "nbdev.export.nb_export(py_fp, lib_path=temp_dir_path)\n",
    "print(\"Original file: \", py_fp)\n",
    "print(\"Converted file: \", temp_dir_path / \"spx/test.py\")"
   ]
  },
  {
   "cell_type": "markdown",
   "metadata": {},
   "source": [
    "## `myst`"
   ]
  },
  {
   "cell_type": "code",
   "execution_count": null,
   "metadata": {},
   "outputs": [
    {
     "name": "stdout",
     "output_type": "stream",
     "text": [
      "Original file:  ./plaintext_files/test.myst.md\n",
      "Converted file:  /var/folders/22/k6clk3m10258k07mjcnlswt40000gn/T/tmpczn27yfl/myst/test.py\n"
     ]
    }
   ],
   "source": [
    "py_fp = \"./plaintext_files/test.myst.md\"\n",
    "nbdev.export.nb_export(py_fp, lib_path=temp_dir_path)\n",
    "print(\"Original file: \", py_fp)\n",
    "print(\"Converted file: \", temp_dir_path / \"myst/test.py\")"
   ]
  },
  {
   "cell_type": "markdown",
   "metadata": {},
   "source": [
    "## `pandoc`"
   ]
  },
  {
   "cell_type": "code",
   "execution_count": null,
   "metadata": {},
   "outputs": [
    {
     "name": "stdout",
     "output_type": "stream",
     "text": [
      "Original file:  ./plaintext_files/test.pandoc.md\n",
      "Converted file:  /var/folders/22/k6clk3m10258k07mjcnlswt40000gn/T/tmpczn27yfl/pandoc/test.py\n"
     ]
    }
   ],
   "source": [
    "py_fp = \"./plaintext_files/test.pandoc.md\"\n",
    "nbdev.export.nb_export(py_fp, lib_path=temp_dir_path)\n",
    "print(\"Original file: \", py_fp)\n",
    "print(\"Converted file: \", temp_dir_path / \"pandoc/test.py\")"
   ]
  }
 ],
 "metadata": {
  "kernelspec": {
   "display_name": "python3",
   "language": "python",
   "name": "python3"
  }
 },
 "nbformat": 4,
 "nbformat_minor": 2
}
