{
 "cells": [
  {
   "cell_type": "raw",
   "id": "3e3b86e8-8483-4036-950f-e7141b0e01ab",
   "metadata": {},
   "source": [
    "---\n",
    "skip_showdocs: True\n",
    "---"
   ]
  },
  {
   "cell_type": "code",
   "execution_count": null,
   "id": "a57c5c95-9e94-4462-a4a4-c254812f592c",
   "metadata": {},
   "outputs": [],
   "source": [
    "#|default_exp test_update_directives"
   ]
  },
  {
   "attachments": {},
   "cell_type": "markdown",
   "id": "ca768512-0a56-4310-954c-82ca90061e62",
   "metadata": {},
   "source": [
    "# Test sync.py\n",
    "\n",
    "### This notebook can be used to test nbdev_update. \n",
    "\n",
    "#### ! It should not be exported ! \n",
    "otherwise the cell numbers will be removed from the py file, and further testing of nbdev_update won't be possible.  "
   ]
  },
  {
   "cell_type": "markdown",
   "id": "0ebb900e-faf5-417b-8557-70062f225130",
   "metadata": {},
   "source": [
    "## How to use\n",
    "### manually\n",
    "- edit nbdev/test_update_directives.py and save it  \n",
    "- head over to nbs/api/06_sync.ipynb  \n",
    "- modify one of the functions, eg. _update_nb  \n",
    "- execute in the sync notebook:  \n",
    "\n",
    "```\n",
    "nbdev_update('../../nbdev/test_directives.py')\n",
    "```\n",
    "\n",
    "- and see if this notebook was modified as expected\n",
    "\n",
    "### tests in nbs/api/06_sync.ipynb\n",
    "- use the section with (re)definition of functions and the tests that follow them  "
   ]
  },
  {
   "cell_type": "markdown",
   "id": "d9ce75fd-8f51-4a61-aa42-2c9bcd8d70d7",
   "metadata": {},
   "source": [
    "The following cells also test various combinations of spaces in '#|'"
   ]
  },
  {
   "cell_type": "code",
   "execution_count": null,
   "id": "238a3c7e-4ff4-4e6f-8377-f2ec41bdfdb6",
   "metadata": {},
   "outputs": [],
   "source": [
    "# | export\n",
    "#| output: False\n",
    "\n",
    "\"\"\"\n",
    "Think of something\n",
    "that makes you smile \n",
    "and brightens your day\n",
    "\"\"\"\n",
    "\n",
    "# System import\n",
    "import os\n",
    "# Local import\n",
    "import nbdev.serve"
   ]
  },
  {
   "cell_type": "code",
   "execution_count": null,
   "id": "e4175dcd-2b45-4a1e-971b-c6a43e83d31f",
   "metadata": {},
   "outputs": [
    {
     "name": "stdout",
     "output_type": "stream",
     "text": [
      "test export and eval\n"
     ]
    }
   ],
   "source": [
    "# |exports\n",
    "# |eval: false\n",
    "print(\"1. test export and eval\")"
   ]
  },
  {
   "cell_type": "code",
   "execution_count": null,
   "id": "d3870aff-7673-4e19-9dc6-a422e1a9aa20",
   "metadata": {},
   "outputs": [
    {
     "name": "stdout",
     "output_type": "stream",
     "text": [
      "more cells :D. Let's test eval and hide\n"
     ]
    }
   ],
   "source": [
    "#| eval: false\n",
    "#| hide\n",
    "print(\"2. more cells :D. Let's test eval and hide\")"
   ]
  },
  {
   "cell_type": "code",
   "execution_count": null,
   "id": "117a87dc-60ed-486e-9f11-a4f24ed7d5b5",
   "metadata": {},
   "outputs": [
    {
     "name": "stdout",
     "output_type": "stream",
     "text": [
      "3. nr 2 should be missing from the py file\n"
     ]
    }
   ],
   "source": [
    "#| eval: false\n",
    "#| export\n",
    "print(\"3. nr 2 should be missing from the py file\")"
   ]
  }
 ],
 "metadata": {
  "kernelspec": {
   "display_name": "python3",
   "language": "python",
   "name": "python3"
  }
 },
 "nbformat": 4,
 "nbformat_minor": 5
}
