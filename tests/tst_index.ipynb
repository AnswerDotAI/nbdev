{
  "cells": [
    {
      "cell_type": "markdown",
      "metadata": {},
      "source": [
        "---\n",
        "title: Example Project (from YAML)\n",
        "---"
      ]
    },
    {
      "cell_type": "markdown",
      "metadata": {},
      "source": [
        "# Example Project\n",
        "> Example project"
      ]
    },
    {
      "cell_type": "code",
      "execution_count": null,
      "metadata": {},
      "outputs": [],
      "source": [
        "#| echo: false\n",
        "# from example_proj.core import *"
      ]
    },
    {
      "cell_type": "code",
      "execution_count": null,
      "metadata": {},
      "outputs": [],
      "source": [
        "#| echo: true \n",
        "print(3+4)"
      ]
    },
    {
      "cell_type": "markdown",
      "metadata": {},
      "source": [
        "This file will become your README and also the index of your documentation.\n",
        "\n",
        "## Developer Guide\n",
        "\n",
        "If you are new to using `nbdev` here are some useful pointers to get you started.\n",
        "\n",
        "### Install example_proj in Development mode\n",
        "\n",
        "```sh\n",
        "# make sure example_proj package is installed in development mode\n",
        "$ pip install -e .\n",
        "\n",
        "# make changes under nbs/ directory\n",
        "# ...\n",
        "\n",
        "# compile to have changes apply to example_proj\n",
        "$ nbdev_prepare\n",
        "```\n",
        "\n",
        "## Usage\n",
        "\n",
        "### Installation\n",
        "\n",
        "Install latest from the GitHub [repository][repo]:\n",
        "\n",
        "```sh\n",
        "$ pip install ...\n",
        "```\n",
        "\n",
        "or from [conda][conda]\n",
        "\n",
        "```sh\n",
        "$ conda install -c ...\n",
        "```\n",
        "\n",
        "or from [pypi][pypi]\n",
        "\n",
        "\n",
        "```sh\n",
        "$ pip install ...\n",
        "```\n",
        "\n",
        "## How to use\n",
        "\n",
        "Fill me in please! Don't forget code examples:"
      ]
    },
    {
      "cell_type": "code",
      "execution_count": null,
      "metadata": {},
      "outputs": [],
      "source": [
        "1+1"
      ]
    }
  ],
  "metadata": {
    "kernelspec": {
      "display_name": "Python 3 (ipykernel)",
      "language": "python",
      "name": "python3",
      "path": "/Users/hoo/miniconda3/envs/nbdev/share/jupyter/kernels/python3"
    }
  },
  "nbformat": 4,
  "nbformat_minor": 4
}
