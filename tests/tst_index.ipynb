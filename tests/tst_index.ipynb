{
  "cells": [
    {
      "cell_type": "markdown",
      "metadata": {},
      "source": [
        "---\n",
        "title: \"HAMUX QMD\"\n",
        "---\n",
        "\n",
        "# HAMUX QMD\n",
        "> Energy formulation for deep learning"
      ]
    },
    {
      "cell_type": "code",
      "metadata": {},
      "source": [
        "#| echo: false\n",
        "# from hamux_qmd.core import *"
      ],
      "execution_count": null,
      "outputs": []
    },
    {
      "cell_type": "code",
      "metadata": {},
      "source": [
        "#| echo: true \n",
        "print(3+4)"
      ],
      "execution_count": null,
      "outputs": []
    },
    {
      "cell_type": "markdown",
      "metadata": {},
      "source": [
        "This file will become your README and also the index of your documentation.\n",
        "\n",
        "## Developer Guide\n",
        "\n",
        "If you are new to using `nbdev` here are some useful pointers to get you started.\n",
        "\n",
        "### Install hamux_qmd in Development mode\n",
        "\n",
        "```sh\n",
        "# make sure hamux_qmd package is installed in development mode\n",
        "$ pip install -e .\n",
        "\n",
        "# make changes under nbs/ directory\n",
        "# ...\n",
        "\n",
        "# compile to have changes apply to hamux_qmd\n",
        "$ nbdev_prepare\n",
        "```\n",
        "\n",
        "## Usage\n",
        "\n",
        "### Installation\n",
        "\n",
        "Install latest from the GitHub [repository][repo]:\n",
        "\n",
        "```sh\n",
        "$ pip install git+https://github.com/bhoov/hamux_qmd.git\n",
        "```\n",
        "\n",
        "or from [conda][conda]\n",
        "\n",
        "```sh\n",
        "$ conda install -c bhoov hamux_qmd\n",
        "```\n",
        "\n",
        "or from [pypi][pypi]\n",
        "\n",
        "\n",
        "```sh\n",
        "$ pip install hamux_qmd\n",
        "```\n",
        "\n",
        "\n",
        "[repo]: https://github.com/bhoov/hamux_qmd\n",
        "[docs]: https://bhoov.github.io/hamux_qmd/\n",
        "[pypi]: https://pypi.org/project/hamux_qmd/\n",
        "[conda]: https://anaconda.org/bhoov/hamux_qmd\n",
        "\n",
        "## How to use\n",
        "\n",
        "Fill me in please! Don't forget code examples:"
      ]
    },
    {
      "cell_type": "code",
      "metadata": {},
      "source": [
        "1+1"
      ],
      "execution_count": null,
      "outputs": []
    }
  ],
  "metadata": {
    "kernelspec": {
      "name": "python3",
      "language": "python",
      "display_name": "Python 3 (ipykernel)",
      "path": "/Users/hoo/miniconda3/envs/nbdev/share/jupyter/kernels/python3"
    }
  },
  "nbformat": 4,
  "nbformat_minor": 4
}