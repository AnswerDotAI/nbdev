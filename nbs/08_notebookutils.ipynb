{
 "cells": [
  {
   "cell_type": "code",
   "execution_count": 1,
   "metadata": {},
   "outputs": [],
   "source": [
    "# default_exp notebookutils"
   ]
  },
  {
   "cell_type": "code",
   "execution_count": 2,
   "metadata": {},
   "outputs": [],
   "source": [
    "#export\n",
    "import logging\n",
    "import os\n",
    "from IPython.core.magic import (Magics, magics_class)\n",
    "from nbdev.imports import Config\n",
    "from nbdev.export import notebook2script"
   ]
  },
  {
   "cell_type": "code",
   "execution_count": 3,
   "metadata": {},
   "outputs": [],
   "source": [
    "#export\n",
    "@magics_class\n",
    "class NbdevSaver:\n",
    "    last_update = None\n",
    "    def pre_execute(self):\n",
    "        logging.debug(\"Saving nbdev scripts\")\n",
    "        if self.last_update is None:\n",
    "            logging.debug(\"First run, refreshing cache\")\n",
    "            self.last_update = self.get_file_timestamps()\n",
    "            for file in self.last_update.keys():\n",
    "                self.update_file(fname=str(file))\n",
    "        else:\n",
    "            previous_changes = self.last_update\n",
    "            self.last_update = self.get_file_timestamps()\n",
    "            for file in self.last_update:\n",
    "                if file in previous_changes and previous_changes[file] == self.last_update[file]:\n",
    "                    logging.debug(\"Skipping %s\", file)\n",
    "                else:\n",
    "                    logging.debug(\"Updating %s\", file)\n",
    "                    self.update_file(fname=str(file))\n",
    "                    \n",
    "    def update_file(self, fname):\n",
    "        try:\n",
    "            notebook2script(fname=fname, silent=True)\n",
    "        except Exception as e:\n",
    "            logging.exception(\"Failed to export nbdev notebook %s\", str(fname))\n",
    "    \n",
    "    def get_file_timestamps(self):\n",
    "        return dict([(f, os.stat(f).st_mtime) for f in Config().nbs_path.glob('*.ipynb') if not f.name.startswith('_')])\n",
    "        \n",
    "def load_ipython_extension(ip):\n",
    "    \"\"\"Load the extension in IPython.\"\"\"\n",
    "    nbdev_saver = NbdevSaver()\n",
    "    ip.register_magics(nbdev_saver)\n",
    "    ip.events.register('pre_execute', nbdev_saver.pre_execute)"
   ]
  },
  {
   "cell_type": "markdown",
   "metadata": {},
   "source": [
    "### Enable notebook auto saving"
   ]
  },
  {
   "cell_type": "markdown",
   "metadata": {},
   "source": [
    "This will automatically export the code for your notebook.\n",
    "\n",
    "FIXME : On save? - Not taking the latest up to date data since we run without saving?!"
   ]
  },
  {
   "cell_type": "code",
   "execution_count": 4,
   "metadata": {},
   "outputs": [],
   "source": [
    "# Optionally enable debug information\n",
    "logging.basicConfig(level=logging.DEBUG)"
   ]
  },
  {
   "cell_type": "code",
   "execution_count": 5,
   "metadata": {},
   "outputs": [],
   "source": [
    "# Load the extension\n",
    "%load_ext nbdev.notebookutils"
   ]
  },
  {
   "cell_type": "code",
   "execution_count": 6,
   "metadata": {},
   "outputs": [
    {
     "name": "stderr",
     "output_type": "stream",
     "text": [
      "DEBUG:root:Saving nbdev scripts\n",
      "DEBUG:root:First run, refreshing cache\n"
     ]
    }
   ],
   "source": [
    "# Optionally enable autoreload module to auto reload active notebooks\n",
    "%load_ext autoreload\n",
    "%autoreload 2"
   ]
  },
  {
   "cell_type": "code",
   "execution_count": 7,
   "metadata": {},
   "outputs": [
    {
     "name": "stderr",
     "output_type": "stream",
     "text": [
      "DEBUG:root:Saving nbdev scripts\n",
      "DEBUG:root:Skipping /home/neuron/src/sch/nbdev/nbs/05_merge.ipynb\n",
      "DEBUG:root:Skipping /home/neuron/src/sch/nbdev/nbs/index.ipynb\n",
      "DEBUG:root:Skipping /home/neuron/src/sch/nbdev/nbs/tutorial.ipynb\n",
      "DEBUG:root:Skipping /home/neuron/src/sch/nbdev/nbs/07_clean.ipynb\n",
      "DEBUG:root:Skipping /home/neuron/src/sch/nbdev/nbs/08_notebookutils.ipynb\n",
      "DEBUG:root:Skipping /home/neuron/src/sch/nbdev/nbs/00_export.ipynb\n",
      "DEBUG:root:Skipping /home/neuron/src/sch/nbdev/nbs/99_search.ipynb\n",
      "DEBUG:root:Skipping /home/neuron/src/sch/nbdev/nbs/03_export2html.ipynb\n",
      "DEBUG:root:Skipping /home/neuron/src/sch/nbdev/nbs/01_sync.ipynb\n",
      "DEBUG:root:Skipping /home/neuron/src/sch/nbdev/nbs/02_showdoc.ipynb\n",
      "DEBUG:root:Skipping /home/neuron/src/sch/nbdev/nbs/04_test.ipynb\n",
      "DEBUG:root:Skipping /home/neuron/src/sch/nbdev/nbs/06_cli.ipynb\n"
     ]
    },
    {
     "name": "stdout",
     "output_type": "stream",
     "text": [
      "Run your code as normal\n"
     ]
    }
   ],
   "source": [
    "print(\"Run your code as normal\")"
   ]
  },
  {
   "cell_type": "code",
   "execution_count": 8,
   "metadata": {},
   "outputs": [
    {
     "name": "stderr",
     "output_type": "stream",
     "text": [
      "DEBUG:root:Saving nbdev scripts\n",
      "DEBUG:root:Skipping /home/neuron/src/sch/nbdev/nbs/05_merge.ipynb\n",
      "DEBUG:root:Skipping /home/neuron/src/sch/nbdev/nbs/index.ipynb\n",
      "DEBUG:root:Skipping /home/neuron/src/sch/nbdev/nbs/tutorial.ipynb\n",
      "DEBUG:root:Skipping /home/neuron/src/sch/nbdev/nbs/07_clean.ipynb\n",
      "DEBUG:root:Skipping /home/neuron/src/sch/nbdev/nbs/08_notebookutils.ipynb\n",
      "DEBUG:root:Skipping /home/neuron/src/sch/nbdev/nbs/00_export.ipynb\n",
      "DEBUG:root:Skipping /home/neuron/src/sch/nbdev/nbs/99_search.ipynb\n",
      "DEBUG:root:Skipping /home/neuron/src/sch/nbdev/nbs/03_export2html.ipynb\n",
      "DEBUG:root:Skipping /home/neuron/src/sch/nbdev/nbs/01_sync.ipynb\n",
      "DEBUG:root:Skipping /home/neuron/src/sch/nbdev/nbs/02_showdoc.ipynb\n",
      "DEBUG:root:Skipping /home/neuron/src/sch/nbdev/nbs/04_test.ipynb\n",
      "DEBUG:root:Skipping /home/neuron/src/sch/nbdev/nbs/06_cli.ipynb\n"
     ]
    },
    {
     "name": "stdout",
     "output_type": "stream",
     "text": [
      "Executive runs will refresh only files that have been changed\n"
     ]
    }
   ],
   "source": [
    "print(\"Executive runs will refresh only files that have been changed\")"
   ]
  },
  {
   "cell_type": "code",
   "execution_count": 10,
   "metadata": {},
   "outputs": [
    {
     "name": "stderr",
     "output_type": "stream",
     "text": [
      "DEBUG:root:Saving nbdev scripts\n",
      "DEBUG:root:Skipping /home/neuron/src/sch/nbdev/nbs/05_merge.ipynb\n",
      "DEBUG:root:Skipping /home/neuron/src/sch/nbdev/nbs/index.ipynb\n",
      "DEBUG:root:Skipping /home/neuron/src/sch/nbdev/nbs/tutorial.ipynb\n",
      "DEBUG:root:Skipping /home/neuron/src/sch/nbdev/nbs/07_clean.ipynb\n",
      "DEBUG:root:Updating /home/neuron/src/sch/nbdev/nbs/08_notebookutils.ipynb\n",
      "DEBUG:root:Skipping /home/neuron/src/sch/nbdev/nbs/00_export.ipynb\n",
      "DEBUG:root:Skipping /home/neuron/src/sch/nbdev/nbs/99_search.ipynb\n",
      "DEBUG:root:Skipping /home/neuron/src/sch/nbdev/nbs/03_export2html.ipynb\n",
      "DEBUG:root:Skipping /home/neuron/src/sch/nbdev/nbs/01_sync.ipynb\n",
      "DEBUG:root:Skipping /home/neuron/src/sch/nbdev/nbs/02_showdoc.ipynb\n",
      "DEBUG:root:Skipping /home/neuron/src/sch/nbdev/nbs/04_test.ipynb\n",
      "DEBUG:root:Skipping /home/neuron/src/sch/nbdev/nbs/06_cli.ipynb\n"
     ]
    }
   ],
   "source": [
    "#hide\n",
    "notebook2script(silent=True)"
   ]
  },
  {
   "cell_type": "code",
   "execution_count": null,
   "metadata": {},
   "outputs": [],
   "source": []
  }
 ],
 "metadata": {
  "kernelspec": {
   "display_name": "Python 3",
   "language": "python",
   "name": "python3"
  },
  "language_info": {
   "codemirror_mode": {
    "name": "ipython",
    "version": 3
   },
   "file_extension": ".py",
   "mimetype": "text/x-python",
   "name": "python",
   "nbconvert_exporter": "python",
   "pygments_lexer": "ipython3",
   "version": "3.6.9"
  }
 },
 "nbformat": 4,
 "nbformat_minor": 4
}
