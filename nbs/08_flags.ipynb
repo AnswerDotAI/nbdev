{
 "cells": [
  {
   "cell_type": "markdown",
   "metadata": {},
   "source": [
    "# Flags\n",
    "\n",
    "> Flags are custom ipython magics, that tell nbdev how to process cells in a notebook."
   ]
  },
  {
   "cell_type": "markdown",
   "metadata": {},
   "source": [
    "We test the flags defined in `flags.py` in this notebook.\n",
    "\n",
    "The nbdev tutorial and other nbdev modules show how these flags are used."
   ]
  },
  {
   "cell_type": "markdown",
   "metadata": {},
   "source": [
    "## TODO: move this section to 00_export/tutorial?"
   ]
  },
  {
   "cell_type": "markdown",
   "metadata": {},
   "source": [
    "Any nbdev import will \"import\" all flags via `nbdev.__init__.py`. e.g.\n",
    "- `import nbdev`\n",
    "- `from nbdev.imports import *`\n",
    "\n",
    "but if you want the convenience of importing `show_doc` and `notebook2script` as well, use"
   ]
  },
  {
   "cell_type": "code",
   "execution_count": null,
   "metadata": {},
   "outputs": [],
   "source": [
    "from nbdev import *"
   ]
  },
  {
   "cell_type": "markdown",
   "metadata": {},
   "source": [
    "once imported, we can see that some flags can print warnings\n",
    "\n",
    "```python\n",
    "%nbdev_export bad module name\n",
    "```\n",
    "\n",
    "<pre>Warning: module_name \"bad module name\" must not contain whitespace</pre>\n",
    "\n",
    "and/or feedback\n",
    "\n",
    "```python\n",
    "%nbdev_default_export _dummy_flags\n",
    "```\n",
    "\n",
    "<pre>\n",
    "Cells will be exported to nbdev._dummy_flags,\n",
    "unless a different module is specified after the `%nbdev_export` magic: `%nbdev_export special.module`\n",
    "</pre>"
   ]
  },
  {
   "cell_type": "markdown",
   "metadata": {},
   "source": [
    "## We can test magics in ipython ..."
   ]
  },
  {
   "cell_type": "code",
   "execution_count": null,
   "metadata": {},
   "outputs": [],
   "source": [
    "from nbdev.imports import test_eq, IN_IPYTHON\n",
    "from contextlib import redirect_stdout\n",
    "import io\n",
    "\n",
    "if IN_IPYTHON:\n",
    "    def test_flag_output(s, exp):\n",
    "        test_eq(s.getvalue().strip(), exp.strip())\n",
    "    s = io.StringIO()\n",
    "    with redirect_stdout(s):\n",
    "        %nbdev_fastai2_test\n",
    "        test_flag_output(s, '')\n",
    "        %nbdev_fastai2_test all\n",
    "        test_flag_output(s, '')\n",
    "        %nbdev_fastai2_test ALL\n",
    "        test_flag_output(s, 'UsageError: Invalid option \"ALL\". Usage `%nbdev_fastai2_test [all]`')"
   ]
  },
  {
   "cell_type": "markdown",
   "metadata": {},
   "source": [
    "## ... but we need tests to run in normal python too for CI etc\n",
    "\n",
    "do we need need to run tests in normal python? even if we don't, this kind of testing needs much less code than the above\n",
    "\n",
    "Note: We don't `del` the functions in `flags.py` so that we can test them here"
   ]
  },
  {
   "cell_type": "code",
   "execution_count": null,
   "metadata": {},
   "outputs": [],
   "source": [
    "def test_flag_output(f, line, exp):\n",
    "    \"Test that `f(line)` prints `exp` to stdout\"\n",
    "    s = io.StringIO()\n",
    "    with redirect_stdout(s): f(line)\n",
    "    test_eq(s.getvalue().strip(), exp.strip())\n",
    "\n",
    "from nbdev.flags import nbdev_default_export\n",
    "test_flag_output(nbdev_default_export, '', 'UsageError: module_name is missing. Usage `%nbdev_default_export module_name`')\n",
    "test_flag_output(nbdev_default_export, '  ', 'UsageError: module_name is missing. Usage `%nbdev_default_export module_name`')\n",
    "test_flag_output(nbdev_default_export, 'bad module name', 'UsageError: module_name \"bad module name\" must not contain whitespace')\n",
    "test_flag_output(nbdev_default_export, 'special.module', \n",
    "            'Cells will be exported to nbdev.special.module,\\n' +\n",
    "            'unless a different module is specified after an export flag: `%nbdev_export special.module`')\n",
    "\n",
    "from nbdev.flags import nbdev_export, nbdev_export_and_show, nbdev_export_internal\n",
    "for f in [nbdev_export, nbdev_export_and_show, nbdev_export_internal]:\n",
    "    test_flag_output(f, '', '')\n",
    "    test_flag_output(f, ' ', '')\n",
    "    test_flag_output(f, 'special.module', '')\n",
    "    test_flag_output(f, 'bad module name', 'UsageError: module_name \"bad module name\" must not contain whitespace')\n",
    "\n",
    "from nbdev.flags import nbdev_hide, nbdev_hide_input, nbdev_hide_output\n",
    "for f in [nbdev_hide, nbdev_hide_input, nbdev_hide_output]:\n",
    "    test_flag_output(f, '', '')\n",
    "    test_flag_output(f, 'any old rubbish', '')\n",
    "\n",
    "from nbdev.flags import nbdev_default_class_level\n",
    "for i in range(1,7):\n",
    "    test_flag_output(nbdev_default_class_level, str(i), '')\n",
    "test_flag_output(nbdev_default_class_level, '0', 'UsageError: Invalid class level \"0\". Usage `%nbdev_default_class_level [int between 1 and 6]`')\n",
    "test_flag_output(nbdev_default_class_level, '7', 'UsageError: Invalid class level \"7\". Usage `%nbdev_default_class_level [int between 1 and 6]`')\n",
    "test_flag_output(nbdev_default_class_level, 'not_a_num', 'UsageError: Invalid class level \"not_a_num\". Usage `%nbdev_default_class_level [int between 1 and 6]`')\n",
    "\n",
    "from nbdev.flags import nbdev_collapse_input, nbdev_collapse_output\n",
    "for f in [nbdev_collapse_input, nbdev_collapse_output]:\n",
    "    test_flag_output(f, '', '')\n",
    "    test_flag_output(f, ' open ', '')\n",
    "    test_flag_output(f, 'open', '')\n",
    "    test_flag_output(f, 'OPEN', f'UsageError: Invalid option \"OPEN\". Usage `%{f.__name__} [open]`')\n",
    "    \n",
    "from nbdev.flags import nbdev_fastai2_test\n",
    "test_flag_output(nbdev_fastai2_test, '', '')\n",
    "test_flag_output(nbdev_fastai2_test, ' ', '')\n",
    "test_flag_output(nbdev_fastai2_test, 'all', '')\n",
    "test_flag_output(nbdev_fastai2_test, 'All', 'UsageError: Invalid option \"All\". Usage `%nbdev_fastai2_test [all]`')"
   ]
  },
  {
   "cell_type": "markdown",
   "metadata": {},
   "source": [
    "# Open questions"
   ]
  },
  {
   "cell_type": "markdown",
   "metadata": {},
   "source": [
    "## have i missed any flags?\n",
    "\n",
    "do we need to add any more?"
   ]
  },
  {
   "cell_type": "markdown",
   "metadata": {},
   "source": [
    "## Is it OK to not support the current comment flags when we switch to magics?\n",
    "\n",
    "Assuming we write a migration script to replace \"comment flags\" with \"magic flags\" in existing projects."
   ]
  },
  {
   "cell_type": "markdown",
   "metadata": {},
   "source": [
    "## nbdev_default_export\n",
    "\n",
    "### Would now be a good time to make the notebook name the module name?\n",
    "maybe %nbdev_default_export with no module name means we should use the nb name?"
   ]
  },
  {
   "cell_type": "markdown",
   "metadata": {},
   "source": [
    "## Changes to `__init__.py`\n",
    "\n",
    "I'm suggesting we add the following to `__init__.py` so that a single `from nbdev import *` gets you the essential magics and the most common nbdev functions (only a few fastai2 nbs don't use show_doc and notebook2script).\n",
    "\n",
    "``` python\n",
    "if IN_IPYTHON:\n",
    "    from .flags import *\n",
    "    from .showdoc import show_doc\n",
    "    from .export import notebook2script\n",
    "```\n",
    "\n",
    "even if we don't include show_doc and notebook2script in \\_\\_init__.py, we can have a 1st cell that looks like;\n",
    "``` python\n",
    "from nbdev import *\n",
    "%nbdev_default_export export2html\n",
    "%nbdev_default_class_level 3\n",
    "```"
   ]
  },
  {
   "cell_type": "markdown",
   "metadata": {},
   "source": [
    "## how about we consolidate to just 2 collapse flags ...\n",
    "\n",
    "that are closed by default - but have a single option to make the collapse element open by default\n",
    "\n",
    "```python\n",
    "%nbdev_collapse_input\n",
    "%nbdev_collapse_input open\n",
    "\n",
    "%nbdev_collapse_output\n",
    "%nbdev_collapse_output open\n",
    "```\n",
    "\n",
    "we currently have collapse, collapse_show, collapse-show, collapse_hide, collapse-hide, collapse_output, collapse-output (and the docs refer to collapse_open <- might be a mistake?)"
   ]
  },
  {
   "cell_type": "code",
   "execution_count": null,
   "metadata": {},
   "outputs": [
    {
     "name": "stdout",
     "output_type": "stream",
     "text": [
      "Converted 00_export.ipynb.\n",
      "Converted 01_sync.ipynb.\n",
      "Converted 02_showdoc.ipynb.\n",
      "Converted 03_export2html.ipynb.\n",
      "Converted 04_test.ipynb.\n",
      "Converted 05_merge.ipynb.\n",
      "Converted 06_cli.ipynb.\n",
      "Converted 07_clean.ipynb.\n",
      "Converted 08_flags.ipynb.\n",
      "Converted 99_search.ipynb.\n",
      "Converted index.ipynb.\n",
      "Converted tutorial.ipynb.\n"
     ]
    }
   ],
   "source": [
    "%nbdev_hide\n",
    "notebook2script()"
   ]
  }
 ],
 "metadata": {
  "kernelspec": {
   "display_name": "Python 3",
   "language": "python",
   "name": "python3"
  }
 },
 "nbformat": 4,
 "nbformat_minor": 4
}
