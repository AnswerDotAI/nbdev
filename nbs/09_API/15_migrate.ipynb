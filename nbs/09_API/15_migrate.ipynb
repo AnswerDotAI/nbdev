{
 "cells": [
  {
   "cell_type": "code",
   "execution_count": null,
   "id": "c497928c-8111-473e-aeae-38975d78f707",
   "metadata": {},
   "outputs": [],
   "source": [
    "#|default_exp migrate"
   ]
  },
  {
   "cell_type": "markdown",
   "id": "e9c38f72-896e-45ed-8809-731bfa7b2178",
   "metadata": {},
   "source": [
    "# migrate\n",
    "> Utilities for migrating to nbdev"
   ]
  },
  {
   "cell_type": "code",
   "execution_count": null,
   "id": "5b687fa0-dc50-48df-8bfc-e98df34e7572",
   "metadata": {},
   "outputs": [],
   "source": [
    "#|export\n",
    "from nbdev.process import first_code_ln\n",
    "from nbdev.processors import nb_fmdict, construct_fm, insert_frontmatter, is_frontmatter, yml2dict, filter_fm\n",
    "from nbdev.config import get_config, read_nb\n",
    "from nbdev.sync import write_nb\n",
    "from nbdev.clean import process_write\n",
    "from nbdev.showdoc import show_doc\n",
    "from fastcore.all import *\n",
    "import shutil"
   ]
  },
  {
   "cell_type": "markdown",
   "id": "4b088531-3b5c-4d6a-9969-b0ff90633549",
   "metadata": {},
   "source": [
    "## Convert fastpages blog posts to nbdev"
   ]
  },
  {
   "cell_type": "code",
   "execution_count": null,
   "id": "a7edd980-b987-4f45-8c58-65ed5f145575",
   "metadata": {},
   "outputs": [],
   "source": [
    "#|export\n",
    "def _get_fm(path): return nb_fmdict(read_nb(path), remove=False)\n",
    "def _get_raw_fm(nb): \n",
    "    return first(L(nb.cells).filter(lambda x: x.cell_type == 'raw')).source"
   ]
  },
  {
   "cell_type": "code",
   "execution_count": null,
   "id": "52f60fb5-bc54-474a-876c-9146dd092681",
   "metadata": {},
   "outputs": [],
   "source": [
    "#|export\n",
    "def _cat_slug(fmdict):\n",
    "    \"Get the partial slug from the category front matter.\"\n",
    "    return '/' + '/'.join(sorted(fmdict.get('categories', '')))"
   ]
  },
  {
   "cell_type": "code",
   "execution_count": null,
   "id": "d449b10d-60de-417e-bfab-97af1f3b4b7b",
   "metadata": {},
   "outputs": [],
   "source": [
    "#|hide\n",
    "_fm1 = _get_fm('../../tests/2020-09-01-fastcore.ipynb')\n",
    "test_eq(_cat_slug(_fm1), '/fastai/fastcore')\n",
    "\n",
    "_fm2 = _get_fm('../../tests/2020-02-20-test.ipynb')\n",
    "test_eq(_cat_slug(_fm2), '/jupyter')"
   ]
  },
  {
   "cell_type": "code",
   "execution_count": null,
   "id": "9fac0338-a503-4680-984f-60153843d5ef",
   "metadata": {},
   "outputs": [],
   "source": [
    "#|export\n",
    "def _file_slug(fname): \n",
    "    \"Get the partial slug from the filename.\"\n",
    "    p = Path(fname)\n",
    "    dt = '/'+p.name[:10].replace('-', '/')+'/'\n",
    "    return dt + p.stem[11:]    "
   ]
  },
  {
   "cell_type": "code",
   "execution_count": null,
   "id": "65d5859a-571a-4ad7-8c50-57765b4603a8",
   "metadata": {},
   "outputs": [],
   "source": [
    "#|hide\n",
    "test_eq(_file_slug('../../tests/2020-09-01-fastcore.ipynb'), \n",
    "        '/2020/09/01/fastcore')"
   ]
  },
  {
   "cell_type": "code",
   "execution_count": null,
   "id": "244b0d01-a166-4549-9a45-1f8b1195c3c8",
   "metadata": {},
   "outputs": [],
   "source": [
    "#|export\n",
    "def _add_alias(fm:dict, path:Path):\n",
    "    if 'permalink' in fm: fm['aliases'] = [f\"{fm.pop('permalink').strip()}\"]\n",
    "    else: fm['aliases'] = [f'{_cat_slug(fm) + _file_slug(path)}']"
   ]
  },
  {
   "cell_type": "markdown",
   "id": "120a9d51-bae9-4f22-8d6e-0711d12b08ab",
   "metadata": {},
   "source": [
    "### Migrate notebooks"
   ]
  },
  {
   "cell_type": "code",
   "execution_count": null,
   "id": "c8440f8b-f69e-44d2-8556-8869c1eedf0f",
   "metadata": {},
   "outputs": [],
   "source": [
    "#|export\n",
    "def migrate_nb_fm(path, overwrite=True):\n",
    "    \"Migrate fastpages front matter in notebooks to a raw cell.\"\n",
    "    nb = read_nb(path)\n",
    "    fm = nb_fmdict(nb)\n",
    "    _add_alias(fm, path)\n",
    "    insert_frontmatter(nb, fm_dict=fm)\n",
    "    if overwrite: write_nb(nb, path)\n",
    "    return nb"
   ]
  },
  {
   "cell_type": "code",
   "execution_count": null,
   "id": "a003953e-60d9-4374-98e6-451c2f03bbff",
   "metadata": {},
   "outputs": [
    {
     "name": "stdout",
     "output_type": "stream",
     "text": [
      "---\n",
      "aliases:\n",
      "- /fastcore/\n",
      "author: <a href='https://twitter.com/HamelHusain'>Hamel Husain</a>\n",
      "categories:\n",
      "- fastcore\n",
      "- fastai\n",
      "comments: true\n",
      "description: A unique python library that extends the python programming language\n",
      "  and provides utilities that enhance productivity.\n",
      "image: images/copied_from_nb/fastcore_imgs/td.png\n",
      "title: 'fastcore: An Underrated Python Library'\n",
      "\n",
      "---\n"
     ]
    }
   ],
   "source": [
    "_nb = migrate_nb_fm('../../tests/2020-09-01-fastcore.ipynb', overwrite=False)\n",
    "print(_get_raw_fm(_nb))"
   ]
  },
  {
   "cell_type": "code",
   "execution_count": null,
   "id": "2010dbfc-be80-428c-a9cf-dd8fc80ac972",
   "metadata": {},
   "outputs": [
    {
     "name": "stdout",
     "output_type": "stream",
     "text": [
      "---\n",
      "aliases:\n",
      "- /jupyter/2020/02/20/test\n",
      "categories:\n",
      "- jupyter\n",
      "comments: true\n",
      "description: A tutorial of fastpages for Jupyter notebooks.\n",
      "image: images/chart-preview.png\n",
      "title: Fastpages Notebook Blog Post\n",
      "\n",
      "---\n"
     ]
    }
   ],
   "source": [
    "_nb = migrate_nb_fm('../../tests/2020-02-20-test.ipynb', overwrite=False)\n",
    "print(_get_raw_fm(_nb))"
   ]
  },
  {
   "cell_type": "markdown",
   "id": "4b76a431-7490-4021-9677-0cc17ee4bab1",
   "metadata": {},
   "source": [
    "### Migrate Markdown Files"
   ]
  },
  {
   "cell_type": "code",
   "execution_count": null,
   "id": "4cb91f17-ea7d-49c7-888f-98e32a3dcd1e",
   "metadata": {},
   "outputs": [],
   "source": [
    "#|export\n",
    "_re_fm_md = re.compile(r'^---(.*\\S+.)?---', flags=re.DOTALL)\n",
    "\n",
    "def _md_fmdict(txt):\n",
    "    \"Get front matter as a dict from a markdown file.\"\n",
    "    m = _re_fm_md.match(txt)\n",
    "    if m: return yml2dict(m.group(1))\n",
    "    else: return {}"
   ]
  },
  {
   "cell_type": "code",
   "execution_count": null,
   "id": "921a86d9-231a-475d-bf2c-e74746ec9b77",
   "metadata": {},
   "outputs": [],
   "source": [
    "#|hide\n",
    "_mdtxt = Path('../../tests/2020-01-14-test-markdown-post.md').read_text()\n",
    "_res = _md_fmdict(_mdtxt)"
   ]
  },
  {
   "cell_type": "code",
   "execution_count": null,
   "id": "df18134b-427f-4798-8f04-3386e7d5a2ba",
   "metadata": {},
   "outputs": [],
   "source": [
    "#|hide\n",
    "test_eq(_res, {'toc': True,\n",
    "               'layout': 'post',\n",
    "               'description': 'A minimal example of using markdown with fastpages.',\n",
    "               'categories': ['markdown'],\n",
    "               'title': 'An Example Markdown Post'})"
   ]
  },
  {
   "cell_type": "code",
   "execution_count": null,
   "id": "d5d575f3-b3b8-487d-8740-b1ebdccf6b34",
   "metadata": {},
   "outputs": [],
   "source": [
    "#|export\n",
    "def migrate_md_fm(path, overwrite=True):\n",
    "    \"Make fastpages front matter in markdown files quarto compliant.\"\n",
    "    p = Path(path)\n",
    "    md = p.read_text()\n",
    "    fm = _md_fmdict(md)\n",
    "    if fm:\n",
    "        _add_alias(fm, path)\n",
    "        txt = _re_fm_md.sub(construct_fm(filter_fm(fm)), md)\n",
    "        if overwrite: p.write_text(txt)\n",
    "        return txt\n",
    "    else: return md "
   ]
  },
  {
   "cell_type": "markdown",
   "id": "f2fc664a-7dcd-409c-8051-2a18ecda6228",
   "metadata": {},
   "source": [
    "Here is what the front matter of a markdown post looks like before:"
   ]
  },
  {
   "cell_type": "code",
   "execution_count": null,
   "id": "cbebe788-63cd-4b67-bbc3-80b2eabf712d",
   "metadata": {},
   "outputs": [
    {
     "name": "stdout",
     "output_type": "stream",
     "text": [
      "---\n",
      "toc: true\n",
      "layout: post\n",
      "description: A minimal example of using markdown with fastpages.\n",
      "categories: [markdown]\n",
      "title: An Example Markdown Post\n",
      "---\n",
      "# Example Markdown Post\n",
      "\n",
      "## Basic setup\n",
      "\n",
      "Jekyll requires blog post files to be named according to the following format:\n"
     ]
    }
   ],
   "source": [
    "#|eval: false\n",
    "print(run('head -n13 ../../tests/2020-01-14-test-markdown-post.md'))"
   ]
  },
  {
   "cell_type": "markdown",
   "id": "5da2e267-485a-453a-b3bd-3eae01327187",
   "metadata": {},
   "source": [
    "And this is what it looks like after:"
   ]
  },
  {
   "cell_type": "code",
   "execution_count": null,
   "id": "734aa051-bc72-4f75-bfbd-7abd45126184",
   "metadata": {},
   "outputs": [
    {
     "name": "stdout",
     "output_type": "stream",
     "text": [
      "---\n",
      "aliases:\n",
      "- /markdown/2020/01/14/test-markdown-post\n",
      "categories:\n",
      "- markdown\n",
      "description: A minimal example of using markdown with fastpages.\n",
      "title: An Example Markdown Post\n",
      "\n",
      "---\n",
      "# Example Markdown Post\n",
      "\n",
      "## Basic setup\n",
      "\n",
      "Jekyll requires blog post files to be named according to the following format:\n",
      "\n"
     ]
    }
   ],
   "source": [
    "_res = migrate_md_fm('../../tests/2020-01-14-test-markdown-post.md', overwrite=False)\n",
    "print(_res[:300])"
   ]
  },
  {
   "cell_type": "code",
   "execution_count": null,
   "id": "549a2605-9835-45bc-b0ae-4bdaa6d44aa7",
   "metadata": {},
   "outputs": [],
   "source": [
    "#|hide\n",
    "assert \"\"\"---\n",
    "aliases:\n",
    "- /markdown/2020/01/14/test-markdown-post\n",
    "categories:\n",
    "- markdown\n",
    "description: A minimal example of using markdown with fastpages.\n",
    "title: An Example Markdown Post\n",
    "\n",
    "---\"\"\" in _res"
   ]
  },
  {
   "cell_type": "markdown",
   "id": "bdbb6379",
   "metadata": {},
   "source": [
    "## Convert nbdev v1 projects to nbdev v2"
   ]
  },
  {
   "cell_type": "markdown",
   "id": "7ea931c9-e3a8-428e-8d41-61b0390254b8",
   "metadata": {},
   "source": [
    "### Directives\n",
    "\n",
    "nbdev v2 directives start with a `#|` whereas v1 directives were comments without a pipe `|`."
   ]
  },
  {
   "cell_type": "code",
   "execution_count": null,
   "id": "1abf7dc6-4a01-4c44-bdc3-0147820091ca",
   "metadata": {},
   "outputs": [],
   "source": [
    "#|export\n",
    "_alias = merge({k:'code-fold: true' for k in ['collapse', 'collapse_input', 'collapse_hide']}, {'collapse_show':'code-fold: show'})\n",
    "def _subv1(s): return _alias.get(s, s)"
   ]
  },
  {
   "cell_type": "code",
   "execution_count": null,
   "id": "0dde9fe8-d3ad-47b8-bd87-85b9536e9f96",
   "metadata": {},
   "outputs": [],
   "source": [
    "#|export\n",
    "def _re_v1():\n",
    "    d = ['default_exp', 'export', 'exports', 'exporti', 'hide', 'hide_input', 'collapse_show', 'collapse',\n",
    "         'collapse_hide', 'collapse_input', 'hide_output',  'default_cls_lvl']\n",
    "    d += L(get_config().tst_flags).filter()\n",
    "    d += [s.replace('_', '-') for s in d] # allow for hyphenated version of old directives\n",
    "    _tmp = '|'.join(list(set(d)))\n",
    "    return re.compile(f\"^[ \\f\\v\\t]*?(#)\\s*({_tmp})(?!\\S)\", re.MULTILINE)\n",
    "\n",
    "def _repl_directives(code_str): \n",
    "    def _fmt(x): return f\"#| {_subv1(x[2].replace('-', '_').strip())}\"\n",
    "    return _re_v1().sub(_fmt, code_str)"
   ]
  },
  {
   "cell_type": "code",
   "execution_count": null,
   "id": "5a7ea98f-7211-4e24-b2c9-bdf3ee833480",
   "metadata": {},
   "outputs": [
    {
     "data": {
      "text/markdown": [
       "---\n",
       "\n",
       "#### _repl_directives\n",
       "\n",
       ">      _repl_directives (code_str)"
      ],
      "text/plain": [
       "<nbdev.showdoc.BasicMarkdownRenderer>"
      ]
     },
     "execution_count": null,
     "metadata": {},
     "output_type": "execute_result"
    }
   ],
   "source": [
    "show_doc(_repl_directives)"
   ]
  },
  {
   "cell_type": "markdown",
   "id": "c9fee5f4-6771-4c38-879e-4e1a0a47dd5f",
   "metadata": {},
   "source": [
    "for example, if any of the lines below are valid nbdev v1 directives, they replaced with a `#|`:"
   ]
  },
  {
   "cell_type": "code",
   "execution_count": null,
   "id": "610dcd47-b3cc-487a-905f-2796a6ebe4f8",
   "metadata": {},
   "outputs": [],
   "source": [
    "#|hide\n",
    "_test_dir = \"\"\"\n",
    "#default_exp\n",
    " #export\n",
    "# collapse-show\n",
    "#collapse-hide\n",
    "#collapse\n",
    "# collapse_output\n",
    "not_dir='#export'\n",
    "# hide_input\n",
    "foo\n",
    "\"\"\"\n",
    "test_eq(_repl_directives(_test_dir),\n",
    "\"\"\"\n",
    "#| default_exp\n",
    "#| export\n",
    "#| code-fold: show\n",
    "#| code-fold: true\n",
    "#| code-fold: true\n",
    "# collapse_output\n",
    "not_dir='#export'\n",
    "#| hide_input\n",
    "foo\n",
    "\"\"\")"
   ]
  },
  {
   "cell_type": "code",
   "execution_count": null,
   "id": "cddcad93-1e44-4cbe-8dbd-9538533d0f8e",
   "metadata": {},
   "outputs": [],
   "source": [
    "#|export\n",
    "def _repl_v1dir(nb):\n",
    "    \"Replace nbdev v1 with v2 directives.\"\n",
    "    for cell in nb['cells']:\n",
    "        if cell.get('source') and cell.get('cell_type') == 'code':\n",
    "            ss = cell['source'].copy()\n",
    "            first_code = first_code_ln(ss, re_pattern=_re_v1())\n",
    "            if not first_code: first_code = len(ss)\n",
    "            if not ss: pass\n",
    "            else: cell['source'] = [_repl_directives(c) for c in ss[:first_code]] + ss[first_code:]"
   ]
  },
  {
   "cell_type": "code",
   "execution_count": null,
   "id": "b9173d2f-d75d-44be-9be7-1a94e8459324",
   "metadata": {},
   "outputs": [],
   "source": [
    "#|hide\n",
    "_code = _test_dir.splitlines(True)\n",
    "\n",
    "tst = {'cell_type': 'code', 'execution_count': 26,\n",
    "       'metadata': {'hide_input': True, 'meta': 23},\n",
    "       'outputs': [{'execution_count': 2,\n",
    "                    'data': {\n",
    "                        'application/vnd.google.colaboratory.intrinsic+json': {'type': 'string'},\n",
    "                        'plain/text': ['sample output',]\n",
    "                    }, 'output': 'super'}],\n",
    "       'source': _code}\n",
    "nb = {'metadata': {'kernelspec': 'some_spec', 'jekyll': 'some_meta', 'meta': 37}, 'cells': [tst]}\n",
    "\n",
    "_repl_v1dir(nb)\n",
    "test_eq(nb['cells'][0], {'cell_type': 'code',\n",
    "     'execution_count': 26,\n",
    "     'metadata': {'hide_input': True, 'meta': 23},\n",
    "     'outputs': [{'execution_count': 2,\n",
    "     'data': {'application/vnd.google.colaboratory.intrinsic+json': {'type': 'string'},\n",
    "     'plain/text': ['sample output']},\n",
    "     'output': 'super'}],\n",
    "     'source': ['\\n',\n",
    "  '#| default_exp\\n',\n",
    "  '#| export\\n',\n",
    "  '#| code-fold: show\\n',\n",
    "  '#| code-fold: true\\n',\n",
    "  '#| code-fold: true\\n',\n",
    "  '# collapse_output\\n',\n",
    "  \"not_dir='#export'\\n\",\n",
    "  '# hide_input\\n', #after the first line of code there are no directives to migrate\n",
    "  'foo\\n']\n",
    "    })"
   ]
  },
  {
   "cell_type": "markdown",
   "id": "153e6fda-8a42-45ef-a097-9b4a29d0663d",
   "metadata": {},
   "source": [
    "## Callouts\n",
    "\n",
    "In fastpages, there was a markdown shortuct for callouts for `Note`, `Tip`, `Important` and `Warning` with block quotes.  Since Quarto has its own [callout blocks](https://quarto.org/docs/authoring/callouts.html#callout-types) with markdown syntax, we do not implement these shortcuts in nbdev.  Instead, we offer a manual conversion utility for these callouts so that you can migrate from fastpages to Quarto."
   ]
  },
  {
   "cell_type": "code",
   "execution_count": null,
   "id": "e99a0998-cbfc-46ca-a068-5695437ebc5a",
   "metadata": {},
   "outputs": [],
   "source": [
    "#|export\n",
    "_re_callout = re.compile(r'^>\\s(Warning|Note|Important|Tip):(.*)', flags=re.MULTILINE)\n",
    "def _co(x): return \":::{.callout-\"+x[1].lower()+\"}\\n\\n\" + f\"{x[2].strip()}\\n\\n\" + \":::\"\n",
    "def _convert_callout(s): \n",
    "    \"Convert nbdev v1 to v2 callouts.\"\n",
    "    return _re_callout.sub(_co, s)"
   ]
  },
  {
   "cell_type": "code",
   "execution_count": null,
   "id": "f2d83c72-8772-4037-8fe1-0e457f7c237a",
   "metadata": {},
   "outputs": [
    {
     "data": {
      "text/markdown": [
       "---\n",
       "\n",
       "#### _convert_callout\n",
       "\n",
       ">      _convert_callout (s)\n",
       "\n",
       "Convert nbdev v1 to v2 callouts."
      ],
      "text/plain": [
       "<nbdev.showdoc.BasicMarkdownRenderer>"
      ]
     },
     "execution_count": null,
     "metadata": {},
     "output_type": "execute_result"
    }
   ],
   "source": [
    "show_doc(_convert_callout)"
   ]
  },
  {
   "cell_type": "markdown",
   "id": "3dfbe786-cb2a-48ec-bb03-57c1d99249ad",
   "metadata": {},
   "source": [
    "For example, the below markdown:"
   ]
  },
  {
   "cell_type": "code",
   "execution_count": null,
   "id": "84e8740c-b281-4c42-8c11-45dfaccdf4e4",
   "metadata": {},
   "outputs": [],
   "source": [
    "_callouts=\"\"\"\n",
    "## Boxes / Callouts\n",
    "\n",
    "> Warning: There will be no second warning!\n",
    "\n",
    "Other text\n",
    "\n",
    "> Important: Pay attention! It's important.\n",
    "\n",
    "> Tip: This is my tip.\n",
    "\n",
    "> Note: Take note of `this.`\n",
    "\"\"\""
   ]
  },
  {
   "cell_type": "markdown",
   "id": "ac093e47-ff12-44b9-bfa8-30da5bbfe696",
   "metadata": {},
   "source": [
    "Gets converted to:"
   ]
  },
  {
   "cell_type": "code",
   "execution_count": null,
   "id": "8797e53f-a741-410f-a1e3-0c09f84580c6",
   "metadata": {},
   "outputs": [
    {
     "name": "stdout",
     "output_type": "stream",
     "text": [
      "\n",
      "## Boxes / Callouts\n",
      "\n",
      ":::{.callout-warning}\n",
      "\n",
      "There will be no second warning!\n",
      "\n",
      ":::\n",
      "\n",
      "Other text\n",
      "\n",
      ":::{.callout-important}\n",
      "\n",
      "Pay attention! It's important.\n",
      "\n",
      ":::\n"
     ]
    }
   ],
   "source": [
    "#| echo:false\n",
    "_c = _convert_callout(_callouts)\n",
    "assert '> Tip:' not in _c\n",
    "assert 'Other text' in _c\n",
    "print(_c[:156])"
   ]
  },
  {
   "cell_type": "code",
   "execution_count": null,
   "id": "0cc423f8-eb17-42de-a28a-ba255556d24b",
   "metadata": {},
   "outputs": [],
   "source": [
    "#|export\n",
    "def _repl_v1callouts(nb):\n",
    "    \"Replace nbdev v1 with v2 callouts.\"\n",
    "    for cell in nb['cells']:\n",
    "        if cell.get('source') and cell.get('cell_type') == 'markdown':\n",
    "            cell['source'] = [_convert_callout(c) for c in cell['source'].copy()]\n",
    "    return nb"
   ]
  },
  {
   "cell_type": "code",
   "execution_count": null,
   "id": "3eb0cd02-e1ee-4910-be82-570434b974b5",
   "metadata": {},
   "outputs": [],
   "source": [
    "#|export\n",
    "@call_parse\n",
    "def nbdev_migrate(\n",
    "    fname:str=None, # A notebook name or glob to migrate\n",
    "    disp:bool=False,  # Print the outputs with newly formatted directives\n",
    "    stdin:bool=False, # Read notebook from input stream\n",
    "    no_skip:bool=False, # Do not skip directories beginning with an underscore\n",
    "):\n",
    "    \"Convert all directives and callouts in `fname` from v1 to v2\"\n",
    "    _migrate = compose(_repl_v1callouts, _repl_v1dir)\n",
    "    _write = partial(process_write, warn_msg='Failed to replace directives', proc_nb=_migrate)\n",
    "    if stdin: _write(f_in=sys.stdin, f_out=sys.stdout)\n",
    "    _skip_re = None if no_skip else '^[_.]'\n",
    "    if fname is None: fname = get_config().path('nbs_path')\n",
    "    for f in globtastic(fname, file_glob='*.ipynb', skip_folder_re=_skip_re): _write(f_in=f, disp=disp)"
   ]
  },
  {
   "cell_type": "code",
   "execution_count": null,
   "id": "31b841da-0f92-48d3-8fda-fe802ad2abc6",
   "metadata": {},
   "outputs": [],
   "source": [
    "#|hide\n",
    "_orig =  Path('../../tests/2020-02-20-test.ipynb') # nbdev v1 notebook\n",
    "_tmp =  Path('../../tests/2020-02-20-test-COPY.ipynb') # A copy of this nb that will be migrated\n",
    "shutil.copy(_orig, _tmp)\n",
    "nbdev_migrate(_tmp)\n",
    "\n",
    "def _nb2str(p): return str(L(read_nb(p).cells).attrgot('source'))\n",
    "assert ':::{.callout-warning}' not in _nb2str(_orig) and ':::{.callout-warning}' in _nb2str(_tmp)\n",
    "assert '#| code-fold: true' not in _nb2str(_orig) and '#| code-fold: true' in _nb2str(_tmp)\n",
    "assert '#| single-value' not in _nb2str(_tmp)\n",
    "\n",
    "if _tmp.exists(): _tmp.unlink() # missing_ok not in python 3.7"
   ]
  },
  {
   "cell_type": "markdown",
   "id": "a67431f9-52b1-45f8-9d9c-f5a6cb2aebb5",
   "metadata": {},
   "source": [
    "## Export -"
   ]
  },
  {
   "cell_type": "code",
   "execution_count": null,
   "id": "2945bb49-33e8-4066-8ef4-db3573a1f9ab",
   "metadata": {},
   "outputs": [],
   "source": [
    "#|hide\n",
    "import nbdev; nbdev.nbdev_export()"
   ]
  },
  {
   "cell_type": "code",
   "execution_count": null,
   "id": "8d81d5c9-3710-4c80-878e-a7ac0e36f3eb",
   "metadata": {},
   "outputs": [],
   "source": []
  }
 ],
 "metadata": {
  "kernelspec": {
   "display_name": "Python 3 (ipykernel)",
   "language": "python",
   "name": "python3"
  }
 },
 "nbformat": 4,
 "nbformat_minor": 5
}
