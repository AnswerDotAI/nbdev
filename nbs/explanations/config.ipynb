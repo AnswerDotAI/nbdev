{
 "cells": [
  {
   "cell_type": "markdown",
   "metadata": {},
   "source": [
    "# Settings.ini\n",
    "\n",
    "> The nbdev configuration file\n",
    "- order: 1"
   ]
  },
  {
   "cell_type": "code",
   "execution_count": null,
   "metadata": {},
   "outputs": [],
   "source": [
    "#| hide\n",
    "from fastcore.utils import *\n",
    "from nbdev.config import *\n",
    "\n",
    "from nbdev.showdoc import *"
   ]
  },
  {
   "cell_type": "markdown",
   "metadata": {},
   "source": [
    "All of nbdev's configuration is done through a file called `settings.ini` which lives in the root of your repo. It's in [ConfigParser](https://docs.python.org/3/library/configparser.html) format. For example, here's the first few lines of nbdev's settings.ini file"
   ]
  },
  {
   "cell_type": "code",
   "execution_count": null,
   "metadata": {},
   "outputs": [
    {
     "name": "stdout",
     "output_type": "stream",
     "text": [
      "[DEFAULT]\r\n",
      "lib_name = nbdev\r\n",
      "repo = nbdev\r\n",
      "description = Create delightful software with Jupyter Notebooks\r\n",
      "copyright = 2020 onwards, Jeremy Howard\r\n",
      "keywords = nbdev fastai jupyter notebook export\r\n",
      "user = fastai\r\n",
      "author = Jeremy Howard and Hamel Husain\r\n",
      "author_email = j@fast.ai\r\n",
      "branch = master\r\n"
     ]
    }
   ],
   "source": [
    "#| exec_doc\n",
    "#| echo: false\n",
    "!head ../../settings.ini"
   ]
  },
  {
   "cell_type": "markdown",
   "metadata": {},
   "source": [
    "You can create this file with `nbdev_create_config` (in which case you pass the settings manually), or with `nbdev_new` (which sets it up automatically for you from your repo settings). Here are all of nbdev's settings (excluding the `path` and `cfg_name` parameters which decide where the config file is saved):"
   ]
  },
  {
   "cell_type": "code",
   "execution_count": null,
   "metadata": {},
   "outputs": [
    {
     "data": {
      "text/markdown": [
       "|    | **Type** | **Default** | **Details** |\n",
       "| -- | -------- | ----------- | ----------- |\n",
       "| repo | str | None | Repo name |\n",
       "| branch | str | None | Repo default branch |\n",
       "| user | str | None | Repo username |\n",
       "| author | str | None | Package author's name |\n",
       "| author_email | str | None | Package author's email address |\n",
       "| description | str | None | Short summary of the package |\n",
       "| path | str | . | Path to create config file |\n",
       "| cfg_name | str | settings.ini | Name of config file to create |\n",
       "| lib_name | str | %(repo)s | Package name |\n",
       "| git_url | str | https://github.com/%(user)s/%(repo)s | Repo URL |\n",
       "| custom_sidebar | bool_arg | False | Use a custom sidebar.yml? |\n",
       "| nbs_path | Path | nbs | Path to notebooks |\n",
       "| lib_path | Path | None | Path to package root (default: `repo` with `-` replaced by `_`) |\n",
       "| doc_path | Path | _docs | Path to rendered docs |\n",
       "| tst_flags | str | notest | Test flags |\n",
       "| version | str | 0.0.1 | Version of this release |\n",
       "| doc_host | str | https://%(user)s.github.io | Hostname for docs |\n",
       "| doc_baseurl | str | /%(repo)s | Base URL for docs |\n",
       "| keywords | str | nbdev jupyter notebook python | Package keywords |\n",
       "| license | str | apache2 | License for the package |\n",
       "| copyright | str | None | Copyright for the package, defaults to '`current_year` onwards, `author`' |\n",
       "| status | str | 3 | Development status PyPI classifier |\n",
       "| min_python | str | 3.7 | Minimum Python version PyPI classifier |\n",
       "| audience | str | Developers | Intended audience PyPI classifier |\n",
       "| language | str | English | Language PyPI classifier |\n",
       "| recursive | bool_arg | True | Include subfolders in notebook globs? |\n",
       "| black_formatting | bool_arg | False | Format libraries with black? |\n",
       "| readme_nb | str | index.ipynb | Notebook to export as repo readme |\n",
       "| title | str | %(lib_name)s | Quarto website title |\n",
       "| allowed_metadata_keys | str |  | Preserve the list of keys in the main notebook metadata |\n",
       "| allowed_cell_metadata_keys | str |  | Preserve the list of keys in cell level metadata |\n",
       "| jupyter_hooks | bool_arg | False | Run Jupyter hooks? |\n",
       "| clean_ids | bool_arg | True | Remove ids from plaintext reprs? |\n",
       "| clear_all | bool_arg | False | Remove all cell metadata and cell outputs? |\n",
       "| cell_number | bool_arg | True | Add cell number to the exported file |\n",
       "| put_version_in_init | bool_arg | True | Add the version to the main __init__.py in nbdev_export |\n",
       "| skip_procs | str |  | A list of processors that you want to skip |"
      ],
      "text/plain": [
       "<nbdev.showdoc.DocmentTbl>"
      ]
     },
     "execution_count": null,
     "metadata": {},
     "output_type": "execute_result"
    }
   ],
   "source": [
    "#| exec_doc\n",
    "#| echo: false\n",
    "DocmentTbl(nbdev_create_config)"
   ]
  },
  {
   "cell_type": "markdown",
   "metadata": {},
   "source": [
    "You can customise nbdev for all repositories for your user with a `~/.config/nbdev/settings.ini` file."
   ]
  },
  {
   "cell_type": "markdown",
   "metadata": {},
   "source": [
    "In order for Git actions to run smoothly, add `requirements` and `dev_requirements` with required packages in `settings.ini`.\n",
    "\n",
    "see [here](https://github.com/fastai/nbdev/blob/master/settings.ini) as a reference."
   ]
  },
  {
   "cell_type": "code",
   "execution_count": null,
   "metadata": {},
   "outputs": [],
   "source": []
  }
 ],
 "metadata": {
  "kernelspec": {
   "display_name": "python3",
   "language": "python",
   "name": "python3"
  }
 },
 "nbformat": 4,
 "nbformat_minor": 4
}
