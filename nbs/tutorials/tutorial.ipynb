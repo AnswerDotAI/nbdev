{
 "cells": [
  {
   "cell_type": "markdown",
   "metadata": {},
   "source": [
    "# End-To-End Walkthrough\n",
    "\n",
    "> A step-by-step guide to using nbdev\n",
    "- order: 1\n",
    "- image: ../images/card.png\n",
    "- aliases: [/tutorial.html]"
   ]
  },
  {
   "cell_type": "code",
   "execution_count": null,
   "metadata": {
    "hide_input": false
   },
   "outputs": [],
   "source": [
    "#|hide\n",
    "from nbdev.showdoc import show_doc\n",
    "from nbdev.qmd import div"
   ]
  },
  {
   "cell_type": "markdown",
   "metadata": {},
   "source": [
    "The written tutorial below shows you how to create a Python package from scratch using nbdev.\n",
    "\n",
    "Alternatively, you can watch this video tutorial where Jeremy Howard and Hamel Husain guide you through a similar process step by step:"
   ]
  },
  {
   "cell_type": "markdown",
   "metadata": {},
   "source": [
    "::: {.text-center}\n",
    "\n",
    "<iframe width=\"560\" height=\"315\" src=\"https://www.youtube-nocookie.com/embed/l7zS8Ld4_iA\" frameborder=\"0\" allow=\"accelerometer; autoplay; encrypted-media; gyroscope; picture-in-picture\" allowfullscreen style=\"max-width: 100%; margin: auto\" class=\"rounded\"></iframe>\n",
    "\n",
    ":::"
   ]
  },
  {
   "cell_type": "markdown",
   "metadata": {},
   "source": [
    "## Installation"
   ]
  },
  {
   "cell_type": "markdown",
   "metadata": {},
   "source": [
    "You'll need the following software to complete the tutorial, read on for specific installation instructions:\n",
    "\n",
    "1. Python\n",
    "2. A Python package manager: we recommend conda or pip\n",
    "3. Jupyter Notebook\n",
    "4. nbdev\n",
    "5. Quarto\n",
    "\n",
    "If you haven't worked with Python before, we recommend getting started with the [Anaconda Individual Edition](https://www.anaconda.com/products/individual) and using the conda package manager.\n",
    "\n",
    "Note that you will only need to follow the steps in the installation section once per environment. If you create a new repo, you won't need to redo these."
   ]
  },
  {
   "cell_type": "markdown",
   "metadata": {},
   "source": [
    "### Install JupyterLab"
   ]
  },
  {
   "cell_type": "markdown",
   "metadata": {},
   "source": [
    "Launch a terminal and install JupyterLab by entering:\n",
    "\n",
    "```sh\n",
    "conda install -c conda-forge -y jupyterlab\n",
    "```\n",
    "\n",
    "...or\n",
    "\n",
    "```sh\n",
    "pip install jupyterlab\n",
    "```\n",
    "\n",
    "...if you're using the pip package manager.\n",
    "\n",
    "You can now launch Jupyter by entering:\n",
    "\n",
    "```sh\n",
    "jupyter lab\n",
    "```\n",
    "\n",
    "This should open JupyterLab in a new browser tab:"
   ]
  },
  {
   "cell_type": "markdown",
   "metadata": {},
   "source": [
    "![](images/jupyter-welcome.png){fig-align=\"center\"}"
   ]
  },
  {
   "cell_type": "markdown",
   "metadata": {},
   "source": [
    "### Install nbdev"
   ]
  },
  {
   "cell_type": "markdown",
   "metadata": {},
   "source": [
    "The next step is to install nbdev itself. JupyterLab comes with its own terminal, so we'll use that moving forward.\n",
    "\n",
    "In the Launcher, scroll down to the \"Other\" section, then click \"Terminal\". If the Launcher isn't opened, you can open it by clicking \"File\" → \"New Launcher\".\n",
    "\n",
    "A new tab should open with a blank terminal -- it might not look exactly the same, depending on how your shell is configured:"
   ]
  },
  {
   "cell_type": "markdown",
   "metadata": {},
   "source": [
    "![](images/jupyter-blank-terminal.png){fig-align=\"center\"}"
   ]
  },
  {
   "cell_type": "markdown",
   "metadata": {},
   "source": [
    "For Mac and Linux, enter:\n",
    "\n",
    "```sh\n",
    "conda install -c fastai -y nbdev\n",
    "```\n",
    "\n",
    "...or for Mac, Linux and Windows:\n",
    "\n",
    "```sh\n",
    "pip install nbdev\n",
    "```\n",
    "\n",
    "...if you're using pip."
   ]
  },
  {
   "cell_type": "markdown",
   "metadata": {},
   "source": [
    "### Install Quarto"
   ]
  },
  {
   "cell_type": "markdown",
   "metadata": {},
   "source": [
    "nbdev provides a command to install the latest version of Quarto. In the terminal, enter:\n",
    "    \n",
    "```sh\n",
    "nbdev_install_quarto\n",
    "```\n",
    "\n",
    "Your password may be requested at this point. Since nbdev is open source, you can read [the source code](https://github.com/fastai/nbdev/blob/master/nbdev/quarto.py) of this command to verify that it isn't doing anything malicious. Or, if you prefer, you may instead follow [Quarto's official installation instructions](https://quarto.org/docs/get-started/)."
   ]
  },
  {
   "cell_type": "markdown",
   "metadata": {},
   "source": [
    "### Install Quarto JupyterLab extension"
   ]
  },
  {
   "cell_type": "markdown",
   "metadata": {},
   "source": [
    "Quarto provides its own [JupyterLab extension](https://quarto.org/docs/tools/jupyter-lab-extension.html) that allows it to render Quarto markdown content.\n",
    "\n",
    "For example, here is their notebook demonstrating some of its features:\n",
    "\n",
    "![](https://user-images.githubusercontent.com/261654/230087634-d5027ebc-8508-43b4-81c9-c4b7d6cfa738.png)\n",
    "\n",
    "Install the extension by entering:\n",
    "\n",
    "```sh\n",
    "pip install jupyterlab-quarto\n",
    "```\n",
    "\n",
    "Note that the `jupyterlab-quarto` package is not currently available via conda.\n",
    "\n",
    "---\n",
    "\n",
    "You're all setup and ready to go! Installing these tools may take some time, but you'll only need to do it once. Next, we'll setup an nbdev repo for your specific project."
   ]
  },
  {
   "cell_type": "markdown",
   "metadata": {},
   "source": [
    "## First steps"
   ]
  },
  {
   "cell_type": "markdown",
   "metadata": {},
   "source": [
    "By the end of this section you'll have your own nbdev repo with tests, continuous integration, streamlined PyPI & conda packaging, and a documentation website."
   ]
  },
  {
   "cell_type": "markdown",
   "metadata": {},
   "source": [
    "### Create an empty GitHub repo"
   ]
  },
  {
   "cell_type": "markdown",
   "metadata": {},
   "source": [
    "Create an empty GitHub repo using the convenient link [github.com/new](https://github.com/new). If you get stuck, you might find GitHub's [_Create a repo_](https://docs.github.com/en/get-started/quickstart/create-a-repo) page helpful.\n",
    "\n",
    "Remember to add a description, since nbdev will use that later. Don't add a README file, .gitignore, or license just yet.\n",
    "\n",
    "If you're using the web interface, it should look something like this (with your own repository name and description) before you click \"Create Repository\":"
   ]
  },
  {
   "cell_type": "markdown",
   "metadata": {},
   "source": [
    "![](images/github-create-new-repo.png){.p-2 .pb-3 fig-align=\"center\" .border .rounded .shadow-sm width=600px}"
   ]
  },
  {
   "cell_type": "markdown",
   "metadata": {},
   "source": [
    "You should then be redirected to your new repo:"
   ]
  },
  {
   "cell_type": "markdown",
   "metadata": {},
   "source": [
    "![](images/github-repo-empty.png){.pb-2 fig-align=\"center\" .border .rounded .shadow-sm}"
   ]
  },
  {
   "cell_type": "markdown",
   "metadata": {},
   "source": [
    "::: {.callout-tip collapse=\"true\"}\n",
    "\n",
    "#### Try GitHub's powerful CLI\n",
    "\n",
    "GitHub's web interface is a great way to get started. As you grow more experienced, you might want to explore [the GitHub CLI](https://github.com/cli/cli) (command line interface). We often prefer to use command line tools for repetitive tasks where we're likely to make mistakes. Having those tasks written as small scripts in your terminal means that you can repeat them with little effort.\n",
    "\n",
    ":::"
   ]
  },
  {
   "cell_type": "markdown",
   "metadata": {},
   "source": [
    "### Initialise your repo with nbdev"
   ]
  },
  {
   "cell_type": "markdown",
   "metadata": {},
   "source": [
    "Now clone your repo from the Jupyter terminal you started [earlier](#install-nbdev) (or create a new terminal following those instructions if needed). If you get stuck here, you might find GitHub's [_Cloning a repository_](https://docs.github.com/en/repositories/creating-and-managing-repositories/cloning-a-repository) page helpful."
   ]
  },
  {
   "cell_type": "markdown",
   "metadata": {},
   "source": [
    "Since we created a repo named `nbev-hello-world` with the `fastai` user, we can clone it as follows:\n",
    "\n",
    "```sh\n",
    "git clone https://github.com/fastai/nbdev-hello-world.git\n",
    "```\n",
    "\n",
    "Then `cd` (change directory) to our repo:\n",
    "\n",
    "```sh\n",
    "cd nbdev-hello-world\n",
    "```"
   ]
  },
  {
   "cell_type": "markdown",
   "metadata": {},
   "source": [
    "You may have seen this message while cloning:\n",
    "\n",
    "```\n",
    "You appear to have cloned an empty repository.\n",
    "```\n",
    "\n",
    "...since the repo is completely empty. Let's add some files!"
   ]
  },
  {
   "cell_type": "markdown",
   "metadata": {},
   "source": [
    "nbdev provides the `nbdev_new` command to initialise an empty git repository. It'll infer information about your project from git and GitHub, and ask you to input anything remaining. It will create files in your repo that:\n",
    "\n",
    "- Streamline publishing Python packages to PyPI and conda.\n",
    "- Configure Quarto for publication-grade technical documentation.\n",
    "- Setup GitHub actions to test notebooks and build and deploy Quarto docs to GitHub pages."
   ]
  },
  {
   "cell_type": "markdown",
   "metadata": {},
   "source": [
    "Initialise your nbdev repo by entering:\n",
    "\n",
    "```sh\n",
    "nbdev_new\n",
    "```"
   ]
  },
  {
   "cell_type": "markdown",
   "metadata": {},
   "source": [
    "It may ask you to enter information that it couldn't infer from git or GitHub."
   ]
  },
  {
   "cell_type": "markdown",
   "metadata": {},
   "source": [
    "::: {.callout-note}\n",
    "\n",
    "`nbdev_new` assumes that your package name is the same as your repo name (with `-` replaced by `_`). Use the `--lib_name` option if that isn't the case.\n",
    "\n",
    ":::"
   ]
  },
  {
   "cell_type": "markdown",
   "metadata": {},
   "source": [
    "Double-check your `settings.ini` file to ensure that it has all of the correct information. Then commit and push your additions to GitHub:\n",
    "\n",
    "```sh\n",
    "git add .\n",
    "git commit -m'Initial commit'\n",
    "git push\n",
    "```"
   ]
  },
  {
   "cell_type": "markdown",
   "metadata": {},
   "source": [
    "### Enable GitHub Pages"
   ]
  },
  {
   "cell_type": "markdown",
   "metadata": {},
   "source": [
    "nbdev hosts your docs on GitHub Pages---an excellent (and free!) way to host websites. "
   ]
  },
  {
   "cell_type": "markdown",
   "metadata": {},
   "source": [
    "::: {.callout-note}\n",
    "\n",
    "nbdev uses GitHub Pages by default because its easily accessible. However, you can use any host you like.  See [these docs](../explanations/docs.ipynb#deploying-your-docs-on-other-platforms) for more information.\n",
    "\n",
    ":::"
   ]
  },
  {
   "cell_type": "markdown",
   "metadata": {},
   "source": [
    "You need to enable GitHub Pages for your repo by clicking on the \"Settings\" tab near the top-right of your repo page, then \"Pages\" on the left, then setting the \"Branch\" to \"gh-pages\", and finally clicking \"Save\".\n",
    "\n",
    "It should look similar to this after you click \"Save\":\n",
    "\n",
    "![](images/github-enable-pages.png){.pb-2 fig-align=\"center\" .border .rounded .shadow-sm}"
   ]
  },
  {
   "cell_type": "markdown",
   "metadata": {},
   "source": [
    "If you don't see a \"gh-pages\" branch, wait a few minutes and reload the page. It should automatically be set up for you."
   ]
  },
  {
   "cell_type": "code",
   "execution_count": null,
   "metadata": {},
   "outputs": [],
   "source": []
  }
 ],
 "metadata": {
  "jupytext": {
   "split_at_heading": true
  },
  "kernelspec": {
   "display_name": "python3",
   "language": "python",
   "name": "python3"
  },
  "widgets": {
   "application/vnd.jupyter.widget-state+json": {
    "state": {},
    "version_major": 2,
    "version_minor": 0
   }
  }
 },
 "nbformat": 4,
 "nbformat_minor": 4
}
