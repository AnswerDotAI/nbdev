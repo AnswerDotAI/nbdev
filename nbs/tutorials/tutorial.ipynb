{
 "cells": [
  {
   "cell_type": "markdown",
   "metadata": {},
   "source": [
    "# End-To-End Walkthrough\n",
    "\n",
    "> A step-by-step guide to using nbdev\n",
    "- order: 1\n",
    "- image: ../images/card.png\n",
    "- aliases: [/tutorial.html]"
   ]
  },
  {
   "cell_type": "code",
   "execution_count": null,
   "metadata": {
    "hide_input": false
   },
   "outputs": [],
   "source": [
    "#|hide\n",
    "from nbdev.showdoc import show_doc\n",
    "from nbdev.qmd import div"
   ]
  },
  {
   "cell_type": "markdown",
   "metadata": {},
   "source": [
    "The written tutorial below shows you how to create a Python package from scratch using nbdev.\n",
    "\n",
    "Alternatively, you can watch this video tutorial where Jeremy Howard and Hamel Husain guide you through a similar process step by step:"
   ]
  },
  {
   "cell_type": "markdown",
   "metadata": {},
   "source": [
    "::: {.text-center}\n",
    "\n",
    "<iframe width=\"560\" height=\"315\" src=\"https://www.youtube-nocookie.com/embed/l7zS8Ld4_iA\" frameborder=\"0\" allow=\"accelerometer; autoplay; encrypted-media; gyroscope; picture-in-picture\" allowfullscreen style=\"max-width: 100%; margin: auto\" class=\"rounded\"></iframe>\n",
    "\n",
    ":::"
   ]
  },
  {
   "cell_type": "markdown",
   "metadata": {},
   "source": [
    "## Installation"
   ]
  },
  {
   "cell_type": "markdown",
   "metadata": {},
   "source": [
    "You'll need the following software to complete the tutorial, read on for specific installation instructions:\n",
    "\n",
    "1. Python\n",
    "2. A Python package manager: we recommend conda or pip\n",
    "3. Jupyter Notebook\n",
    "4. nbdev\n",
    "5. Quarto\n",
    "\n",
    "If you haven't worked with Python before, we recommend getting started with the [Anaconda Individual Edition](https://www.anaconda.com/products/individual) and using the conda package manager.\n",
    "\n",
    "Note that you will only need to follow the steps in the installation section once per environment. If you create a new repo, you won't need to redo these."
   ]
  },
  {
   "cell_type": "markdown",
   "metadata": {},
   "source": [
    "### Install JupyterLab"
   ]
  },
  {
   "cell_type": "markdown",
   "metadata": {},
   "source": [
    "Launch a terminal and install JupyterLab by entering:\n",
    "\n",
    "```sh\n",
    "conda install -c conda-forge -y jupyterlab\n",
    "```\n",
    "\n",
    "...or\n",
    "\n",
    "```sh\n",
    "pip install jupyterlab\n",
    "```\n",
    "\n",
    "...if you're using the pip package manager.\n",
    "\n",
    "You can now launch Jupyter by entering:\n",
    "\n",
    "```sh\n",
    "jupyter lab\n",
    "```\n",
    "\n",
    "This should open JupyterLab in a new browser tab:"
   ]
  },
  {
   "cell_type": "markdown",
   "metadata": {},
   "source": [
    "![](images/jupyter-welcome.png){fig-align=\"center\"}"
   ]
  },
  {
   "cell_type": "markdown",
   "metadata": {},
   "source": [
    "### Install nbdev"
   ]
  },
  {
   "cell_type": "markdown",
   "metadata": {},
   "source": [
    "The next step is to install nbdev itself. JupyterLab comes with its own terminal, so we'll use that moving forward.\n",
    "\n",
    "In the Launcher, scroll down to the \"Other\" section, then click \"Terminal\". If the Launcher isn't opened, you can open it by clicking \"File\" → \"New Launcher\".\n",
    "\n",
    "A new tab should open with a blank terminal -- it might not look exactly the same, depending on how your shell is configured:"
   ]
  },
  {
   "cell_type": "markdown",
   "metadata": {},
   "source": [
    "![](images/jupyter-blank-terminal.png){fig-align=\"center\"}"
   ]
  },
  {
   "cell_type": "markdown",
   "metadata": {},
   "source": [
    "For Mac and Linux, enter:\n",
    "\n",
    "```sh\n",
    "conda install -c fastai -y nbdev\n",
    "```\n",
    "\n",
    "...or for Mac, Linux and Windows:\n",
    "\n",
    "```sh\n",
    "pip install nbdev\n",
    "```\n",
    "\n",
    "...if you're using pip."
   ]
  },
  {
   "cell_type": "markdown",
   "metadata": {},
   "source": [
    "### Install Quarto"
   ]
  },
  {
   "cell_type": "markdown",
   "metadata": {},
   "source": [
    "nbdev provides a command to install the latest version of Quarto. In the terminal, enter:\n",
    "    \n",
    "```sh\n",
    "nbdev_install_quarto\n",
    "```\n",
    "\n",
    "Your password may be requested at this point. Since nbdev is open source, you can read [the source code](https://github.com/fastai/nbdev/blob/master/nbdev/quarto.py) of this command to verify that it isn't doing anything malicious. Or, if you prefer, you may instead follow [Quarto's official installation instructions](https://quarto.org/docs/get-started/)."
   ]
  },
  {
   "cell_type": "markdown",
   "metadata": {},
   "source": [
    "### Install Quarto JupyterLab extension"
   ]
  },
  {
   "cell_type": "markdown",
   "metadata": {},
   "source": [
    "Quarto provides its own [JupyterLab extension](https://quarto.org/docs/tools/jupyter-lab-extension.html) that allows it to render Quarto markdown content.\n",
    "\n",
    "For example, here is their notebook demonstrating some of its features:\n",
    "\n",
    "![](https://user-images.githubusercontent.com/261654/230087634-d5027ebc-8508-43b4-81c9-c4b7d6cfa738.png)\n",
    "\n",
    "Install the extension by entering:\n",
    "\n",
    "```sh\n",
    "pip install jupyterlab-quarto\n",
    "```\n",
    "\n",
    "Note that the `jupyterlab-quarto` package is not currently available via conda.\n",
    "\n",
    "---\n",
    "\n",
    "You're all setup and ready to go! Installing these tools may take some time, but you'll only need to do it once. Next, we'll setup an nbdev repo for your specific project."
   ]
  },
  {
   "cell_type": "markdown",
   "metadata": {},
   "source": [
    "## First steps"
   ]
  },
  {
   "cell_type": "markdown",
   "metadata": {},
   "source": [
    "By the end of this section you'll have your own nbdev repo with tests, continuous integration, streamlined PyPI & conda packaging, and a documentation website."
   ]
  },
  {
   "cell_type": "markdown",
   "metadata": {},
   "source": [
    "### Create an empty GitHub repo"
   ]
  },
  {
   "cell_type": "markdown",
   "metadata": {},
   "source": [
    "Create an empty GitHub repo using the convenient link [github.com/new](https://github.com/new). If you get stuck, you might find GitHub's [_Create a repo_](https://docs.github.com/en/get-started/quickstart/create-a-repo) page helpful.\n",
    "\n",
    "Remember to add a description, since nbdev will use that later. Don't add a README file, .gitignore, or license just yet.\n",
    "\n",
    "If you're using the web interface, it should look something like this (with your own repository name and description) before you click \"Create Repository\":"
   ]
  },
  {
   "cell_type": "markdown",
   "metadata": {},
   "source": [
    "![](images/github-create-new-repo.png){.p-2 .pb-3 fig-align=\"center\" .border .rounded .shadow-sm width=600px}"
   ]
  },
  {
   "cell_type": "markdown",
   "metadata": {},
   "source": [
    "You should then be redirected to your new repo:"
   ]
  },
  {
   "cell_type": "markdown",
   "metadata": {},
   "source": [
    "![](images/github-repo-empty.png){.pb-2 fig-align=\"center\" .border .rounded .shadow-sm}"
   ]
  },
  {
   "cell_type": "markdown",
   "metadata": {},
   "source": [
    "::: {.callout-tip collapse=\"true\"}\n",
    "\n",
    "#### Try GitHub's powerful CLI\n",
    "\n",
    "GitHub's web interface is a great way to get started. As you grow more experienced, you might want to explore [the GitHub CLI](https://github.com/cli/cli) (command line interface). We often prefer to use command line tools for repetitive tasks where we're likely to make mistakes. Having those tasks written as small scripts in your terminal means that you can repeat them with little effort.\n",
    "\n",
    ":::"
   ]
  },
  {
   "cell_type": "markdown",
   "metadata": {},
   "source": [
    "### Initialise your repo with nbdev"
   ]
  },
  {
   "cell_type": "markdown",
   "metadata": {},
   "source": [
    "Now clone your repo from the Jupyter terminal you started [earlier](#install-nbdev) (or create a new terminal following those instructions if needed). If you get stuck here, you might find GitHub's [_Cloning a repository_](https://docs.github.com/en/repositories/creating-and-managing-repositories/cloning-a-repository) page helpful."
   ]
  },
  {
   "cell_type": "markdown",
   "metadata": {},
   "source": [
    "Since we created a repo named `nbev-hello-world` with the `fastai` user, we can clone it as follows:\n",
    "\n",
    "```sh\n",
    "git clone https://github.com/fastai/nbdev-hello-world.git\n",
    "```\n",
    "\n",
    "Then `cd` (change directory) to our repo:\n",
    "\n",
    "```sh\n",
    "cd nbdev-hello-world\n",
    "```"
   ]
  },
  {
   "cell_type": "markdown",
   "metadata": {},
   "source": [
    "You may have seen this message while cloning:\n",
    "\n",
    "```\n",
    "You appear to have cloned an empty repository.\n",
    "```\n",
    "\n",
    "...since the repo is completely empty. Let's add some files!"
   ]
  },
  {
   "cell_type": "markdown",
   "metadata": {},
   "source": [
    "nbdev provides the `nbdev_new` command to initialise an empty git repository. It'll infer information about your project from git and GitHub, and ask you to input anything remaining. It will create files in your repo that:\n",
    "\n",
    "- Streamline publishing Python packages to PyPI and conda.\n",
    "- Configure Quarto for publication-grade technical documentation.\n",
    "- Setup GitHub actions to test notebooks and build and deploy Quarto docs to GitHub pages."
   ]
  },
  {
   "cell_type": "markdown",
   "metadata": {},
   "source": [
    "Initialise your nbdev repo by entering:\n",
    "\n",
    "```sh\n",
    "nbdev_new\n",
    "```"
   ]
  },
  {
   "cell_type": "markdown",
   "metadata": {},
   "source": [
    "It may ask you to enter information that it couldn't infer from git or GitHub."
   ]
  },
  {
   "cell_type": "markdown",
   "metadata": {},
   "source": [
    "::: {.callout-note}\n",
    "\n",
    "`nbdev_new` assumes that your package name is the same as your repo name (with `-` replaced by `_`). Use the `--lib_name` option if that isn't the case.\n",
    "\n",
    ":::"
   ]
  },
  {
   "cell_type": "markdown",
   "metadata": {},
   "source": [
    "Double-check your `settings.ini` file to ensure that it has all of the correct information. Then commit and push your additions to GitHub:\n",
    "\n",
    "```sh\n",
    "git add .\n",
    "git commit -m'Initial commit'\n",
    "git push\n",
    "```"
   ]
  },
  {
   "cell_type": "markdown",
   "metadata": {},
   "source": [
    "### Enable GitHub Pages"
   ]
  },
  {
   "cell_type": "markdown",
   "metadata": {},
   "source": [
    "nbdev hosts your docs on GitHub Pages---an excellent (and free!) way to host websites. "
   ]
  },
  {
   "cell_type": "markdown",
   "metadata": {},
   "source": [
    "::: {.callout-note}\n",
    "\n",
    "nbdev uses GitHub Pages by default because its easily accessible. However, you can use any host you like.  See [these docs](../explanations/docs.ipynb#deploying-your-docs-on-other-platforms) for more information.\n",
    "\n",
    ":::"
   ]
  },
  {
   "cell_type": "markdown",
   "metadata": {},
   "source": [
    "You need to enable GitHub Pages for your repo by clicking on the \"Settings\" tab near the top-right of your repo page, then \"Pages\" on the left, then setting the \"Branch\" to \"gh-pages\", and finally clicking \"Save\".\n",
    "\n",
    "It should look similar to this after you click \"Save\":\n",
    "\n",
    "![](images/github-enable-pages.png){.pb-2 fig-align=\"center\" .border .rounded .shadow-sm}"
   ]
  },
  {
   "cell_type": "markdown",
   "metadata": {},
   "source": [
    "If you don't see a \"gh-pages\" branch, wait a few minutes and reload the page. It should automatically be set up for you."
   ]
  },
  {
   "cell_type": "markdown",
   "metadata": {},
   "source": [
    "Now it's time to see all of the goodies nbdev gives you!"
   ]
  },
  {
   "cell_type": "markdown",
   "metadata": {},
   "source": [
    "### Check out your workflows"
   ]
  },
  {
   "cell_type": "markdown",
   "metadata": {},
   "source": [
    "Open GitHub Actions by clicking the \"Actions\" tab near the top of your repo page. You should see two workflow runs:"
   ]
  },
  {
   "cell_type": "markdown",
   "metadata": {},
   "source": [
    "![](images/github-actions-initial.png){fig-align=\"center\" .border .rounded .shadow-sm}"
   ]
  },
  {
   "cell_type": "markdown",
   "metadata": {},
   "source": [
    "If you opened this page shortly after pushing your initial commit, the runs may not have a green check (✅) because they're still \"In progress\" or \"Queued\". That's no problem, they shouldn't take much more than a minute to complete."
   ]
  },
  {
   "cell_type": "markdown",
   "metadata": {},
   "source": [
    "If you see a red cross (❌), that means something failed. Click on the cross, then click \"Details\", and you'll be able to see what failed. If you can't figure out what's wrong, search [the forum](https://forums.fast.ai/c/nbdev/48) in case someone else resolved the same issue, otherwise create a new post describing your issue in as much detail as you can, and we'll try our best to help you. Remember that including a link to an actual repo and/or GitHub Action is the best way for us to quickly identify what's wrong."
   ]
  },
  {
   "cell_type": "markdown",
   "metadata": {},
   "source": [
    "What do these workflows do?\n",
    "\n",
    "- **CI** -- The CI (continuous integration) workflow streamlines your developer workflow, particularly with multiple collaborators. Every time you push to GitHub, it ensures that:\n",
    "    - Your notebooks and libraries are in sync\n",
    "    - Your notebooks are cleaned of unwanted metadata (which pollute pull requests and git histories and lead to merge conflicts)\n",
    "    - Your notebook tests all pass\n",
    "- **Deploy to GitHub Pages** -- Builds your docs with Quarto and deploys it to GitHub Pages."
   ]
  },
  {
   "cell_type": "markdown",
   "metadata": {},
   "source": [
    "We provide these basic workflows out-of-the-box, however, you can edit their corresponding YAML files in the `.github/workflows/` folder to your liking."
   ]
  },
  {
   "cell_type": "markdown",
   "metadata": {},
   "source": [
    "### Check out your docs"
   ]
  },
  {
   "cell_type": "markdown",
   "metadata": {},
   "source": [
    "When you [enable GitHub Pages](#enable-github-pages) you should see a new workflow run: \"pages build and deployment\". As the name suggests, this workflow deploys your website contents to GitHub Pages."
   ]
  },
  {
   "cell_type": "markdown",
   "metadata": {},
   "source": [
    "![](images/github-actions-pages.png){fig-align=\"center\" .border .rounded .shadow-sm}"
   ]
  },
  {
   "cell_type": "markdown",
   "metadata": {},
   "source": [
    "Wait for the workflow run to complete, then open your website. By default it should be available at: `https://{user}.github.io/{repo}`. For example, you can view `fastai`'s `nbdev-hello-world` docs at <https://fastai.github.io/nbdev-hello-world>."
   ]
  },
  {
   "cell_type": "markdown",
   "metadata": {},
   "source": [
    "![](images/nbdev-hello-world-site-initial.png){fig-align=\"center\" .border .rounded .shadow-sm}"
   ]
  },
  {
   "cell_type": "markdown",
   "metadata": {},
   "source": [
    "### Recap"
   ]
  },
  {
   "cell_type": "markdown",
   "metadata": {},
   "source": [
    "You now have a base nbdev repo with continuous integration and hosted documentation! Here's a recap of the steps you took:\n",
    "\n",
    "- Created a GitHub repo (with GitHub Pages enabled)\n",
    "- Initialised your repo with `nbdev_new`\n",
    "- Pushed to GitHub."
   ]
  },
  {
   "cell_type": "markdown",
   "metadata": {},
   "source": [
    "## Make your first edit"
   ]
  },
  {
   "cell_type": "markdown",
   "metadata": {},
   "source": [
    "In this section, you'll make your first edit to the repo you created in [_First steps_](#first-steps)."
   ]
  },
  {
   "cell_type": "markdown",
   "metadata": {},
   "source": [
    "### Install hooks for git-friendly notebooks"
   ]
  },
  {
   "cell_type": "markdown",
   "metadata": {},
   "source": [
    "Step one when working with Jupyter notebooks in a new repo is to install nbdev's hooks (you can think of \"hooks\" as plugins or extensions to an application).\n",
    "\n",
    "Install them by entering this command in your terminal:\n",
    "\n",
    "```sh\n",
    "nbdev_install_hooks\n",
    "```"
   ]
  },
  {
   "cell_type": "markdown",
   "metadata": {},
   "source": [
    "::: {.callout-note}\n",
    "\n",
    "The [clean hook](#nbdev_clean-on-saving-notebooks-in-jupyter) currently only supports Jupyter Notebook and JupyterLab. If you're using VSCode, you can try the [experimental nbdev VSCode extension](https://github.com/fastai/nbdev-vscode). Otherwise, you might also want to try [nbdev's pre-commit hooks](/tutorials/pre_commit.ipynb).\n",
    "\n",
    ":::"
   ]
  },
  {
   "cell_type": "markdown",
   "metadata": {},
   "source": [
    "See [_Git-friendly Jupyter_](git_friendly_jupyter.html) for more about how nbdev hooks work and how to customise them. Here's a short summary:\n",
    "\n",
    "- Fix broken notebooks due to git merge conflicts so that they can be opened and resolved directly in Jupyter.\n",
    "- Each time you save a Jupyter notebook, automatically clean unwanted metadata to remove unnecessary changes in pull requests and reduce the chance of git merge conflicts.\n",
    "- Automatically trust notebooks in the repo so that you can view widgets from collaborators' commits. For this reason, **you should not install hooks into a repo you don't trust**."
   ]
  },
  {
   "cell_type": "markdown",
   "metadata": {},
   "source": [
    "::: {.callout-tip}\n",
    "\n",
    "nbdev's git hooks work on _any_ git repo, even if it doesn't use the broader nbdev system.\n",
    "\n",
    ":::"
   ]
  },
  {
   "cell_type": "markdown",
   "metadata": {},
   "source": [
    "### Build your library"
   ]
  },
  {
   "cell_type": "markdown",
   "metadata": {},
   "source": [
    "You should now create your package from your notebook by running:\n",
    "\n",
    "```sh\n",
    "nbdev_export\n",
    "```\n",
    "\n",
    "This will create Python modules for your notebooks. These modules will make up the contents of your Python package."
   ]
  },
  {
   "cell_type": "markdown",
   "metadata": {},
   "source": [
    "### Install your package"
   ]
  },
  {
   "cell_type": "markdown",
   "metadata": {},
   "source": [
    "You might have noticed that `nbdev_new` created a Python package in your repo. In our case, it was automatically named `nbdev_hello_world` by using our repo name `nbdev-hello-world` and replacing `-` with `_` to make it a valid Python package."
   ]
  },
  {
   "cell_type": "markdown",
   "metadata": {},
   "source": [
    "The next step is to install your package by entering this into your terminal:\n",
    "\n",
    "```sh\n",
    "pip install -e '.[dev]'\n",
    "```\n",
    "\n",
    "This is the recommended way to make a Python package importable from anywhere in your current environment:\n",
    "\n",
    "- `-e` -- short for \"editable\", lets you immediately use changes made to your package without having to reinstall, which is convenient for development.\n",
    "- `.` -- refers to the current directory.\n",
    "- `[dev]` -- includes \"development\" requirements: other packages that your notebooks use solely for documentation or testing."
   ]
  },
  {
   "cell_type": "markdown",
   "metadata": {},
   "source": [
    "### Preview your docs"
   ]
  },
  {
   "cell_type": "markdown",
   "metadata": {},
   "source": [
    "nbdev is an interactive programming environment that values fast feedback loops. The `nbdev_preview` command helps achieve this by using Quarto to render your docs on your computer and keep them updated as your edit your notebooks."
   ]
  },
  {
   "cell_type": "markdown",
   "metadata": {},
   "source": [
    "Start the preview by entering this into your terminal:\n",
    "\n",
    "```sh\n",
    "nbdev_preview\n",
    "```"
   ]
  },
  {
   "cell_type": "markdown",
   "metadata": {},
   "source": [
    "It may say `Preparing to preview` for a few seconds while it gets started, and will eventually display something like:"
   ]
  },
  {
   "cell_type": "markdown",
   "metadata": {},
   "source": [
    "```\n",
    "Watching files for changes\n",
    "Browse at http://localhost:3000/\n",
    "```"
   ]
  },
  {
   "cell_type": "markdown",
   "metadata": {},
   "source": [
    "Click the link to open the preview in a new browser tab. It should look exactly like your online docs."
   ]
  },
  {
   "cell_type": "markdown",
   "metadata": {},
   "source": [
    "::: {.callout-tip}\n",
    "\n",
    "We often find it useful to keep a preview window open on the side while we're editing our notebooks in Jupyter.\n",
    "\n",
    ":::"
   ]
  },
  {
   "cell_type": "markdown",
   "metadata": {},
   "source": [
    "### Edit 00_core.ipynb"
   ]
  },
  {
   "cell_type": "markdown",
   "metadata": {},
   "source": [
    "Now, open the `nbs/00_core.ipynb` file (generated by running `nbdev_new` earlier) in Jupyter. You don't *have* to start your notebook names with a number, but we find it helpful to show the order that your project should be read in -- even though it could have been created in a different order."
   ]
  },
  {
   "cell_type": "markdown",
   "metadata": {},
   "source": [
    "#### Add your own frontmatter"
   ]
  },
  {
   "cell_type": "markdown",
   "metadata": {},
   "source": [
    "You'll see something that looks a bit like this:"
   ]
  },
  {
   "cell_type": "markdown",
   "metadata": {},
   "source": [
    "::: {.py-2 .px-3 .mb-4 fig-align=\"center\" .border .rounded .shadow-sm}\n",
    "\n",
    "**core**\n",
    "\n",
    "> Fill in a module description here\n",
    "\n",
    "```python\n",
    "#| default_exp core\n",
    "```\n",
    "\n",
    ":::"
   ]
  },
  {
   "cell_type": "markdown",
   "metadata": {},
   "source": [
    "Let's explain what these special cells means:\n",
    "\n",
    "- The first is a markdown cell with nbdev's markdown _frontmatter_ syntax that defines notebook metadata used by Quarto, our documentation engine (see the [frontmatter](/api/09_frontmatter.ipynb) reference page for more). It contains:\n",
    "    - H1 header (\"core\") -- defining the page title\n",
    "    - Quote (\"Fill in a module description here\") -- defining the page description\n",
    "- The second is a code cell with a _directive_ `default_exp` which decides which module this notebook will export to (see the [Directives](/explanations/directives.ipynb) explanation for more). Currently, it exports to the `core` module."
   ]
  },
  {
   "cell_type": "markdown",
   "metadata": {},
   "source": [
    "Next, rename the notebook, replace the title and description, and change the default export module for your own project."
   ]
  },
  {
   "cell_type": "markdown",
   "metadata": {},
   "source": [
    "Once you're done, save the notebook. The live preview started in the previous section should update with your latest changes."
   ]
  },
  {
   "cell_type": "markdown",
   "metadata": {},
   "source": [
    "Rerun all cells in your notebook to ensure that they work, and to export the updated modules."
   ]
  },
  {
   "cell_type": "markdown",
   "metadata": {},
   "source": [
    "::: {.callout-tip}\n",
    "\n",
    "We find the \"restart kernel and run all cells\" Jupyter command (the ⏩ button) so invaluable that we bind it to a keyboard shortcut. A common criticism of notebooks is that out-of-order execution leads to irreproducible notebooks. In our experience, making \"restart and rerun\" a habit solves this problem.\n",
    "\n",
    ":::"
   ]
  },
  {
   "cell_type": "markdown",
   "metadata": {},
   "source": [
    "Running the notebook exports Python modules because of the last cell which contains:\n",
    "\n",
    "```python\n",
    "#| hide\n",
    "import nbdev; nbdev.nbdev_export()\n",
    "```\n",
    "\n",
    "What does this mean?\n",
    "\n",
    "- `#| hide` is a directive (like `#| default_exp`) which excludes a cell from both your exported module and docs\n",
    "- `nbdev_export` is the command used to export your notebooks to Python modules.\n",
    "\n",
    "We recommend including a cell like this at the bottom of all of the notebooks you want to export."
   ]
  },
  {
   "cell_type": "markdown",
   "metadata": {},
   "source": [
    "::: {.callout-warning}\n",
    "\n",
    "Remember to delete any unused modules that aren't exported by a notebook or otherwise needed by your package. This is likely to happen if you change the default export of a notebook -- nbdev doesn't remove the old module. This is intended, since nbdev is designed to work with hybrid packages that use .py modules (with no corresponding notebook) as well as those exported from notebooks.\n",
    "\n",
    ":::"
   ]
  },
  {
   "cell_type": "markdown",
   "metadata": {},
   "source": [
    "#### Add your own function"
   ]
  },
  {
   "cell_type": "markdown",
   "metadata": {},
   "source": [
    "Add a new code cell below the `#| default_exp` cell with a function. For example:\n",
    "\n",
    "```python\n",
    "#| export\n",
    "def say_hello(to):\n",
    "    \"Say hello to somebody\"\n",
    "    return f'Hello {to}!'\n",
    "```\n",
    "\n",
    "Notice how it includes `#| export` at the top -- this is a directive (like `#| default_exp`) that tells nbdev to include the cell in your exported module and in your documentation.\n",
    "\n",
    "The documentation should look like this:"
   ]
  },
  {
   "cell_type": "code",
   "execution_count": null,
   "metadata": {},
   "outputs": [
    {
     "name": "stdout",
     "output_type": "stream",
     "text": [
      "::: {.py-2 .px-3 .mb-4 .border .rounded .shadow-sm}\n",
      "\n",
      "---\n",
      "\n",
      "### say_hello\n",
      "\n",
      ">      say_hello (to)\n",
      "\n",
      "Say hello to somebody\n",
      "\n",
      ":::\n",
      "\n",
      "\n"
     ]
    }
   ],
   "source": [
    "#| echo: false\n",
    "#| output: asis\n",
    "def say_hello(to):\n",
    "    \"Say hello to somebody\"\n",
    "    return f'Hello {to}!'\n",
    "\n",
    "print(div(show_doc(say_hello)._repr_markdown_(),\n",
    "          classes='py-2 px-3 mb-4 border rounded shadow-sm'.split()))"
   ]
  },
  {
   "cell_type": "markdown",
   "metadata": {},
   "source": [
    "#### Add your own examples, tests, and docs"
   ]
  },
  {
   "cell_type": "markdown",
   "metadata": {},
   "source": [
    "One of the superpowers of notebook-driven development is that you can very easily add examples, tests, and documentation right below your code."
   ]
  },
  {
   "cell_type": "markdown",
   "metadata": {},
   "source": [
    "Include regular code cells, and they'll appear (with output) in your docs, for example:"
   ]
  }
 ],
 "metadata": {
  "jupytext": {
   "split_at_heading": true
  },
  "kernelspec": {
   "display_name": "python3",
   "language": "python",
   "name": "python3"
  },
  "widgets": {
   "application/vnd.jupyter.widget-state+json": {
    "state": {},
    "version_major": 2,
    "version_minor": 0
   }
  }
 },
 "nbformat": 4,
 "nbformat_minor": 4
}
