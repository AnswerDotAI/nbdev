{
 "cells": [
  {
   "cell_type": "code",
   "execution_count": 1,
   "metadata": {},
   "outputs": [],
   "source": [
    "# default_exp tools"
   ]
  },
  {
   "cell_type": "code",
   "execution_count": 2,
   "metadata": {},
   "outputs": [],
   "source": [
    "#export\n",
    "import types\n",
    "import functools\n",
    "from nbdev.imports import *"
   ]
  },
  {
   "cell_type": "markdown",
   "metadata": {},
   "source": [
    "# Notebook Tools"
   ]
  },
  {
   "cell_type": "markdown",
   "metadata": {},
   "source": [
    "These tools are used to improve the notebook developing environment. Mo"
   ]
  },
  {
   "cell_type": "markdown",
   "metadata": {},
   "source": [
    "## Class Patch Tools"
   ]
  },
  {
   "cell_type": "code",
   "execution_count": 3,
   "metadata": {},
   "outputs": [],
   "source": [
    "#export\n",
    "def copy_func(f):\n",
    "    \"Copy a non-builtin function (NB `copy.copy` does not work for this)\"\n",
    "    if not isinstance(f,types.FunctionType): return copy(f)\n",
    "    fn = types.FunctionType(f.__code__, f.__globals__, f.__name__, f.__defaults__, f.__closure__)\n",
    "    fn.__dict__.update(f.__dict__)\n",
    "    return fn"
   ]
  },
  {
   "cell_type": "code",
   "execution_count": 4,
   "metadata": {},
   "outputs": [],
   "source": [
    "#export\n",
    "def patch_to(cls, as_prop=False):\n",
    "    \"Decorator: add `f` to `cls`\"\n",
    "    if not isinstance(cls, (tuple,list)): cls=(cls,)\n",
    "    def _inner(f):\n",
    "        for c_ in cls:\n",
    "            nf = copy_func(f)\n",
    "            # `functools.update_wrapper` when passing patched function to `Pipeline`, so we do it manually\n",
    "            for o in functools.WRAPPER_ASSIGNMENTS: setattr(nf, o, getattr(f,o))\n",
    "            nf.__qualname__ = f\"{c_.__name__}.{f.__name__}\"\n",
    "            setattr(c_, f.__name__, property(nf) if as_prop else nf)\n",
    "        return f\n",
    "    return _inner"
   ]
  },
  {
   "cell_type": "code",
   "execution_count": 5,
   "metadata": {},
   "outputs": [],
   "source": [
    "class _T1(int): pass\n",
    "\n",
    "@patch_to(_T1)\n",
    "def func1(x, a): return x+a\n",
    "\n",
    "t = _T1(1)\n",
    "test_eq(t.func1(2), 3)"
   ]
  },
  {
   "cell_type": "code",
   "execution_count": 6,
   "metadata": {},
   "outputs": [],
   "source": [
    "class _T2(int): pass\n",
    "@patch_to((_T1,_T2))\n",
    "def func2(x, a): return x+2*a\n",
    "\n",
    "t = _T1(1)\n",
    "test_eq(t.func2(1), 3)\n",
    "t = _T2(1)\n",
    "test_eq(t.func2(1), 3)"
   ]
  },
  {
   "cell_type": "code",
   "execution_count": 7,
   "metadata": {},
   "outputs": [],
   "source": [
    "#export\n",
    "def patch(f):\n",
    "    \"Decorator: add `f` to the first parameter's class (based on f's type annotations)\"\n",
    "    cls = next(iter(f.__annotations__.values()))\n",
    "    return patch_to(cls)(f)"
   ]
  },
  {
   "cell_type": "code",
   "execution_count": 8,
   "metadata": {},
   "outputs": [],
   "source": [
    "@patch\n",
    "def func3(x:_T1, a):\n",
    "    \"test\"\n",
    "    return x+2\n",
    "\n",
    "t = _T1(1)\n",
    "test_eq(t.func3(2), 3)\n",
    "test_eq(t.func3(10), 3)\n",
    "test_eq(t.func3.__qualname__, '_T1.func3')"
   ]
  },
  {
   "cell_type": "code",
   "execution_count": 9,
   "metadata": {},
   "outputs": [],
   "source": [
    "@patch\n",
    "def func4(x:(_T1,_T2), a):\n",
    "    \"test\"\n",
    "    return x+2*a\n",
    "\n",
    "t = _T1(1)\n",
    "test_eq(t.func4(2), 5)\n",
    "test_eq(t.func4.__qualname__, '_T1.func4')\n",
    "t = _T2(1)\n",
    "test_eq(t.func4(2), 5)\n",
    "test_eq(t.func4.__qualname__, '_T2.func4')"
   ]
  },
  {
   "cell_type": "code",
   "execution_count": 10,
   "metadata": {},
   "outputs": [],
   "source": [
    "#export\n",
    "def patch_property(f):\n",
    "    \"Decorator: add `f` as a property to the first parameter's class (based on f's type annotations)\"\n",
    "    cls = next(iter(f.__annotations__.values()))\n",
    "    return patch_to(cls, as_prop=True)(f)"
   ]
  },
  {
   "cell_type": "code",
   "execution_count": 11,
   "metadata": {},
   "outputs": [],
   "source": [
    "@patch_property\n",
    "def prop(x:_T1): return x+1\n",
    "\n",
    "t = _T1(1)\n",
    "test_eq(t.prop, 2)"
   ]
  },
  {
   "cell_type": "markdown",
   "metadata": {},
   "source": [
    "## Delegates"
   ]
  },
  {
   "cell_type": "code",
   "execution_count": 12,
   "metadata": {},
   "outputs": [],
   "source": [
    "def test_sig(f, b): test_eq(str(inspect.signature(f)), b)"
   ]
  },
  {
   "cell_type": "code",
   "execution_count": 13,
   "metadata": {},
   "outputs": [],
   "source": [
    "#export\n",
    "def delegates(to=None, keep=False):\n",
    "    \"Decorator: replace `**kwargs` in signature with params from `to`\"\n",
    "    def _f(f):\n",
    "        if to is None: to_f,from_f = f.__base__.__init__,f.__init__\n",
    "        else:          to_f,from_f = to,f\n",
    "        from_f = getattr(from_f,'__func__',from_f)\n",
    "        if hasattr(from_f,'__delwrap__'): return f\n",
    "        sig = inspect.signature(from_f)\n",
    "        sigd = dict(sig.parameters)\n",
    "        k = sigd.pop('kwargs')\n",
    "        s2 = {k:v for k,v in inspect.signature(to_f).parameters.items()\n",
    "              if v.default != inspect.Parameter.empty and k not in sigd}\n",
    "        sigd.update(s2)\n",
    "        if keep: sigd['kwargs'] = k\n",
    "        from_f.__signature__ = sig.replace(parameters=sigd.values())\n",
    "        from_f.__delwrap__ = to_f\n",
    "        return f\n",
    "    return _f"
   ]
  },
  {
   "cell_type": "code",
   "execution_count": 15,
   "metadata": {},
   "outputs": [],
   "source": [
    "def _T3(e, c=2): pass\n",
    "\n",
    "@delegates(basefoo)\n",
    "def d(a, b=1, **kwargs): pass\n",
    "test_sig(foo, '(a, b=1, c=2)')\n",
    "\n",
    "@delegates(basefoo, keep=True)\n",
    "def foo(a, b=1, **kwargs): pass\n",
    "test_sig(foo, '(a, b=1, c=2, **kwargs)')"
   ]
  },
  {
   "cell_type": "code",
   "execution_count": null,
   "metadata": {},
   "outputs": [],
   "source": []
  }
 ],
 "metadata": {
  "kernelspec": {
   "display_name": "Python 3",
   "language": "python",
   "name": "python3"
  },
  "language_info": {
   "codemirror_mode": {
    "name": "ipython",
    "version": 3
   },
   "file_extension": ".py",
   "mimetype": "text/x-python",
   "name": "python",
   "nbconvert_exporter": "python",
   "pygments_lexer": "ipython3",
   "version": "3.7.3"
  }
 },
 "nbformat": 4,
 "nbformat_minor": 2
}
