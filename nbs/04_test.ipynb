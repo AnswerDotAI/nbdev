{
 "cells": [
  {
   "cell_type": "code",
   "execution_count": null,
   "metadata": {},
   "outputs": [
    {
     "name": "stdout",
     "output_type": "stream",
     "text": [
      "Cells will be exported to nbdev.test,\n",
      "unless a different module is specified after an export flag: `%nbdev_export special.module`\n"
     ]
    }
   ],
   "source": [
    "from nbdev import *\n",
    "%nbdev_default_export test"
   ]
  },
  {
   "cell_type": "code",
   "execution_count": null,
   "metadata": {},
   "outputs": [],
   "source": [
    "%nbdev_export\n",
    "from nbdev.imports import *\n",
    "from nbdev.sync import *\n",
    "from nbdev.export import *\n",
    "\n",
    "from nbconvert.preprocessors import ExecutePreprocessor"
   ]
  },
  {
   "cell_type": "markdown",
   "metadata": {},
   "source": [
    "# Extract tests\n",
    "\n",
    "> The functions that grab the cells containing tests (filtering with potential flags) and execute them"
   ]
  },
  {
   "cell_type": "markdown",
   "metadata": {},
   "source": [
    "Everything that is not an exported cell is considered a test, so you should make sure your notebooks can all run smoothly (and fast) if you want to use this functionality as the CLI. You can mark some cells with special flags (like slow) to make sure they are only executed when you authorize it. Those flags should be configured in your `settings.ini` (separated by a `|` if you have several of them). \n",
    "\n",
    "If `tst_flags=slow|fastai2` in `settings.ini`, you can;\n",
    "- mark slow tests with the `%nbdev_slow_test` flag\n",
    "- mark tests that depend on fastai2 with the `%nbdev_fastai2_test` flag. \n",
    "\n",
    "To apply a flag to one entire notebook, use the `all` option of the test flag (e.g. `%nbdev_slow_test all`), in one of its cells."
   ]
  },
  {
   "cell_type": "markdown",
   "metadata": {},
   "source": [
    "## Detect flags"
   ]
  },
  {
   "cell_type": "markdown",
   "metadata": {},
   "source": [
    "The following functions detect the cells that should be excluded from the tests (unless their special flag is passed)."
   ]
  },
  {
   "cell_type": "code",
   "execution_count": null,
   "metadata": {},
   "outputs": [],
   "source": [
    "%nbdev_export\n",
    "_re_all_flag = re.compile(\"\"\"\n",
    "# Matches any line that is a test flag with the all option and catches the test flag name in a group:\n",
    "^%nbdev_  # beginning of line (since re.MULTILINE is passed) and start of magic flag\n",
    "(\\S+)     # the tst flag: group with any non-whitespace chars\n",
    "_test     # end of magic\n",
    "[ \\t]+all # the all option\n",
    "\\s*       # any number of whitespace\n",
    "$         # end of line (since re.MULTILINE is passed)\n",
    "\"\"\", re.MULTILINE | re.VERBOSE)"
   ]
  },
  {
   "cell_type": "code",
   "execution_count": null,
   "metadata": {},
   "outputs": [],
   "source": [
    "%nbdev_hide\n",
    "test_eq('Working', _re_all_flag.search('line1\\n%nbdev_Working_test all\\nline 3').groups()[0])\n",
    "test_eq(None, _re_all_flag.search('line1\\n%nbdev_Working_test ALL\\nline 3'))"
   ]
  },
  {
   "cell_type": "code",
   "execution_count": null,
   "metadata": {},
   "outputs": [],
   "source": [
    "%nbdev_export\n",
    "def check_all_flag(cells):\n",
    "    \"Check for a cell containing a test flag with the all option and then return said flag\"\n",
    "    for cell in cells:\n",
    "        if check_re(cell, _re_all_flag): return check_re(cell, _re_all_flag).groups()[0]"
   ]
  },
  {
   "cell_type": "code",
   "execution_count": null,
   "metadata": {},
   "outputs": [],
   "source": [
    "nb = read_nb(\"04_test.ipynb\")\n",
    "test_eq(None, check_all_flag(nb['cells']))\n",
    "test_eq('Working', check_all_flag([nbformat.v4.new_code_cell('line1\\n%nbdev_Working_test all\\nline 3')]))\n",
    "# only the first \"all test\" flag will be picked up\n",
    "test_eq('A1', check_all_flag([nbformat.v4.new_code_cell('%nbdev_A1_test all\\n\\n%nbdev_Working_test all')]))"
   ]
  },
  {
   "cell_type": "code",
   "execution_count": null,
   "metadata": {},
   "outputs": [],
   "source": [
    "%nbdev_export\n",
    "def _compile_re_tst_flags(tst_flags):\n",
    "    \"Return a regex pattern to find `tst_flags`\"\n",
    "    if tst_flags is None: return re.compile(\"^~Dont match ANYTHING~$\")\n",
    "    return re.compile(f\"\"\"\n",
    "# Matches any line with a test flad and catches it in a group:\n",
    "^%nbdev_        # beginning of line (since re.MULTILINE is passed) and start of magic flag\n",
    "({tst_flags})   # pipe delimited list of test flags\n",
    "_test           # end of magic\n",
    "\\s*             # any number of whitespace\n",
    "$               # end of line (since re.MULTILINE is passed)\n",
    "\"\"\", re.MULTILINE | re.VERBOSE)\n",
    "\n",
    "class _ReTstFlags():\n",
    "    def __init__(self): self._re = None\n",
    "    @property\n",
    "    def re(self):\n",
    "        if self._re is None: self._re = _compile_re_tst_flags(Config().get('tst_flags'))\n",
    "        return self._re\n",
    "\n",
    "_re_flags = _ReTstFlags()"
   ]
  },
  {
   "cell_type": "code",
   "execution_count": null,
   "metadata": {},
   "outputs": [],
   "source": [
    "%nbdev_hide\n",
    "#Note: we took _compile_re_tst_flags logic out of _ReTstFlags to make it more testable\n",
    "def test_compile_re_tst_flags():\n",
    "    pattern = _compile_re_tst_flags(None)\n",
    "    test_eq([], pattern.findall('%nbdev_hide\\n%nbdev_None_test\\n'))\n",
    "    pattern = _compile_re_tst_flags('')\n",
    "    test_eq([''], pattern.findall('%nbdev_hide\\n%nbdev__test\\n'))\n",
    "    pattern = _compile_re_tst_flags('slow|fastai2')\n",
    "    test_eq([], pattern.findall('%nbdev_hide\\n%nbdev_None_test\\n'))\n",
    "    test_eq([], pattern.findall('%nbdev_hide\\n%nbdev__test\\n'))\n",
    "    test_eq(['fastai2'], pattern.findall('%nbdev_hide\\n%nbdev_fastai2_test\\n'))\n",
    "    test_eq(['slow'], pattern.findall('%nbdev_hide\\n%nbdev_slow_test\\n'))\n",
    "    test_eq(['fastai2','slow'], pattern.findall('%nbdev_hide\\n%nbdev_fastai2_test\\n%nbdev_slow_test\\n'))\n",
    "    test_eq(['slow','fastai2'], pattern.findall('%nbdev_slow_test\\n%nbdev_fastai2_test'))\n",
    "    test_eq(['slow'], pattern.findall('%nbdev_slow_test\\n%nbdev_Fastai2_test'))\n",
    "test_compile_re_tst_flags()"
   ]
  },
  {
   "cell_type": "code",
   "execution_count": null,
   "metadata": {},
   "outputs": [],
   "source": [
    "%nbdev_export\n",
    "def get_cell_flags(cell):\n",
    "    \"Check for any special test flag in `cell`\"\n",
    "    if cell['cell_type'] != 'code' or len(Config().get('tst_flags'))==0: return []\n",
    "    return _re_flags.re.findall(cell['source'])"
   ]
  },
  {
   "cell_type": "code",
   "execution_count": null,
   "metadata": {},
   "outputs": [],
   "source": [
    "test_eq(get_cell_flags({'cell_type': 'code', 'source': \"%nbdev_hide\\n%nbdev_fastai2_test\\n\"}), ['fastai2'])\n",
    "test_eq(get_cell_flags({'cell_type': 'code', 'source': \"%nbdev_hide\\n\"}), [])"
   ]
  },
  {
   "cell_type": "markdown",
   "metadata": {},
   "source": [
    "## Testing a notebook"
   ]
  },
  {
   "cell_type": "code",
   "execution_count": null,
   "metadata": {},
   "outputs": [],
   "source": [
    "%nbdev_export\n",
    "class NoExportPreprocessor(ExecutePreprocessor):\n",
    "    \"An `ExecutePreprocessor` that executes cells that are not exported and don't have a flag in `flags`\"\n",
    "    def __init__(self, flags, **kwargs):\n",
    "        self.flags = flags\n",
    "        super().__init__(**kwargs)\n",
    "\n",
    "    def preprocess_cell(self, cell, resources, index):\n",
    "        if 'source' not in cell or cell['cell_type'] != \"code\": return cell, resources\n",
    "        for f in get_cell_flags(cell):\n",
    "            if f not in self.flags:  return cell, resources\n",
    "        res = super().preprocess_cell(cell, resources, index)\n",
    "        return res"
   ]
  },
  {
   "cell_type": "code",
   "execution_count": null,
   "metadata": {},
   "outputs": [],
   "source": [
    "%nbdev_export\n",
    "def test_nb(fn, flags=None):\n",
    "    \"Execute tests in notebook in `fn` with `flags`\"\n",
    "    os.environ[\"IN_TEST\"] = '1'\n",
    "    if flags is None: flags = []\n",
    "    try:\n",
    "        nb = read_nb(fn)\n",
    "        all_flag = check_all_flag(nb['cells'])\n",
    "        if all_flag is not None and all_flag not in flags: return\n",
    "        mod = find_default_export(nb['cells'])\n",
    "        ep = NoExportPreprocessor(flags, timeout=600, kernel_name='python3')\n",
    "        pnb = nbformat.from_dict(nb)\n",
    "        ep.preprocess(pnb)\n",
    "    finally: os.environ.pop(\"IN_TEST\")"
   ]
  },
  {
   "cell_type": "markdown",
   "metadata": {},
   "source": [
    "## Export-"
   ]
  },
  {
   "cell_type": "code",
   "execution_count": null,
   "metadata": {},
   "outputs": [
    {
     "name": "stdout",
     "output_type": "stream",
     "text": [
      "Converted 00_export.ipynb.\n",
      "Converted 01_sync.ipynb.\n",
      "Converted 02_showdoc.ipynb.\n",
      "Converted 03_export2html.ipynb.\n",
      "Converted 04_test.ipynb.\n",
      "Converted 05_merge.ipynb.\n",
      "Converted 06_cli.ipynb.\n",
      "Converted 07_clean.ipynb.\n",
      "Converted 08_flags.ipynb.\n",
      "Converted 09_migrate2magic.ipynb.\n",
      "Converted 99_search.ipynb.\n",
      "Converted index.ipynb.\n",
      "Converted tutorial.ipynb.\n"
     ]
    }
   ],
   "source": [
    "%nbdev_hide\n",
    "notebook2script()"
   ]
  }
 ],
 "metadata": {
  "kernelspec": {
   "display_name": "Python 3",
   "language": "python",
   "name": "python3"
  }
 },
 "nbformat": 4,
 "nbformat_minor": 2
}
