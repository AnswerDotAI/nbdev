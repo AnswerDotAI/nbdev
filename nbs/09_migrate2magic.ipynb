{
 "cells": [
  {
   "cell_type": "code",
   "execution_count": null,
   "metadata": {},
   "outputs": [
    {
     "name": "stdout",
     "output_type": "stream",
     "text": [
      "Cells will be exported to nbdev.migrate2magic,\n",
      "unless a different module is specified after an export flag: `%nbdev_export special.module`\n"
     ]
    }
   ],
   "source": [
    "from nbdev import *\n",
    "%nbdev_default_export migrate2magic"
   ]
  },
  {
   "cell_type": "markdown",
   "metadata": {},
   "source": [
    "# Migrate from comment flags to magic flags\n",
    "\n",
    "> Console command to migrate comment flags to magic flags"
   ]
  },
  {
   "cell_type": "code",
   "execution_count": null,
   "metadata": {},
   "outputs": [],
   "source": [
    "%nbdev_export\n",
    "from nbdev.imports import *\n",
    "from nbdev.export import read_nb\n",
    "from fastscript import call_parse,Param\n",
    "import re,nbformat"
   ]
  },
  {
   "cell_type": "markdown",
   "metadata": {},
   "source": [
    "To use the command created by this notebook, you must be in one of the subfolders of your project: it will search for `settings.ini` recursively in the parent directory but need to access it to be able to work. \n",
    "- `nbdev_migrate2magic` updates comment flags to magic flags in notebooks"
   ]
  },
  {
   "cell_type": "markdown",
   "metadata": {},
   "source": [
    "## Migrating notebooks\n",
    "\n",
    "Run `nbdev_migrate2magic` from the command line to update code cells in notebooks that use comment flags like\n",
    "\n",
    "```python\n",
    "# default_exp migrate2magic\n",
    "#export special.module\n",
    "```\n",
    "\n",
    "to use magic flags\n",
    "\n",
    "```python\n",
    "%nbdev_default_export migrate2magic\n",
    "%nbdev_export special.module\n",
    "```\n",
    "\n",
    "To make the magic flags work, `nbdev_migrate2magic` adds a new code cell to the top of the notebook\n",
    "\n",
    "```python\n",
    "from nbdev import *\n",
    "```\n",
    "\n",
    "Note: we don't add this new cell if we don't find any comment flags to replace.\n",
    "\n",
    "After running `nbdev_migrate2magic`, you'll see\n",
    "- migrated notebooks in `nbs_path`\n",
    "- unmodified notebooks in `.nbdev_bck_0`.\n",
    "\n",
    "### Hiding the `from nbdev import *` cell\n",
    "\n",
    "nbdev does not treat `from nbdev import *` as special but this cell can be hidden from the docs by combining it with `%nbdev_default_export`. e.g. \n",
    "```python\n",
    "from nbdev import *\n",
    "%nbdev_default_export migrate2magic\n",
    "```\n",
    "this works because nbdev will hide any cell containing the `%nbdev_default_export` flag."
   ]
  },
  {
   "cell_type": "code",
   "execution_count": null,
   "metadata": {},
   "outputs": [],
   "source": [
    "%nbdev_export_internal\n",
    "def _code_patterns_and_replace_fns():\n",
    "    \"return a list of pattern/function tuples that can migrate flags used in code cells\"\n",
    "    patterns_and_replace_fns = []\n",
    "\n",
    "    def _replace_fn(magic, m):\n",
    "        \"return a magic flag for a comment flag matched in `m`\"\n",
    "        return f'%{magic}' if m.group(1) is None else f'%{magic} {m.group(1).strip()}'\n",
    "\n",
    "    def _add_pattern_and_replace_fn(comment_flag, magic_flag):\n",
    "        \"add a pattern/function tuple to go from comment to magic flag\"\n",
    "        pattern = re.compile(rf\"\"\"\n",
    "# Matches a comment flag line (e.g. #exporti) and catches parameter in group 1:\n",
    "^              # beginning of line (since re.MULTILINE is passed)\n",
    "\\s*            # any number of whitespace\n",
    "\\#\\s*          # \"#\", then any number of whitespace\n",
    "{comment_flag} #\n",
    "([ \\t]+\\S+)?   # catch a group, with leading spaces and/or tabs, followed by any non-whitespace chars\n",
    "\\s*            # any number of whitespace\n",
    "$              # end of line (since re.MULTILINE is passed)\n",
    "\"\"\", re.IGNORECASE | re.MULTILINE | re.VERBOSE)\n",
    "        # note: fn has to be single arg so we can use it in `pattern.sub` calls later\n",
    "        patterns_and_replace_fns.append((pattern, partial(_replace_fn, magic_flag)))\n",
    "\n",
    "    _add_pattern_and_replace_fn('default_exp', 'nbdev_default_export')\n",
    "    _add_pattern_and_replace_fn('exports', 'nbdev_export_and_show')\n",
    "    _add_pattern_and_replace_fn('exporti', 'nbdev_export_internal')\n",
    "    _add_pattern_and_replace_fn('export', 'nbdev_export')\n",
    "    _add_pattern_and_replace_fn('hide_input', 'nbdev_hide_input')\n",
    "    _add_pattern_and_replace_fn('hide_output', 'nbdev_hide_output')\n",
    "    _add_pattern_and_replace_fn('hide', 'nbdev_hide')\n",
    "    _add_pattern_and_replace_fn('default_cls_lvl', 'nbdev_default_class_level')\n",
    "    _add_pattern_and_replace_fn('collapse[_-]output', 'nbdev_collapse_output')\n",
    "    _add_pattern_and_replace_fn('collapse[_-]show', 'nbdev_collapse_input open')\n",
    "    _add_pattern_and_replace_fn('collapse[_-]hide', 'nbdev_collapse_input')\n",
    "    _add_pattern_and_replace_fn('collapse', 'nbdev_collapse_input')\n",
    "    for flag in Config().get('tst_flags', '').split('|'):\n",
    "        _add_pattern_and_replace_fn(f'all_{flag}', f'nbdev_{flag}_test all')\n",
    "        _add_pattern_and_replace_fn(flag, f'nbdev_{flag}_test')\n",
    "    return patterns_and_replace_fns"
   ]
  },
  {
   "cell_type": "code",
   "execution_count": null,
   "metadata": {},
   "outputs": [],
   "source": [
    "%nbdev_export_internal\n",
    "class CellMigrator():\n",
    "    \"\"\"Can migrate a cell using `patterns_and_replace_fns`.\n",
    "    Keeps track of the number of cells updated in `upd_count`\"\"\"\n",
    "    def __init__(self, patterns_and_replace_fns):\n",
    "        self.patterns_and_replace_fns,self.upd_count=patterns_and_replace_fns,0\n",
    "    def __call__(self, cell):\n",
    "        for pattern, replace_fn in self.patterns_and_replace_fns:\n",
    "            source=cell.source\n",
    "            cell.source=pattern.sub(replace_fn, source)\n",
    "            if source!=cell.source: self.upd_count+=1"
   ]
  },
  {
   "cell_type": "code",
   "execution_count": null,
   "metadata": {},
   "outputs": [],
   "source": [
    "%nbdev_export_internal\n",
    "def _migrate2magic(nb, update_md=False):\n",
    "    \"Migrate a single notebook\"\n",
    "    code_cell_migrator=CellMigrator(_code_patterns_and_replace_fns())\n",
    "    [code_cell_migrator(cell) for cell in nb.cells if cell.cell_type=='code']\n",
    "    if code_cell_migrator.upd_count!=0:\n",
    "        nb.cells.insert(0, nbformat.v4.new_code_cell('from nbdev import *'))\n",
    "    NotebookNotary().sign(nb)\n",
    "    return nb"
   ]
  },
  {
   "cell_type": "code",
   "execution_count": null,
   "metadata": {},
   "outputs": [],
   "source": [
    "%nbdev_hide\n",
    "def remove_line(starting_with, from_string):\n",
    "    result=[]\n",
    "    for line in from_string.split('\\n'):\n",
    "        if not line.strip().startswith(starting_with):\n",
    "            result.append(line)\n",
    "    return '\\n'.join(result)\n",
    "\n",
    "test_eq('x\\nb\\n%magic\\n123\\n %magic', remove_line('#', 'x\\nb\\n%magic\\n#comment\\n123\\n %magic\\n # comment'))\n",
    "test_eq('x\\nb\\n123', remove_line('%', 'x\\nb\\n%magic\\n123\\n %magic'))"
   ]
  },
  {
   "cell_type": "code",
   "execution_count": null,
   "metadata": {},
   "outputs": [],
   "source": [
    "%nbdev_hide\n",
    "def remove_comments_and_magics(string):\n",
    "    return remove_line('#', remove_line('%', string))\n",
    "\n",
    "test_eq('x\\nb\\n123', remove_comments_and_magics('x\\nb\\n%magic\\n#comment\\n123\\n %magic\\n # comment'))"
   ]
  },
  {
   "cell_type": "code",
   "execution_count": null,
   "metadata": {},
   "outputs": [],
   "source": [
    "%nbdev_hide\n",
    "def test_migrate2magic(fname):\n",
    "    \"check that nothing other that comments and magics in code cells have been changed\"\n",
    "    nb=read_nb(fname)\n",
    "    nb_migrated=_migrate2magic(read_nb(fname))\n",
    "    test_eq(len(nb.cells)+1, len(nb_migrated.cells))\n",
    "    test_eq('from nbdev import *', nb_migrated.cells[0].source)\n",
    "    for i in range(len(nb.cells)):\n",
    "        cell, cell_migrated=nb.cells[i], nb_migrated.cells[i+1]\n",
    "        if cell.cell_type=='code':\n",
    "            cell.source=remove_comments_and_magics(cell.source)\n",
    "            cell_migrated.source=remove_comments_and_magics(cell_migrated.source)\n",
    "        test_eq(cell, cell_migrated)\n",
    "        \n",
    "test_migrate2magic('../test/00_export.ipynb')\n",
    "test_migrate2magic('../test/07_clean.ipynb')\n",
    "\n",
    "def test_migrate2magic_noop(fname):\n",
    "    \"check that nothing is changed if there are no comment flags in a notebook\"\n",
    "    nb=read_nb(fname)\n",
    "    nb_migrated=_migrate2magic(read_nb(fname))\n",
    "    test_eq(nb, nb_migrated)\n",
    "        \n",
    "test_migrate2magic_noop('99_search.ipynb')"
   ]
  },
  {
   "cell_type": "code",
   "execution_count": null,
   "metadata": {},
   "outputs": [],
   "source": [
    "%nbdev_hide\n",
    "sources=['#export aaa\\nimport io,sys,json,glob\\n#collapse-OUTPUT\\nfrom fastscript ...',\n",
    "           '%nbdev_export aaa\\nimport io,sys,json,glob\\n%nbdev_collapse_output\\nfrom fastscript ...',\n",
    "           '#EXPORT\\n # collapse\\nimport io,sys,json,glob',\n",
    "           '%nbdev_export\\n%nbdev_collapse_input\\nimport io,sys,json,glob',\n",
    "           '#exportS\\nimport io,sys,json,glob\\n#colLApse_show',\n",
    "           '%nbdev_export_and_show\\nimport io,sys,json,glob\\n%nbdev_collapse_input open',\n",
    "           ' # collapse-show \\n#exporti\\nimport io,sys,json,glob',\n",
    "           '%nbdev_collapse_input open\\n%nbdev_export_internal\\nimport io,sys,json,glob',\n",
    "           '#export\\t\\tspecial.module  \\nimport io,sys,json,glob',\n",
    "           '%nbdev_export special.module\\nimport io,sys,json,glob',\n",
    "           '#exports special.module\\nimport io,sys,json,glob',\n",
    "           '%nbdev_export_and_show special.module\\nimport io,sys,json,glob',\n",
    "           '#EXPORTs   special.module\\nimport io,sys,json,glob',\n",
    "           '%nbdev_export_and_show special.module\\nimport io,sys,json,glob',\n",
    "           '#exportI \\t \\tspecial.module\\n# collapse_hide  \\nimport io,sys,json,glob',\n",
    "           '%nbdev_export_internal special.module\\n%nbdev_collapse_input\\nimport io,sys,json,glob',\n",
    "           '# export \\nimport io,sys,json,glob',\n",
    "           '%nbdev_export\\nimport io,sys,json,glob',\n",
    "           '# exports \\nimport io,sys,json,glob',\n",
    "           '%nbdev_export_and_show\\nimport io,sys,json,glob',\n",
    "           '# exporti \\nimport io,sys,json,glob',\n",
    "           '%nbdev_export_internal\\nimport io,sys,json,glob',\n",
    "           ' # export\\nimport io,sys,json,glob',\n",
    "           '%nbdev_export\\nimport io,sys,json,glob',\n",
    "           ' #  Collapse-Hide \\n # EXPORTS\\nimport io,sys,json,glob',\n",
    "           '%nbdev_collapse_input\\n%nbdev_export_and_show\\nimport io,sys,json,glob',\n",
    "           ' # exporti\\nimport io,sys,json,glob',\n",
    "           '%nbdev_export_internal\\nimport io,sys,json,glob',\n",
    "           'import io,sys,json,glob\\n#export aaa\\nfrom fastscript import call_pars...',\n",
    "           'import io,sys,json,glob\\n%nbdev_export aaa\\nfrom fastscript import call_pars...',\n",
    "           '#COLLAPSE_OUTPUT\\nprint(\"lotsofoutput\")',\n",
    "           '%nbdev_collapse_output\\nprint(\"lotsofoutput\")']\n",
    "nb=nbformat.v4.new_notebook()\n",
    "nb_expected=nbformat.v4.new_notebook()\n",
    "nb_expected.cells.append(nbformat.v4.new_code_cell('from nbdev import *'))\n",
    "for cells, source in zip([nb.cells,nb_expected.cells]*(len(sources)//2), sources):\n",
    "    cells.append(nbformat.v4.new_code_cell(source))\n",
    "nb_migrated=_migrate2magic(nb)\n",
    "test_eq(nb_expected, nb_migrated)"
   ]
  },
  {
   "cell_type": "markdown",
   "metadata": {},
   "source": [
    "`nbdev_migrate2magic` copies all notebooks in `nbs_path` to `.nbdev_bck_0` (or `.nbdev_bck_1` if `_0` already exsts ...)\n",
    "\n",
    "`nbdev_migrate2magic` then reads all notebooks in `nbs_path` and migrates them in-place."
   ]
  },
  {
   "cell_type": "code",
   "execution_count": null,
   "metadata": {},
   "outputs": [],
   "source": [
    "%nbdev_export\n",
    "@call_parse\n",
    "def nbdev_migrate2magic():\n",
    "    \"\"\"Update all notebooks in `nbs_path` to use magic flags.\"\"\"\n",
    "    config=Config()\n",
    "    bck_path=config.config_file.parent/'.nbdev_bck_0'\n",
    "    i=0\n",
    "    while bck_path.exists():\n",
    "        i+=1\n",
    "        bck_path=config.config_file.parent/f'.nbdev_bck_{i}'\n",
    "    bck_path.mkdir()\n",
    "    for fname in config.nbs_path.glob('*.ipynb'):\n",
    "        shutil.copy2(fname, bck_path)\n",
    "    print('Copied nbs in', config.nbs_path, 'to', bck_path)\n",
    "    for fname in config.nbs_path.glob('*.ipynb'):\n",
    "        print('Migrating', fname)\n",
    "        nbformat.write(_migrate2magic(read_nb(fname)), str(fname), version=4)"
   ]
  },
  {
   "cell_type": "markdown",
   "metadata": {},
   "source": [
    "## Export"
   ]
  },
  {
   "cell_type": "code",
   "execution_count": null,
   "metadata": {},
   "outputs": [
    {
     "name": "stdout",
     "output_type": "stream",
     "text": [
      "Converted 00_export.ipynb.\n",
      "Converted 01_sync.ipynb.\n",
      "Converted 02_showdoc.ipynb.\n",
      "Converted 03_export2html.ipynb.\n",
      "Converted 04_test.ipynb.\n",
      "Converted 05_merge.ipynb.\n",
      "Converted 06_cli.ipynb.\n",
      "Converted 07_clean.ipynb.\n",
      "Converted 08_flags.ipynb.\n",
      "Converted 09_migrate2magic.ipynb.\n",
      "Converted 99_search.ipynb.\n",
      "Converted index.ipynb.\n",
      "Converted tutorial.ipynb.\n"
     ]
    }
   ],
   "source": [
    "%nbdev_hide\n",
    "from nbdev.export import *\n",
    "notebook2script()"
   ]
  }
 ],
 "metadata": {
  "jupytext": {
   "split_at_heading": true
  },
  "kernelspec": {
   "display_name": "Python 3",
   "language": "python",
   "name": "python3"
  }
 },
 "nbformat": 4,
 "nbformat_minor": 2
}
