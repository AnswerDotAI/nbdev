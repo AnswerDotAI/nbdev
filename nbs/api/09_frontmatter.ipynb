{
 "cells": [
  {
   "cell_type": "code",
   "execution_count": null,
   "id": "f14f1df0-7110-452f-beff-430a8f0aec73",
   "metadata": {},
   "outputs": [],
   "source": [
    "#|default_exp frontmatter"
   ]
  },
  {
   "cell_type": "markdown",
   "id": "f6b8b4a6",
   "metadata": {},
   "source": [
    "# frontmatter\n",
    "\n",
    "> A YAML and formatted-markdown frontmatter processor\n",
    "- order: 9"
   ]
  },
  {
   "cell_type": "code",
   "execution_count": null,
   "id": "2398f5ef-06d3-4890-8a54-7cf4f81f3894",
   "metadata": {},
   "outputs": [],
   "source": [
    "#|export\n",
    "from nbdev.imports import *\n",
    "from nbdev.process import *\n",
    "from nbdev.doclinks import _nbpath2html\n",
    "\n",
    "from execnb.nbio import *\n",
    "from fastcore.imports import *\n",
    "import yaml"
   ]
  },
  {
   "cell_type": "code",
   "execution_count": null,
   "id": "ce00cb74",
   "metadata": {},
   "outputs": [],
   "source": [
    "#|hide\n",
    "from fastcore.test import *"
   ]
  },
  {
   "cell_type": "code",
   "execution_count": null,
   "id": "9d36f27f",
   "metadata": {},
   "outputs": [],
   "source": [
    "#|hide\n",
    "_test_file = '../../tests/docs_test.ipynb'"
   ]
  },
  {
   "cell_type": "code",
   "execution_count": null,
   "id": "6d13ecdb",
   "metadata": {},
   "outputs": [],
   "source": [
    "#|export\n",
    "_RE_FM_BASE=r'''^---\\s*\n",
    "(.*?\\S+.*?)\n",
    "---\\s*'''\n",
    "\n",
    "_re_fm_nb = re.compile(_RE_FM_BASE+'$', flags=re.DOTALL)\n",
    "_re_fm_md = re.compile(_RE_FM_BASE, flags=re.DOTALL)\n",
    "\n",
    "_re_fm_title_desc = re.compile(r'^#\\s+(\\S.*?)(?:\\n|$)(?:\\s*\\n)*(?:>\\s+(\\S.*?)(?:\\n|$)(?:\\s*\\n)*)?', flags=re.MULTILINE)\n",
    "_re_fm_kv = re.compile(r'^((?:\\s*-\\s+[a-zA-Z_][a-zA-Z0-9_]*\\s*:\\s+.*(?:\\n|$)|\\s*\\n)*)', flags=re.MULTILINE)\n",
    "\n",
    "def _parse_kv_block(block_text):\n",
    "    \"\"\"Parse a block of key-value pairs from lines starting with '-'\"\"\"\n",
    "    if not block_text.strip(): return {}\n",
    "    kv_lines = []\n",
    "    for line in block_text.split('\\n'):\n",
    "        line = line.strip()\n",
    "        if line.startswith('-'):\n",
    "            kv_content = line[1:].strip()  # Remove the '-' and strip whitespace\n",
    "            if kv_content: kv_lines.append(kv_content)\n",
    "    if not kv_lines: return {}\n",
    "    try: return yaml.safe_load('\\n'.join(kv_lines))\n",
    "    except Exception as e:\n",
    "        warn(f'Failed to create YAML dict for:\\n{kv_lines}\\n\\n{e}\\n')\n",
    "        return {}\n",
    "\n",
    "def _md2dict(s:str):\n",
    "    \"Convert H1 formatted markdown cell to frontmatter dict\"\n",
    "    if '#' not in s: return {}\n",
    "    res = {}\n",
    "    remaining_start = 0\n",
    "    \n",
    "    # Extract title and description\n",
    "    title_desc_match = _re_fm_title_desc.match(s)\n",
    "    if not title_desc_match: return {}\n",
    "    res['title'] = title_desc_match.group(1)\n",
    "    if title_desc_match.group(2): res['description'] = title_desc_match.group(2)\n",
    "    remaining_start = title_desc_match.end()\n",
    "    \n",
    "    # Extract KV pairs starting from where title/desc ended\n",
    "    kv_text = s[remaining_start:]\n",
    "    kv_match = _re_fm_kv.match(kv_text)\n",
    "    if kv_match:\n",
    "        kv_dict = _parse_kv_block(kv_match.group(1))\n",
    "        res.update(kv_dict)\n",
    "        remaining_start += kv_match.end()\n",
    "    \n",
    "    # Extract remaining content\n",
    "    remaining = s[remaining_start:].strip()\n",
    "    if remaining: res['__remaining'] = remaining\n",
    "    \n",
    "    return res\n",
    "\n",
    "def _fm2dict(s:str, nb=True):\n",
    "    \"Load YAML frontmatter into a `dict`\"\n",
    "    re_fm = _re_fm_nb if nb else _re_fm_md\n",
    "    match = re_fm.search(s.strip())\n",
    "    return yaml.safe_load(match.group(1)) if match else {}"
   ]
  },
  {
   "cell_type": "code",
   "execution_count": null,
   "id": "1b5d9d32",
   "metadata": {},
   "outputs": [],
   "source": [
    "#|export\n",
    "def _dict2fm(d): return f'---\\n{yaml.dump(d)}\\n---\\n\\n'\n",
    "def _insertfm(nb, fm): nb.cells.insert(0, mk_cell(_dict2fm(fm), 'raw'))\n",
    "\n",
    "class FrontmatterProc(Processor):\n",
    "    \"A YAML and formatted-markdown frontmatter processor\"\n",
    "    def begin(self): \n",
    "        self.fm = getattr(self.nb, 'frontmatter_', {})\n",
    "        self.is_qmd = hasattr(self.nb, 'path_') and Path(self.nb.path_).suffix == '.qmd'\n",
    "        \n",
    "    def _update(self, f, cell):\n",
    "        s = cell.get('source')\n",
    "        if not s: return\n",
    "        d = f(s)\n",
    "        if not d: return\n",
    "        remaining = d.pop('__remaining', None)\n",
    "        self.fm.update(d)\n",
    "        if remaining:\n",
    "            new_cell = mk_cell(remaining, 'markdown')\n",
    "            cell_idx = self.nb.cells.index(cell)\n",
    "            self.nb.cells.insert(cell_idx + 1, new_cell)\n",
    "        cell.source = None\n",
    "\n",
    "    def cell(self, cell):\n",
    "        if cell.cell_type=='raw': self._update(_fm2dict, cell)\n",
    "        elif (cell.cell_type=='markdown' and 'title' not in self.fm): self._update(_md2dict, cell)\n",
    "\n",
    "    def end(self):\n",
    "        self.nb.frontmatter_ = self.fm\n",
    "        if not self.fm: return\n",
    "        if not hasattr(self.nb, 'path_'):\n",
    "            raise AttributeError('Notebook missing `path_` attribute.\\n\\nPlease remove any nbdev-related notebook filters '\n",
    "                                 'from your _quarto.yml file (e.g. `ipynb-filter: [nbdev_filter]`), since they are no '\n",
    "                                 'longer supported as of nbdev v2.3. See the v2.3 launch post for more information: '\n",
    "                                 'https://forums.fast.ai/t/upcoming-changes-in-v2-3-edit-now-released/98905.')\n",
    "        self.fm.update({'output-file': _nbpath2html(Path(self.nb.path_)).name})\n",
    "        _insertfm(self.nb, self.fm)"
   ]
  },
  {
   "cell_type": "markdown",
   "id": "d1a5c7c1",
   "metadata": {},
   "source": [
    "YAML frontmatter can be added to notebooks in one of two ways:\n",
    "\n",
    "1. By adding a raw notebook cell with `---` as the first and last lines, and YAML between them, or\n",
    "2. A specially formatted markdown cell. The first line should be start with a single `#` (creating an H1 heading), and becomes the title. Then, optionally, a line beginning with `>` (creating a quote block), which becomes the description. Finally, zero or more lines beginning with `- ` (creating a list), each of which contains YAML key-value pairs. (If you already have \"title\" defined in frontmatter in a raw cell, then markdown cells will be ignored.)\n",
    "\n",
    "For instance, our test notebook contains the following markdown cell:\n",
    "\n",
    "```\n",
    "# a title\n",
    "> A description\n",
    "- key1: value1\n",
    "- key2: value2\n",
    "- categories: [c1, c2]\n",
    "```\n",
    "\n",
    "It also contains the following raw cell:\n",
    "\n",
    "```\n",
    "---\n",
    "execute:\n",
    "  echo: false\n",
    "---\n",
    "```\n",
    "\n",
    "When we process with `FrontmatterProc`, these will both be removed, and a single raw cell will be added to the top, containing the combined YAML frontmatter:"
   ]
  },
  {
   "cell_type": "markdown",
   "id": "9a0d6f22",
   "metadata": {},
   "source": [
    "We similarly need a `write_qmd` function to write a notebook to a .qmd file."
   ]
  },
  {
   "cell_type": "code",
   "execution_count": null,
   "id": "3c0031d2",
   "metadata": {},
   "outputs": [
    {
     "name": "stdout",
     "output_type": "stream",
     "text": [
      "REMAINING With some remaining text that I want to preserve!!\n",
      "\n",
      "E.g., see this list:\n",
      "\n",
      "- [With a link](https://example.com)\n",
      "\n",
      "And this table:\n",
      "\n",
      "| Column 1 | Column 2 |\n",
      "|----------|----------|\n",
      "\n",
      "and this example code:\n",
      "\n",
      "```python\n",
      "a = 4 + 6\n",
      "```\n",
      "\n",
      "And this image:\n",
      "\n",
      "![An image](https://example.com/image.png)\n",
      "---\n",
      "categories:\n",
      "- c1\n",
      "- c2\n",
      "description: A description\n",
      "execute:\n",
      "  echo: false\n",
      "key1: value1\n",
      "key2: value2\n",
      "output-file: docs_test.html\n",
      "title: a title\n",
      "\n",
      "---\n",
      "\n",
      "\n"
     ]
    }
   ],
   "source": [
    "nbp = NBProcessor(_test_file, procs=FrontmatterProc)\n",
    "nbp.process()\n",
    "print(nbp.nb.cells[0].source)"
   ]
  },
  {
   "cell_type": "markdown",
   "id": "d71f4a28",
   "metadata": {},
   "source": [
    "In addition, a `frontmatter_` attr will be added to the notebook, containing this information as a `dict`:"
   ]
  },
  {
   "cell_type": "code",
   "execution_count": null,
   "id": "1f592909",
   "metadata": {},
   "outputs": [
    {
     "data": {
      "text/plain": [
       "{'execute': {'echo': False},\n",
       " 'title': 'a title',\n",
       " 'description': 'A description',\n",
       " 'key1': 'value1',\n",
       " 'key2': 'value2',\n",
       " 'categories': ['c1', 'c2'],\n",
       " 'output-file': 'docs_test.html'}"
      ]
     },
     "execution_count": null,
     "metadata": {},
     "output_type": "execute_result"
    }
   ],
   "source": [
    "d = nbp.nb.frontmatter_\n",
    "d"
   ]
  },
  {
   "cell_type": "code",
   "execution_count": null,
   "id": "5e5becda",
   "metadata": {},
   "outputs": [],
   "source": [
    "#|hide\n",
    "test_eq(d['description'], 'A description')\n",
    "test_eq(d['categories'], ['c1','c2'])\n",
    "test_eq(d['output-file'], 'docs_test.html')"
   ]
  },
  {
   "cell_type": "markdown",
   "id": "4af909f4",
   "metadata": {},
   "source": [
    "## Export -"
   ]
  },
  {
   "cell_type": "code",
   "execution_count": null,
   "id": "079a05ac",
   "metadata": {},
   "outputs": [],
   "source": [
    "#|hide\n",
    "import nbdev; nbdev.nbdev_export()"
   ]
  },
  {
   "cell_type": "code",
   "execution_count": null,
   "id": "d28956a7",
   "metadata": {},
   "outputs": [],
   "source": []
  }
 ],
 "metadata": {
  "kernelspec": {
   "display_name": "python3",
   "language": "python",
   "name": "python3"
  }
 },
 "nbformat": 4,
 "nbformat_minor": 5
}
