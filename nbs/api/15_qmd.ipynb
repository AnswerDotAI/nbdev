{
 "cells": [
  {
   "cell_type": "markdown",
   "id": "f0f931c2",
   "metadata": {},
   "source": [
    "# qmd\n",
    "\n",
    "> Basic qmd generation helpers (experimental)\n",
    "- order: 15"
   ]
  },
  {
   "cell_type": "code",
   "execution_count": null,
   "id": "2b548a67",
   "metadata": {},
   "outputs": [],
   "source": [
    "#|hide\n",
    "#|default_exp qmd"
   ]
  },
  {
   "cell_type": "code",
   "execution_count": null,
   "id": "1306d33a",
   "metadata": {},
   "outputs": [],
   "source": [
    "#|export\n",
    "from __future__ import annotations\n",
    "from nbdev.config import *\n",
    "from execnb.nbio import *\n",
    "from pathlib import Path\n",
    "import re\n",
    "\n",
    "import sys,os,inspect\n",
    "\n",
    "from fastcore.utils import *\n",
    "from fastcore.meta import delegates"
   ]
  },
  {
   "cell_type": "code",
   "execution_count": null,
   "id": "481478f5",
   "metadata": {},
   "outputs": [],
   "source": [
    "#|hide\n",
    "from fastcore.test import *"
   ]
  },
  {
   "cell_type": "code",
   "execution_count": null,
   "id": "19e7927a",
   "metadata": {},
   "outputs": [],
   "source": [
    "#|export\n",
    "def _qmd_to_raw_cell(source_str, cell_type_str, qmd_metadata=None):\n",
    "    \"\"\"Create a default ipynb json cell\"\"\"\n",
    "    cell = {'cell_type': cell_type_str, 'metadata': {}, 'source': source_str}\n",
    "    if cell_type_str == 'code':\n",
    "        cell['execution_count'] = None\n",
    "        cell['outputs'] = []\n",
    "        if qmd_metadata: cell['qmd_metadata'] = qmd_metadata\n",
    "    return cell\n",
    "\n",
    "def read_qmd(path): \n",
    "    \"\"\"Reads a .qmd file as an nb compatible with the rest of execnb and nbdev\"\"\"\n",
    "    content = Path(path).read_text(encoding='utf-8')\n",
    "    # Modified regex to capture the metadata between {python and }\n",
    "    cell_pat = re.compile(r\"^(`{3,})\\s*\\{python([^\\}]*)\\}\\s*\\n(.*?)^\\1\\s*$\", re.MULTILINE | re.DOTALL)\n",
    "    \n",
    "    # `parts` will be [md_chunk, captured_backticks_1, captured_metadata_1, captured_code_1, md_chunk_2, ...]\n",
    "    parts = cell_pat.split(content)\n",
    "    raw_cells = []\n",
    "    \n",
    "    # Handle the first markdown segment (before any code cells, or all content if no code cells)\n",
    "    initial_md_source = parts[0].strip()\n",
    "    if initial_md_source: raw_cells.append(_qmd_to_raw_cell(initial_md_source, 'markdown'))\n",
    "    \n",
    "    # 4 items per match: [md, backticks, metadata?, code]\n",
    "    for i in range(1, len(parts), 4):\n",
    "        if i + 2 < len(parts):  # We have backticks, metadata, and code\n",
    "            metadata = parts[i+1]  # The captured metadata\n",
    "            code_source = parts[i+2].strip()  # The captured code\n",
    "            if code_source: raw_cells.append(_qmd_to_raw_cell(code_source, 'code', metadata if metadata else None))\n",
    "        if i + 3 < len(parts):  # Intermediate markdown\n",
    "            intermediate_md_source = parts[i+3].strip()\n",
    "            if intermediate_md_source: raw_cells.append(_qmd_to_raw_cell(intermediate_md_source, 'markdown'))\n",
    "                \n",
    "    # Construct the final notebook dictionary\n",
    "    notebook_dict = {\n",
    "        'cells': raw_cells,\n",
    "        'metadata': {\n",
    "            'kernelspec': {'display_name': 'Python 3', 'language': 'python', 'name': 'python3'},\n",
    "            'language_info': {'name': 'python'},\n",
    "            'path': str(path)\n",
    "        },\n",
    "        'nbformat': 4,\n",
    "        'nbformat_minor': 5,\n",
    "        'path_': str(path)\n",
    "    }\n",
    "    \n",
    "    return dict2nb(notebook_dict)\n",
    "\n",
    "def read_nb_or_qmd(path):\n",
    "    if Path(path).suffix == '.qmd': return read_qmd(path)\n",
    "    return read_nb(path)\n"
   ]
  },
  {
   "cell_type": "code",
   "execution_count": null,
   "id": "1b9f86cd",
   "metadata": {},
   "outputs": [],
   "source": [
    "#| hide\n",
    "# Test: we want the .qmd file to be very close to .ipynb file in the nb source (except for saved outputs which are not present in .qmd)\n",
    "nb_qmd = read_qmd(\"../../tests/tst_index.qmd\")\n",
    "nb_ipynb = read_nb(\"../../tests/tst_index.ipynb\")"
   ]
  },
  {
   "cell_type": "code",
   "execution_count": null,
   "id": "24f36490",
   "metadata": {},
   "outputs": [
    {
     "name": "stdout",
     "output_type": "stream",
     "text": [
      "('```', '#| export\\nprint(3+4)\\n')\n",
      "('````', '#| export\\nprint(9+12)\\n')\n",
      "('`````', 'print(5+6)\\n')\n"
     ]
    }
   ],
   "source": [
    "#| hide\n",
    "tst_cell = \"\"\"\\\n",
    "# Title \n",
    "> description\n",
    "\n",
    "and a couple more pieces of information before the code cell:\n",
    "\n",
    "``` {python .code-cell-2}\n",
    "#| export\n",
    "print(3+4)\n",
    "```\n",
    "\n",
    "```` {python .code-cell-2}\n",
    "#| export\n",
    "print(9+12)\n",
    "````\n",
    "\n",
    "`````{python}\n",
    "print(5+6)\n",
    "`````\n",
    "\n",
    "```python\n",
    "print(\"not a cell\")\n",
    "```\n",
    "\"\"\"\n",
    "cell_pat = re.compile(r\"^(`{3,})\\s*\\{python[^\\n]*\\}\\s*(.*?)^\\1\\s*$\", re.MULTILINE | re.DOTALL)\n",
    "matches = cell_pat.findall(tst_cell)\n",
    "assert len(matches) == 3\n",
    "assert len(matches[0][0]) == 3 # 3 backticks\n",
    "assert len(matches[1][0]) == 4 # 4 backticks\n",
    "assert len(matches[2][0]) == 5 # 5 backticks\n",
    "\n",
    "assert matches[0][1] == '#| export\\nprint(3+4)\\n'\n",
    "assert matches[1][1] == '#| export\\nprint(9+12)\\n'\n",
    "assert matches[2][1] == 'print(5+6)\\n'\n",
    "\n",
    "for match in matches: print(match)\n"
   ]
  },
  {
   "cell_type": "markdown",
   "id": "efa97b75",
   "metadata": {},
   "source": [
    "We similarly need a `write_qmd` function to write a notebook to a .qmd file."
   ]
  },
  {
   "cell_type": "code",
   "execution_count": null,
   "id": "4c085a88",
   "metadata": {},
   "outputs": [],
   "source": [
    "#|export\n",
    "def _nb_to_qmd_str(nb):\n",
    "    \"\"\"Convert a notebook to a string in .qmd format\"\"\"\n",
    "    def cell_to_qmd(cell):\n",
    "        source = cell.source.rstrip('\\n')\n",
    "        if cell.cell_type in ['markdown', 'raw']: return source\n",
    "        elif cell.cell_type == 'code':\n",
    "            qmd_metadata = getattr(cell, 'qmd_metadata', None)\n",
    "            if qmd_metadata: return f'```{{python{qmd_metadata}}}\\n{source}\\n```'\n",
    "            else: return f'```{{python}}\\n{source}\\n```'\n",
    "        return ''\n",
    "    return '\\n\\n'.join(filter(None, [cell_to_qmd(cell) for cell in nb.cells]))\n",
    "\n",
    "def write_qmd(nb, path):\n",
    "    \"\"\"Write a notebook back to .qmd format\"\"\"\n",
    "    qmd_str = _nb_to_qmd_str(nb)\n",
    "    Path(path).write_text(qmd_str, encoding='utf-8')\n",
    "    \n",
    "def write_nb_or_qmd(nb, path):\n",
    "    if Path(path).suffix == '.qmd': write_qmd(nb, path)\n",
    "    else: write_nb(nb, path)\n"
   ]
  },
  {
   "cell_type": "code",
   "execution_count": null,
   "id": "5a64f1f4",
   "metadata": {},
   "outputs": [],
   "source": [
    "#| export\n",
    "def meta(md,  # Markdown to add meta to\n",
    "         classes=None,  # List of CSS classes to add\n",
    "         style=None,  # Dict of CSS styles to add\n",
    "         **kwargs):   # Additional attributes to add to meta\n",
    "    \"A metadata section for qmd div in `{}`\"\n",
    "    if style: kwargs['style'] = \"; \".join(f'{k}: {v}' for k,v in style.items())\n",
    "    props = ' '.join(f'{k}=\"{v}\"' for k,v in kwargs.items())\n",
    "    classes = ' '.join('.'+c for c in L(classes))\n",
    "    meta = []\n",
    "    if classes: meta.append(classes)\n",
    "    if props: meta.append(props)\n",
    "    meta = ' '.join(meta)\n",
    "    return md + (\"{\" + meta + \"}\" if meta else \"\")"
   ]
  },
  {
   "cell_type": "code",
   "execution_count": null,
   "id": "52637a70",
   "metadata": {},
   "outputs": [],
   "source": [
    "#| export\n",
    "def div(txt,  # Markdown to add meta to\n",
    "        classes=None,  # List of CSS classes to add\n",
    "        style=None,  # Dict of CSS styles to add\n",
    "        **kwargs):\n",
    "    \"A qmd div with optional metadata section\"\n",
    "    return meta(\"::: \", classes=classes, style=style, **kwargs) + f\"\\n\\n{txt}\\n\\n:::\\n\\n\""
   ]
  },
  {
   "cell_type": "code",
   "execution_count": null,
   "id": "f9f499f4",
   "metadata": {},
   "outputs": [],
   "source": [
    "#| export\n",
    "def img(fname,  # Image to link to\n",
    "        classes=None,  # List of CSS classes to add\n",
    "        style=None,   # Dict of CSS styles to add\n",
    "        height=None,  # Height attribute\n",
    "        relative=None,  # Tuple of (position,px)\n",
    "        link=False,   # Hyperlink to this image\n",
    "        **kwargs):\n",
    "    \"A qmd image\"\n",
    "    kwargs,style = kwargs or {}, style or {}\n",
    "    if height: kwargs[\"height\"]= f\"{height}px\"\n",
    "    if relative:\n",
    "        pos,px = relative\n",
    "        style[\"position\"] = \"relative\"\n",
    "        style[pos] = f\"{px}px\"\n",
    "    res = meta(f'![]({fname})', classes=classes, style=style, **kwargs)\n",
    "    return  f'[{res}]({fname})' if link else res"
   ]
  },
  {
   "cell_type": "code",
   "execution_count": null,
   "id": "16d7aa5f",
   "metadata": {},
   "outputs": [],
   "source": [
    "#| export\n",
    "def btn(txt, # Button text\n",
    "        link,  # Button link URL\n",
    "        classes=None,  # List of CSS classes to add\n",
    "        style=None,    # Dict of CSS styles to add\n",
    "        **kwargs):\n",
    "    \"A qmd button\"\n",
    "    return meta(f'[{txt}]({link})', classes=classes, style=style, role=\"button\")"
   ]
  },
  {
   "cell_type": "code",
   "execution_count": null,
   "id": "e414ed33",
   "metadata": {},
   "outputs": [],
   "source": [
    "#| export\n",
    "def tbl_row(cols:list,  # Auto-stringified columns to show in the row\n",
    "           ):\n",
    "    \"Create a markdown table row from `cols`\"\n",
    "    return '|' + '|'.join(str(c or '') for c in cols) + '|'"
   ]
  },
  {
   "cell_type": "code",
   "execution_count": null,
   "id": "38f0641b",
   "metadata": {},
   "outputs": [],
   "source": [
    "#| export\n",
    "def tbl_sep(sizes:int|list=3  # List of column sizes, or single `int` if all sizes the same\n",
    "           ):\n",
    "    \"Create a markdown table separator with relative column size `sizes`\"\n",
    "    if isinstance(sizes,int): sizes = [3]*sizes\n",
    "    return tbl_row('-'*s for s in sizes)"
   ]
  },
  {
   "cell_type": "code",
   "execution_count": null,
   "id": "a0d6553e-05ab-4db2-b739-aeee59a9ff31",
   "metadata": {},
   "outputs": [],
   "source": [
    "#| export\n",
    "def _install_nbdev():\n",
    "    return div('''#### pip\n",
    "\n",
    "```sh\n",
    "pip install -U nbdev\n",
    "```\n",
    "\n",
    "#### conda\n",
    "\n",
    "```sh\n",
    "conda install -c fastai nbdev\n",
    "```\n",
    "''', ['panel-tabset'])"
   ]
  },
  {
   "cell_type": "markdown",
   "id": "aa35b010",
   "metadata": {},
   "source": [
    "## Export -"
   ]
  },
  {
   "cell_type": "code",
   "execution_count": null,
   "id": "3d8031ce",
   "metadata": {},
   "outputs": [],
   "source": [
    "#|hide\n",
    "import nbdev; nbdev.nbdev_export()"
   ]
  },
  {
   "cell_type": "code",
   "execution_count": null,
   "id": "12588a26-43a6-42c4-bacd-896293c871ab",
   "metadata": {},
   "outputs": [],
   "source": []
  }
 ],
 "metadata": {
  "kernelspec": {
   "display_name": "python3",
   "language": "python",
   "name": "python3"
  }
 },
 "nbformat": 4,
 "nbformat_minor": 5
}
