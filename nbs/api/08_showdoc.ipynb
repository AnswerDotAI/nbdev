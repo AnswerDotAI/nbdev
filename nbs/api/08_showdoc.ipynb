{
 "cells": [
  {
   "cell_type": "code",
   "execution_count": null,
   "id": "5b3e6248",
   "metadata": {},
   "outputs": [],
   "source": [
    "#|default_exp showdoc"
   ]
  },
  {
   "cell_type": "markdown",
   "id": "1b5b9e13",
   "metadata": {},
   "source": [
    "# showdoc\n",
    "> Display symbol documentation in notebook and website\n",
    "- order: 8"
   ]
  },
  {
   "cell_type": "code",
   "execution_count": null,
   "id": "7f371f15",
   "metadata": {},
   "outputs": [],
   "source": [
    "#|export\n",
    "from __future__ import annotations\n",
    "from nbdev.doclinks import *\n",
    "from nbdev.config import get_config\n",
    "\n",
    "from fastcore.docments import *\n",
    "from fastcore.utils import *\n",
    "\n",
    "from importlib import import_module\n",
    "import inspect, sys\n",
    "from collections import OrderedDict\n",
    "from textwrap import fill\n",
    "from types import FunctionType"
   ]
  },
  {
   "cell_type": "code",
   "execution_count": null,
   "id": "37779036-032f-41cc-bedb-d928f1a25df7",
   "metadata": {},
   "outputs": [],
   "source": [
    "#|hide\n",
    "from inspect import Parameter\n",
    "from fastcore.test import *"
   ]
  },
  {
   "cell_type": "markdown",
   "id": "773b5bfb",
   "metadata": {},
   "source": [
    "## Documentation For An Object"
   ]
  },
  {
   "cell_type": "markdown",
   "id": "0eb7314a-675d-4fd8-8f9b-425666e1bd86",
   "metadata": {},
   "source": [
    "Render the signature as well as the `docments` to show complete documentation for an object."
   ]
  },
  {
   "cell_type": "code",
   "execution_count": null,
   "id": "abe98f5c",
   "metadata": {},
   "outputs": [],
   "source": [
    "#|export\n",
    "def _ext_link(url, txt, xtra=\"\"): return f'[{txt}]({url}){{target=\"_blank\" {xtra}}}'\n",
    "\n",
    "class BasicMarkdownRenderer(MarkdownRenderer):\n",
    "    \"Markdown renderer for `show_doc`\"\n",
    "    def _repr_markdown_(self):\n",
    "        doc = '---\\n\\n'\n",
    "        src = NbdevLookup().code(self.fn)\n",
    "        if src: doc += _ext_link(src, 'source', 'style=\"float:right; font-size:smaller\"') + '\\n\\n'\n",
    "        h = '#'*self.title_level\n",
    "        doc += f'{h} {self.nm}\\n\\n'\n",
    "        return doc+super()._repr_markdown_()"
   ]
  },
  {
   "cell_type": "code",
   "execution_count": null,
   "id": "1256ef79",
   "metadata": {},
   "outputs": [],
   "source": [
    "#|export\n",
    "def show_doc(sym,  # Symbol to document\n",
    "             renderer=None,  # Optional renderer (defaults to markdown)\n",
    "             name:str|None=None,  # Optionally override displayed name of `sym`\n",
    "             title_level:int=3):  # Heading level to use for symbol name\n",
    "    \"Show signature and docstring for `sym`\"\n",
    "    if renderer is None: renderer = get_config().get('renderer', None)\n",
    "    if renderer is None: renderer=BasicMarkdownRenderer\n",
    "    elif isinstance(renderer,str):\n",
    "        p,m = renderer.rsplit('.', 1)\n",
    "        renderer = getattr(import_module(p), m)\n",
    "    if isinstance_str(sym, \"Function\"): pass\n",
    "    elif isinstance_str(sym, \"TypeDispatch\"): pass  # use _str as TypeDispatch will be removed from fastcore\n",
    "    else:return renderer(sym or show_doc, name=name, title_level=title_level)"
   ]
  },
  {
   "cell_type": "markdown",
   "id": "8725b5f0",
   "metadata": {},
   "source": [
    "You can use `show_doc` to document apis of functions, classes or methods."
   ]
  },
  {
   "cell_type": "markdown",
   "id": "620d814f",
   "metadata": {},
   "source": [
    "### Numpy Docstrings"
   ]
  },
  {
   "cell_type": "markdown",
   "id": "d88c9513-2d6b-49ed-ae68-37330753c98c",
   "metadata": {},
   "source": [
    "if you have [numpy docstrings](https://numpydoc.readthedocs.io/en/latest/format.html) instead of `docments`, `show_doc` will attempt to parse and render those just like `docments`."
   ]
  },
  {
   "cell_type": "code",
   "execution_count": null,
   "id": "8b9e9b32",
   "metadata": {},
   "outputs": [
    {
     "data": {
      "text/markdown": [
       "---\n",
       "\n",
       "### f\n",
       "\n",
       ">      f (x=1)\n",
       "\n",
       "*func docstring in the numpy style.*\n",
       "\n",
       "This is another line of the docstring.\n",
       "\n",
       "|    | **Type** | **Default** | **Details** |\n",
       "| -- | -------- | ----------- | ----------- |\n",
       "| x | int | 1 | the parameter x |\n",
       "| **Returns** | **None** |  | **this function doesn't return anything** |"
      ],
      "text/plain": [
       ">      f (x=1)\n",
       "\n",
       "*func docstring in the numpy style.*\n",
       "\n",
       "This is another line of the docstring.\n",
       "\n",
       "|    | **Type** | **Default** | **Details** |\n",
       "| -- | -------- | ----------- | ----------- |\n",
       "| x | int | 1 | the parameter x |\n",
       "| **Returns** | **None** |  | **this function doesn't return anything** |"
      ]
     },
     "execution_count": null,
     "metadata": {},
     "output_type": "execute_result"
    }
   ],
   "source": [
    "#|hide\n",
    "def f(x=1):\n",
    "    \"\"\"\n",
    "    func docstring in the numpy style.\n",
    "\n",
    "    This is another line of the docstring.\n",
    "\n",
    "    Parameters\n",
    "    ----------\n",
    "    x : int\n",
    "        the parameter x\n",
    "\n",
    "    Returns\n",
    "    -------\n",
    "    None\n",
    "        this function doesn't return anything\"\"\"\n",
    "    ...\n",
    "\n",
    "show_doc(f)"
   ]
  },
  {
   "cell_type": "markdown",
   "id": "5f668274-4fd0-4c73-b9cf-eba4fd995543",
   "metadata": {},
   "source": [
    ":::{.callout-warning}\n",
    "\n",
    "Numpy docstring formatting is very strict.  If your docstrings do not strictly adhere to the numpy format, it will not be parsed properly and information about parameters and return values may not properly be rendered in the table below the signature.  Where possible, we recommend using `docments` to annonate your function instead.\n",
    "\n",
    ":::"
   ]
  },
  {
   "cell_type": "markdown",
   "id": "a6256505",
   "metadata": {},
   "source": [
    "## show_doc on Classes"
   ]
  },
  {
   "cell_type": "markdown",
   "id": "c690f30b-628f-499a-a4d7-f91f872bdd34",
   "metadata": {},
   "source": [
    "`show_doc` works on Classes, too, including when you use `@patch`."
   ]
  },
  {
   "cell_type": "code",
   "execution_count": null,
   "id": "1c28ec9d-29ff-497f-97b0-ca262f530cf6",
   "metadata": {},
   "outputs": [
    {
     "data": {
      "text/markdown": [
       "---\n",
       "\n",
       "### Foo\n",
       "\n",
       ">      Foo (d:str, e:int)\n",
       "\n",
       "*This is the docstring for the `__init__` method*"
      ],
      "text/plain": [
       ">      Foo (d:str, e:int)\n",
       "\n",
       "*This is the docstring for the `__init__` method*"
      ]
     },
     "execution_count": null,
     "metadata": {},
     "output_type": "execute_result"
    }
   ],
   "source": [
    "#|hide\n",
    "class Foo:\n",
    "    def __init__(self, d:str,e:int):\n",
    "        \"This is the docstring for the `__init__` method\"\n",
    "        ...\n",
    "    @property\n",
    "    def some_prop(self):\n",
    "        \"This is a class property.\"\n",
    "        return 'foo property'\n",
    "\n",
    "show_doc(Foo)"
   ]
  },
  {
   "cell_type": "markdown",
   "id": "20010f4e-5f96-4929-9c1f-5fc85f7c0d5f",
   "metadata": {},
   "source": [
    "You can define methods for the class `Foo` with `@patch` which is convenient in allowing you to break up code for documentation in notebooks."
   ]
  },
  {
   "cell_type": "code",
   "execution_count": null,
   "id": "3441e6c7-472b-411c-a179-b1e37dcbceac",
   "metadata": {},
   "outputs": [
    {
     "data": {
      "text/markdown": [
       "---\n",
       "\n",
       "### Foo.a_method\n",
       "\n",
       ">      Foo.a_method (a:list, b:dict, c)\n",
       "\n",
       "*This is a method*\n",
       "\n",
       "|    | **Type** | **Details** |\n",
       "| -- | -------- | ----------- |\n",
       "| a | list | param a |\n",
       "| b | dict |  |\n",
       "| c |  |  |"
      ],
      "text/plain": [
       ">      Foo.a_method (a:list, b:dict, c)\n",
       "\n",
       "*This is a method*\n",
       "\n",
       "|    | **Type** | **Details** |\n",
       "| -- | -------- | ----------- |\n",
       "| a | list | param a |\n",
       "| b | dict |  |\n",
       "| c |  |  |"
      ]
     },
     "execution_count": null,
     "metadata": {},
     "output_type": "execute_result"
    }
   ],
   "source": [
    "#|hide\n",
    "@patch\n",
    "def a_method(self:Foo,\n",
    "             a:list, # param a\n",
    "             b:dict,c):\n",
    "        \"This is a method\"\n",
    "        ...\n",
    "\n",
    "_res = show_doc(Foo.a_method)\n",
    "_res"
   ]
  },
  {
   "cell_type": "code",
   "execution_count": null,
   "id": "a05a8a3c-7e89-41ff-857f-7479492fc9b0",
   "metadata": {},
   "outputs": [],
   "source": [
    "#|hide\n",
    "# signature and docment should show properly when using @patch\n",
    "assert '(a:list, b:dict, c)' in str(_res)\n",
    "assert 'param a' in str(_res)"
   ]
  },
  {
   "cell_type": "markdown",
   "id": "fe518a59-07e4-4672-8a51-b3cc6475b4ba",
   "metadata": {},
   "source": [
    "Class properties also work with showdoc."
   ]
  },
  {
   "cell_type": "code",
   "execution_count": null,
   "id": "f2727145-be26-4fd1-b67c-78efae89b871",
   "metadata": {},
   "outputs": [
    {
     "data": {
      "text/markdown": [
       "---\n",
       "\n",
       "### Foo.some_prop\n",
       "\n",
       ">      Foo.some_prop ()\n",
       "\n",
       "*This is a class property.*"
      ],
      "text/plain": [
       ">      Foo.some_prop ()\n",
       "\n",
       "*This is a class property.*"
      ]
     },
     "execution_count": null,
     "metadata": {},
     "output_type": "execute_result"
    }
   ],
   "source": [
    "#|hide\n",
    "show_doc(Foo.some_prop)"
   ]
  },
  {
   "cell_type": "markdown",
   "id": "73b167ff",
   "metadata": {},
   "source": [
    "## Pluggable renderers"
   ]
  },
  {
   "cell_type": "markdown",
   "id": "361ee022",
   "metadata": {},
   "source": [
    "You can replace the default markdown show_doc renderer with custom renderers. For instance, nbdev comes with a simple example for rendering with raw HTML."
   ]
  },
  {
   "cell_type": "code",
   "execution_count": null,
   "id": "5271cd9a",
   "metadata": {},
   "outputs": [],
   "source": [
    "#| export\n",
    "def _create_html_table(table_str):\n",
    "    def split_row(row):\n",
    "        return re.findall(r'\\|(?:(?:\\\\.|[^|\\\\])*)', row)\n",
    "    \n",
    "    def unescape_cell(cell): \n",
    "        return cell.strip(' *|').replace(r'\\|', '|')\n",
    "    \n",
    "    lines = table_str.strip().split('\\n')\n",
    "    header = [f\"<th>{unescape_cell(cell)}</th>\" for cell in split_row(lines[0])]\n",
    "    rows = [[f\"<td>{unescape_cell(cell)}</td>\" for cell in split_row(line)] for line in lines[2:]]\n",
    "    \n",
    "    return f'''<table>\n",
    "    <thead><tr>{' '.join(header)}</tr></thead>\n",
    "    <tbody>{''.join(f'<tr>{\" \".join(row)}</tr>' for row in rows)}</tbody>\n",
    "    </table>'''"
   ]
  },
  {
   "cell_type": "code",
   "execution_count": null,
   "id": "a4ae5b2a",
   "metadata": {},
   "outputs": [],
   "source": [
    "#| export\n",
    "def _html_link(url, txt): return f'<a href=\"{url}\" target=\"_blank\" rel=\"noreferrer noopener\">{txt}</a>'"
   ]
  },
  {
   "cell_type": "code",
   "execution_count": null,
   "id": "189c8787",
   "metadata": {},
   "outputs": [],
   "source": [
    "#| export\n",
    "from fastcore.docments import _fmt_sig"
   ]
  },
  {
   "cell_type": "code",
   "execution_count": null,
   "id": "147626ee",
   "metadata": {},
   "outputs": [],
   "source": [
    "#| export\n",
    "class BasicHtmlRenderer(ShowDocRenderer):\n",
    "    \"HTML renderer for `show_doc`\"\n",
    "    def _repr_html_(self):\n",
    "        doc = '<hr/>\\n'\n",
    "        src = NbdevLookup().code(self.fn)\n",
    "        doc += f'<h{self.title_level}>{self.nm}</h{self.title_level}>\\n'\n",
    "        sig = _fmt_sig(self.sig) if self.sig else ''\n",
    "        # Escape < and > characters in the signature\n",
    "        sig = sig.replace('<', '&lt;').replace('>', '&gt;')\n",
    "        doc += f'<blockquote><pre><code>{self.nm} {sig}</code></pre></blockquote>'\n",
    "        if self.docs:\n",
    "            doc += f\"<p><i>{self.docs}</i></p>\"\n",
    "        if src: doc += f\"<br/>{_html_link(src, 'source')}\"\n",
    "        if self.dm.has_docment: doc += _create_html_table(str(self.dm))\n",
    "        return doc\n",
    "\n",
    "    def doc(self):\n",
    "        \"Show `show_doc` info along with link to docs\"\n",
    "        from IPython.display import display,HTML\n",
    "        res = self._repr_html_()\n",
    "        display(HTML(res))"
   ]
  },
  {
   "cell_type": "code",
   "execution_count": null,
   "id": "eb1f0530",
   "metadata": {},
   "outputs": [],
   "source": [
    "#|export\n",
    "def doc(elt):\n",
    "    \"Show `show_doc` info along with link to docs\"\n",
    "    BasicHtmlRenderer(elt).doc()"
   ]
  },
  {
   "cell_type": "code",
   "execution_count": null,
   "id": "37b5a903",
   "metadata": {},
   "outputs": [
    {
     "data": {
      "text/html": [
       "<hr/>\n",
       "<h3>show_doc</h3>\n",
       "<blockquote><pre><code>show_doc (sym, renderer=None, name:str|None=None, title_level:int=3)</code></pre></blockquote><p><i>Show signature and docstring for `sym`</i></p><br/><a href=\"https://github.com/AnswerDotAI/nbdev/blob/main/nbdev/showdoc.py#L181\" target=\"_blank\" rel=\"noreferrer noopener\">source</a><table>\n",
       "    <thead><tr><th></th> <th>Type</th> <th>Default</th> <th>Details</th> <th></th></tr></thead>\n",
       "    <tbody><tr><td>sym</td> <td></td> <td></td> <td>Symbol to document</td> <td></td></tr><tr><td>renderer</td> <td>NoneType</td> <td>None</td> <td>Optional renderer (defaults to markdown)</td> <td></td></tr><tr><td>name</td> <td>str | None</td> <td>None</td> <td>Optionally override displayed name of `sym`</td> <td></td></tr><tr><td>title_level</td> <td>int</td> <td>3</td> <td>Heading level to use for symbol name</td> <td></td></tr></tbody>\n",
       "    </table>"
      ],
      "text/plain": [
       "<IPython.core.display.HTML object>"
      ]
     },
     "metadata": {},
     "output_type": "display_data"
    }
   ],
   "source": [
    "#|hide\n",
    "doc(show_doc)"
   ]
  },
  {
   "cell_type": "code",
   "execution_count": null,
   "id": "059071e3",
   "metadata": {},
   "outputs": [
    {
     "data": {
      "text/html": [
       "<hr/>\n",
       "<h3>F</h3>\n",
       "<blockquote><pre><code>F (x:int=1)</code></pre></blockquote><p><i>class docstring</i></p>"
      ],
      "text/plain": [
       "BasicHtmlRenderer(sym=<class '__main__.F'>, name=None, title_level=3, nm='F', isfunc=False, sig=<Signature (x: int = 1)>, docs='class docstring', dm=fastcore.docments.DocmentTbl(verbose=True, returns=True, params=['x'], dm={'x': {'docment': <class 'inspect._empty'>, 'anno': <class 'int'>, 'default': 1}, 'return': {'docment': <class 'inspect._empty'>, 'anno': <class 'inspect._empty'>, 'default': <class 'inspect._empty'>}}), fn='F')"
      ]
     },
     "execution_count": null,
     "metadata": {},
     "output_type": "execute_result"
    }
   ],
   "source": [
    "#|hide\n",
    "class F:\n",
    "    \"class docstring\"\n",
    "    def __init__(self, x:int=1): ...\n",
    "\n",
    "    @classmethod\n",
    "    def class_method(cls,\n",
    "                     foo:str, # docment for parameter foo\n",
    "                     bar:int):\n",
    "        \"This is a class method.\"\n",
    "        pass\n",
    "\n",
    "    def regular_method(self,\n",
    "                       baz:bool=True): # docment for parameter baz\n",
    "        \"This is a regular method\"\n",
    "        pass\n",
    "\n",
    "show_doc(F, renderer=BasicHtmlRenderer)"
   ]
  },
  {
   "cell_type": "code",
   "execution_count": null,
   "id": "e217c559-58b6-49a5-bb58-1575a4a42ded",
   "metadata": {},
   "outputs": [
    {
     "data": {
      "text/markdown": [
       "---\n",
       "\n",
       "### F.class_method\n",
       "\n",
       ">      F.class_method (foo:str, bar:int)\n",
       "\n",
       "*This is a class method.*\n",
       "\n",
       "|    | **Type** | **Details** |\n",
       "| -- | -------- | ----------- |\n",
       "| foo | str | docment for parameter foo |\n",
       "| bar | int |  |"
      ],
      "text/plain": [
       ">      F.class_method (foo:str, bar:int)\n",
       "\n",
       "*This is a class method.*\n",
       "\n",
       "|    | **Type** | **Details** |\n",
       "| -- | -------- | ----------- |\n",
       "| foo | str | docment for parameter foo |\n",
       "| bar | int |  |"
      ]
     },
     "execution_count": null,
     "metadata": {},
     "output_type": "execute_result"
    }
   ],
   "source": [
    "#|hide\n",
    "_res = show_doc(F.class_method)\n",
    "_res"
   ]
  },
  {
   "cell_type": "code",
   "execution_count": null,
   "id": "f2866a4b-0307-4700-9c23-a2c7de078f54",
   "metadata": {},
   "outputs": [],
   "source": [
    "#|hide\n",
    "# There should be docments for a class method\n",
    "assert 'docment for parameter foo' in str(_res), 'No docment found for class method'"
   ]
  },
  {
   "cell_type": "code",
   "execution_count": null,
   "id": "57a1e24f-2534-41d7-ad98-ade5d42f096c",
   "metadata": {},
   "outputs": [
    {
     "data": {
      "text/markdown": [
       "---\n",
       "\n",
       "### F.regular_method\n",
       "\n",
       ">      F.regular_method (baz:bool=True)\n",
       "\n",
       "*This is a regular method*\n",
       "\n",
       "|    | **Type** | **Default** | **Details** |\n",
       "| -- | -------- | ----------- | ----------- |\n",
       "| baz | bool | True | docment for parameter baz |"
      ],
      "text/plain": [
       ">      F.regular_method (baz:bool=True)\n",
       "\n",
       "*This is a regular method*\n",
       "\n",
       "|    | **Type** | **Default** | **Details** |\n",
       "| -- | -------- | ----------- | ----------- |\n",
       "| baz | bool | True | docment for parameter baz |"
      ]
     },
     "execution_count": null,
     "metadata": {},
     "output_type": "execute_result"
    }
   ],
   "source": [
    "#|hide\n",
    "show_doc(F.regular_method)"
   ]
  },
  {
   "cell_type": "code",
   "execution_count": null,
   "id": "35043aa7-6b60-4ddf-8949-39a78577f23d",
   "metadata": {},
   "outputs": [],
   "source": [
    "#|export\n",
    "def showdoc_nm(tree):\n",
    "    \"Get the fully qualified name for showdoc.\"\n",
    "    return ifnone(patch_name(tree), tree.name)"
   ]
  },
  {
   "cell_type": "code",
   "execution_count": null,
   "id": "cc331a84",
   "metadata": {},
   "outputs": [],
   "source": [
    "#|hide\n",
    "import ast"
   ]
  },
  {
   "cell_type": "code",
   "execution_count": null,
   "id": "fe22731d-ad7d-4080-ac91-e0d24e8b681c",
   "metadata": {},
   "outputs": [],
   "source": [
    "#|hide\n",
    "code=\"\"\"\n",
    "@bar\n",
    "@patch\n",
    "@foo\n",
    "def a_method(self:Foo, a:list,b:dict,c):\n",
    "    \"This is a method\"\n",
    "    ...\n",
    "\"\"\"\n",
    "\n",
    "code2=\"\"\"\n",
    "@bar\n",
    "@foo\n",
    "def a_method(self:Foo, a:list,b:dict,c):\n",
    "    \"This is a method\"\n",
    "    ...\n",
    "\"\"\"\n",
    "\n",
    "_tree = ast.parse(code).body[0]\n",
    "test_eq(showdoc_nm(_tree), 'Foo.a_method')\n",
    "\n",
    "_tree2 = ast.parse(code2).body[0]\n",
    "test_eq(showdoc_nm(_tree2), 'a_method')"
   ]
  },
  {
   "cell_type": "markdown",
   "id": "4be98ffb",
   "metadata": {},
   "source": [
    "## Other helpers"
   ]
  },
  {
   "cell_type": "code",
   "execution_count": null,
   "id": "e947414d",
   "metadata": {},
   "outputs": [],
   "source": [
    "#|export\n",
    "def colab_link(path):\n",
    "    \"Get a link to the notebook at `path` on Colab\"\n",
    "    from IPython.display import Markdown\n",
    "    cfg = get_config()\n",
    "    pre = 'https://colab.research.google.com/github/'\n",
    "    res = f'{pre}{cfg.user}/{cfg.repo}/blob/{cfg.branch}/{cfg.nbs_path.name}/{path}.ipynb'\n",
    "    display(Markdown(f'[Open `{path}` in Colab]({res})'))"
   ]
  },
  {
   "cell_type": "code",
   "execution_count": null,
   "id": "80e0a6cd",
   "metadata": {},
   "outputs": [
    {
     "data": {
      "text/markdown": [
       "[Open `index` in Colab](https://colab.research.google.com/github/AnswerDotAI/nbdev/blob/main/nbs/index.ipynb)"
      ],
      "text/plain": [
       "<IPython.core.display.Markdown object>"
      ]
     },
     "metadata": {},
     "output_type": "display_data"
    }
   ],
   "source": [
    "colab_link('index')"
   ]
  },
  {
   "cell_type": "markdown",
   "id": "ac6f8e04-ff14-4978-a4ba-09f7a2b91098",
   "metadata": {},
   "source": [
    "## Test Edgecases -"
   ]
  },
  {
   "cell_type": "code",
   "execution_count": null,
   "id": "0df86ce3",
   "metadata": {},
   "outputs": [],
   "source": [
    "#|hide\n",
    "from plum import dispatch"
   ]
  },
  {
   "cell_type": "code",
   "execution_count": null,
   "id": "bedf2b4d-4ee1-4836-ae91-416ab7c346a9",
   "metadata": {},
   "outputs": [],
   "source": [
    "#|hide\n",
    "@dispatch\n",
    "def _typ_test(\n",
    "    a:list, # A list\n",
    "    b:str, # A second integer\n",
    ") -> float:\n",
    "    \"Perform op\"\n",
    "    return a.extend(b)\n",
    "\n",
    "@dispatch\n",
    "def _typ_test(\n",
    "    a:str, # An integer\n",
    "    b:str # A str\n",
    ") -> float:\n",
    "    \"Perform op\"\n",
    "    return str(a) + b\n",
    "\n",
    "test_eq(show_doc(_typ_test), None) # show_doc ignores dispatch at the moment"
   ]
  },
  {
   "cell_type": "markdown",
   "id": "ec7a2f01",
   "metadata": {},
   "source": [
    "## Export -"
   ]
  },
  {
   "cell_type": "code",
   "execution_count": null,
   "id": "d20a1ed8",
   "metadata": {},
   "outputs": [],
   "source": [
    "#|hide\n",
    "import nbdev; nbdev. nbdev_export()"
   ]
  }
 ],
 "metadata": {
  "kernelspec": {
   "display_name": "python3",
   "language": "python",
   "name": "python3"
  }
 },
 "nbformat": 4,
 "nbformat_minor": 5
}
