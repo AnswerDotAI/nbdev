{
 "cells": [
  {
   "cell_type": "code",
   "execution_count": null,
   "metadata": {},
   "outputs": [],
   "source": [
    "#|default_exp sync"
   ]
  },
  {
   "cell_type": "markdown",
   "metadata": {},
   "source": [
    "# sync\n",
    "\n",
    "> Propagate small changes in the library back to notebooks\n",
    "- order: 6"
   ]
  },
  {
   "cell_type": "markdown",
   "metadata": {},
   "source": [
    "The library is primarily developed in notebooks so any big changes should be made there. But sometimes, it's easier to fix small bugs or typos in the modules directly. `nbdev_update` is the function that will propagate those changes back to the corresponding notebooks. Note that you can't create new cells or reorder cells with that functionality, so your corrections should remain limited."
   ]
  },
  {
   "cell_type": "code",
   "execution_count": null,
   "metadata": {},
   "outputs": [],
   "source": [
    "#|export\n",
    "from nbdev.imports import *\n",
    "from nbdev.config import *\n",
    "from nbdev.maker import *\n",
    "from nbdev.process import *\n",
    "from nbdev.process import _partition_cell\n",
    "from nbdev.export import *\n",
    "from nbdev.doclinks import _iter_py_cells\n",
    "\n",
    "from execnb.nbio import *\n",
    "from fastcore.script import *\n",
    "from fastcore.xtras import *\n",
    "\n",
    "import ast\n",
    "import importlib"
   ]
  },
  {
   "cell_type": "code",
   "execution_count": null,
   "metadata": {},
   "outputs": [],
   "source": [
    "#|hide\n",
    "from fastcore.test import *"
   ]
  },
  {
   "cell_type": "code",
   "execution_count": null,
   "metadata": {},
   "outputs": [],
   "source": [
    "#|export\n",
    "def absolute_import(name, fname, level):\n",
    "    \"Unwarps a relative import in `name` according to `fname`\"\n",
    "    if not level: return name\n",
    "    mods = fname.split(os.path.sep)\n",
    "    if not name: return '.'.join(mods)\n",
    "    return '.'.join(mods[:len(mods)-level+1]) + f\".{name}\""
   ]
  },
  {
   "cell_type": "code",
   "execution_count": null,
   "metadata": {},
   "outputs": [],
   "source": [
    "test_eq(absolute_import('xyz', 'nbdev', 0), 'xyz')\n",
    "test_eq(absolute_import('', 'nbdev', 1), 'nbdev')\n",
    "test_eq(absolute_import(None, 'nbdev', 1), 'nbdev')\n",
    "test_eq(absolute_import('core', 'nbdev', 1), 'nbdev.core')\n",
    "test_eq(absolute_import('core', 'nbdev/vision', 2), 'nbdev.core')  # from ..core import *\n",
    "test_eq(absolute_import('transform', 'nbdev/vision', 1), 'nbdev.vision.transform')  # from .transform import *\n",
    "test_eq(absolute_import('notebook.core', 'nbdev/data', 2), 'nbdev.notebook.core')  # from ..notebook.core import *"
   ]
  },
  {
   "cell_type": "code",
   "execution_count": null,
   "metadata": {},
   "outputs": [],
   "source": [
    "#|export\n",
    "@functools.lru_cache(maxsize=None)\n",
    "def _mod_files():\n",
    "    midx_spec = importlib.util.spec_from_file_location(\"_modidx\", get_config().lib_path / \"_modidx.py\")\n",
    "    midx = importlib.util.module_from_spec(midx_spec)\n",
    "    midx_spec.loader.exec_module(midx)\n",
    "\n",
    "    return L(files for mod in midx.d['syms'].values() for _,files in mod.values()).unique()"
   ]
  },
  {
   "cell_type": "code",
   "execution_count": null,
   "metadata": {},
   "outputs": [],
   "source": [
    "#|export\n",
    "_re_import = re.compile(r\"from\\s+\\S+\\s+import\\s+\\S\")"
   ]
  },
  {
   "cell_type": "code",
   "execution_count": null,
   "metadata": {},
   "outputs": [],
   "source": [
    "#|hide\n",
    "assert _re_import.match('from foo import bar')\n",
    "assert not _re_import.match('#from foo import bar')"
   ]
  },
  {
   "cell_type": "code",
   "execution_count": null,
   "metadata": {},
   "outputs": [],
   "source": [
    "#|export\n",
    "def _to_absolute(code, py_path, lib_dir):\n",
    "    if not _re_import.search(code): return code\n",
    "    res = update_import(code, ast.parse(code).body, str(py_path.relative_to(lib_dir).parent), absolute_import)\n",
    "    return ''.join(res) if res else code"
   ]
  },
  {
   "cell_type": "code",
   "execution_count": null,
   "metadata": {},
   "outputs": [],
   "source": [
    "#|export\n",
    "def _update_nb(nb_path, cells, lib_dir):\n",
    "    \"Update notebook `nb_path` with contents from `cells`\"\n",
    "    nbp = NBProcessor(nb_path, ExportModuleProc(), rm_directives=False)\n",
    "    nbp.process()\n",
    "    for cell in cells:\n",
    "        assert cell.nb_path == nb_path\n",
    "        nbcell = nbp.nb.cells[cell.idx]\n",
    "        dirs,_ = _partition_cell(nbcell, 'python')\n",
    "        prelim = _to_absolute(cell.code, cell.py_path, lib_dir)\n",
    "        for i in set(dirs):\n",
    "            if '#|' in i.replace(' ',''):\n",
    "                prelim=prelim.replace(i, '')\n",
    "        final = ''.join(set(dirs)) + prelim\n",
    "        nbcell.source = final\n",
    "    write_nb(nbp.nb, nb_path)"
   ]
  },
  {
   "cell_type": "code",
   "execution_count": null,
   "metadata": {},
   "outputs": [],
   "source": [
    "# (Re)Define functions with and without patch\n",
    "\n",
    "# copy/paste of _update_nb before patch was applied\n",
    "def _update_nb_without_patch(nb_path, cells, lib_dir):\n",
    "    \"Update notebook `nb_path` with contents from `cells`\"\n",
    "    nbp = NBProcessor(nb_path, ExportModuleProc(), rm_directives=False)\n",
    "    nbp.process()\n",
    "    for cell in cells:\n",
    "        assert cell.nb_path == nb_path\n",
    "        nbcell = nbp.nb.cells[cell.idx]\n",
    "        dirs,_ = _partition_cell(nbcell, 'python')\n",
    "        nbcell.source = ''.join(dirs) + _to_absolute(cell.code, cell.py_path, lib_dir)\n",
    "    write_nb(nbp.nb, nb_path)\n",
    "\n",
    "\n",
    "def _update_nb_with_patch_and_prints(nb_path, cells, lib_dir):\n",
    "    \"Update notebook `nb_path` with contents from `cells`\"\n",
    "    nbp = NBProcessor(nb_path, ExportModuleProc(), rm_directives=False)\n",
    "    nbp.process()\n",
    "    for cell in cells:\n",
    "        # print('\\n********cell*********')\n",
    "        assert cell.nb_path == nb_path\n",
    "        nbcell = nbp.nb.cells[cell.idx]\n",
    "        dirs,_ = _partition_cell(nbcell, 'python')\n",
    "        prelim = _to_absolute(cell.code, cell.py_path, lib_dir)\n",
    "        # print('\\n>>>>>>>prelim:\\n\\n', prelim)\n",
    "        for i in set(dirs):\n",
    "            if '#|' in i.replace(' ',''):\n",
    "                # print('to replace', i)\n",
    "                prelim=prelim.replace(i, '')      \n",
    "        # print('\\n>>>>>>>inter\\n\\n', prelim)\n",
    "        final = ''.join(set(dirs)) + prelim\n",
    "        # print('\\n>>>>>>>final\\n\\n', final)\n",
    "        nbcell.source = final\n",
    "    write_nb(nbp.nb, nb_path)\n",
    "\n",
    "\n",
    "# based on value of `with_patch`, a different version of _update_nb will be used\n",
    "def _update_mod_patch(py_path, lib_dir, with_patch):\n",
    "    \"Propagate changes from cells in module `py_path` to corresponding notebooks\"\n",
    "    py_cells = L(_iter_py_cells(py_path)).filter(lambda o: o.nb != 'auto')\n",
    "    if with_patch:\n",
    "        nb_function=_update_nb_with_patch_and_prints\n",
    "    else:\n",
    "        nb_function=_update_nb_without_patch\n",
    "    for nb_path,cells in groupby(py_cells, 'nb_path').items(): nb_function(nb_path, cells, lib_dir)\n",
    "\n",
    "\n",
    "# based on value of `with_patch`, a different version of `_update_mod` will be used\n",
    "@call_parse\n",
    "def nbdev_update_patch(fname:str=None, with_patch=True): # A Python file name to update\n",
    "    \"Propagate change in modules matching `fname` to notebooks that created them\"\n",
    "    if fname and fname.endswith('.ipynb'): raise ValueError(\"`nbdev_update` operates on .py files.  If you wish to convert notebooks instead, see `nbdev_export`.\")\n",
    "    if os.environ.get('IN_TEST',0): return\n",
    "    cfg = get_config()\n",
    "    if not cfg.cell_number: raise ValueError(\"`nbdev_update` does not support without cell_number in .py files. Please check your settings.ini\")\n",
    "    fname = Path(fname or cfg.lib_path)\n",
    "    lib_dir = cfg.lib_path.parent\n",
    "    files = globtastic(fname, file_glob='*.py', skip_folder_re='^[_.]').filter(lambda x: str(Path(x).absolute().relative_to(lib_dir) in _mod_files()))\n",
    "    files.map(_update_mod_patch, with_patch=with_patch, lib_dir=lib_dir)\n",
    "\n",
    "\n",
    "def _update_py_file(f='../../nbdev/test_update_directives.py', restore=False):\n",
    "    \"\"\" adds or removes line from py file \"\"\"\n",
    "    to_append = \"\\nprint('add new line')\\n\"\n",
    "\n",
    "    if restore is False:\n",
    "        with open(f, 'a') as file:\n",
    "            file.write(to_append)\n",
    "    else:\n",
    "        with open(f, 'r') as file:\n",
    "            s = file.read()\n",
    "            upd = s.replace(to_append, '')\n",
    "        \n",
    "        with open(f, 'w') as file:\n",
    "            file.write(upd)"
   ]
  },
  {
   "cell_type": "code",
   "execution_count": null,
   "metadata": {},
   "outputs": [],
   "source": [
    "py_file = '../../nbdev/test_update_directives.py'\n",
    "ipynb_file = '../../tests/update_directives.ipynb'\n",
    "\n",
    "# read original state of pyfile\n",
    "with open(py_file, 'r') as file:\n",
    "    py_before_update = file.read()\n",
    "\n",
    "# modify py_file\n",
    "_update_py_file(restore=False)\n",
    "\n",
    "# read updated pyfile\n",
    "with open(py_file, 'r') as file:\n",
    "    py_after_update = file.read()\n",
    "\n",
    "assert py_before_update != py_after_update \n",
    "\n",
    "# read original state of ipynb \n",
    "with open(ipynb_file, 'r') as file:\n",
    "    nbs_before_update = file.read()\n",
    "\n",
    "# update ipynb without patch\n",
    "nbdev_update_patch(fname=py_file, with_patch=False)\n",
    "# read updated ipynb\n",
    "with open(ipynb_file, 'r') as file:\n",
    "    nbs_after_update_without_patch = file.read()\n",
    "\n",
    "# restore py file\n",
    "_update_py_file(restore=True)\n",
    "\n",
    "# update py file\n",
    "_update_py_file(restore=False)\n",
    "# update ipynb without patch\n",
    "nbdev_update_patch(fname=py_file, with_patch=True)\n",
    "# read updated ipynb\n",
    "with open(ipynb_file, 'r') as file:\n",
    "    nbs_after_update_with_patch = file.read()\n",
    "\n",
    "# restore py file\n",
    "_update_py_file(restore=True)\n",
    "\n",
    "assert nbs_after_update_without_patch != nbs_after_update_with_patch \n",
    "assert \"\"\"\"#| eval: false\\\\n\",\\n    \"#| eval: false\\\\n\",\\n\"\"\" not in nbs_after_update_with_patch, 'duplicated directive in version with the patch' \n",
    "assert \"\"\"\"#| eval: false\\\\n\",\\n    \"#| eval: false\\\\n\",\\n\"\"\" not in nbs_after_update_without_patch, 'duplicated directive in version without the patch'"
   ]
  },
  {
   "cell_type": "code",
   "execution_count": null,
   "metadata": {},
   "outputs": [],
   "source": [
    "#|export\n",
    "def _update_mod(py_path, lib_dir):\n",
    "    \"Propagate changes from cells in module `py_path` to corresponding notebooks\"\n",
    "    py_cells = L(_iter_py_cells(py_path)).filter(lambda o: o.nb != 'auto')\n",
    "    for nb_path,cells in groupby(py_cells, 'nb_path').items(): _update_nb(nb_path, cells, lib_dir)"
   ]
  },
  {
   "cell_type": "code",
   "execution_count": null,
   "metadata": {},
   "outputs": [],
   "source": [
    "#|hide\n",
    "assert min(_mod_files().map(lambda x: x.endswith('.py'))) is True"
   ]
  },
  {
   "cell_type": "code",
   "execution_count": null,
   "metadata": {},
   "outputs": [],
   "source": [
    "#|export\n",
    "@call_parse\n",
    "def nbdev_update(fname:str=None): # A Python file name to update\n",
    "    \"Propagate change in modules matching `fname` to notebooks that created them\"\n",
    "    if fname and fname.endswith('.ipynb'): raise ValueError(\"`nbdev_update` operates on .py files.  If you wish to convert notebooks instead, see `nbdev_export`.\")\n",
    "    if os.environ.get('IN_TEST',0): return\n",
    "    cfg = get_config()\n",
    "    if not cfg.cell_number: raise ValueError(\"`nbdev_update` does not support without cell_number in .py files. Please check your settings.ini\")\n",
    "    fname = Path(fname or cfg.lib_path)\n",
    "    lib_dir = cfg.lib_path.parent\n",
    "    files = globtastic(fname, file_glob='*.py', skip_folder_re='^[_.]').filter(lambda x: str(Path(x).absolute().relative_to(lib_dir) in _mod_files()))\n",
    "    files.map(_update_mod, lib_dir=lib_dir)"
   ]
  },
  {
   "cell_type": "code",
   "execution_count": null,
   "metadata": {},
   "outputs": [],
   "source": [
    "#|hide\n",
    "# nbdev_update(\"../nbdev/sync.py\")"
   ]
  },
  {
   "cell_type": "markdown",
   "metadata": {},
   "source": [
    "## Export -"
   ]
  },
  {
   "cell_type": "code",
   "execution_count": null,
   "metadata": {},
   "outputs": [],
   "source": [
    "#|hide\n",
    "#|eval: false\n",
    "from nbdev.doclinks import nbdev_export\n",
    "nbdev_export()"
   ]
  },
  {
   "cell_type": "code",
   "execution_count": null,
   "metadata": {},
   "outputs": [],
   "source": []
  }
 ],
 "metadata": {
  "kernelspec": {
   "display_name": "python3",
   "language": "python",
   "name": "python3"
  }
 },
 "nbformat": 4,
 "nbformat_minor": 4
}
