{
 "cells": [
  {
   "cell_type": "code",
   "execution_count": null,
   "id": "c497928c-8111-473e-aeae-38975d78f707",
   "metadata": {},
   "outputs": [],
   "source": [
    "#|default_exp migrate"
   ]
  },
  {
   "cell_type": "markdown",
   "id": "e9c38f72-896e-45ed-8809-731bfa7b2178",
   "metadata": {},
   "source": [
    "# migrate\n",
    "> Utilities for migrating to nbdev\n",
    "- order: 16"
   ]
  },
  {
   "cell_type": "code",
   "execution_count": null,
   "id": "5b687fa0-dc50-48df-8bfc-e98df34e7572",
   "metadata": {},
   "outputs": [],
   "source": [
    "#|export\n",
    "from nbdev.process import *\n",
    "from nbdev.frontmatter import *\n",
    "from nbdev.frontmatter import _fm2dict, _re_fm_md, _dict2fm, _insertfm\n",
    "from nbdev.processors import *\n",
    "from nbdev.config import get_config, read_nb\n",
    "from nbdev.sync import write_nb\n",
    "from nbdev.showdoc import show_doc\n",
    "from fastcore.all import *\n",
    "import shutil"
   ]
  },
  {
   "cell_type": "markdown",
   "id": "4ed0730c-bc3e-49d4-ab69-91bc9afe1d16",
   "metadata": {},
   "source": [
    "#| hide\n",
    "\n",
    "### Add Alias Path To Avoid Broken Links - \n",
    "\n",
    "When migrating from fastpages which was Jekyll based to Quarto, we want to construct aliases to mitigate broken links.  "
   ]
  },
  {
   "cell_type": "code",
   "execution_count": null,
   "id": "d07b0dc3-d850-4e97-b4a1-a8d8e24eaded",
   "metadata": {},
   "outputs": [],
   "source": [
    "#|hide\n",
    "# These are just utilities for testing\n",
    "def _get_fm(path):\n",
    "    \"A test utility that is used to get front matter\"\n",
    "    nbp = NBProcessor(path, procs=FrontmatterProc)\n",
    "    nbp.process()\n",
    "    return nbp.nb.frontmatter_\n",
    "\n",
    "def _get_raw_fm(nb): \n",
    "    return first(L(nb.cells).filter(lambda x: x.cell_type == 'raw')).source"
   ]
  },
  {
   "cell_type": "code",
   "execution_count": null,
   "id": "52f60fb5-bc54-474a-876c-9146dd092681",
   "metadata": {},
   "outputs": [],
   "source": [
    "#|export\n",
    "def _cat_slug(fmdict):\n",
    "    \"Get the partial slug from the category front matter.\"\n",
    "    slug = '/'.join(fmdict.get('categories', ''))\n",
    "    return '/' + slug if slug else '' "
   ]
  },
  {
   "cell_type": "code",
   "execution_count": null,
   "id": "d449b10d-60de-417e-bfab-97af1f3b4b7b",
   "metadata": {},
   "outputs": [],
   "source": [
    "#|hide\n",
    "_fm1 = _get_fm('../../tests/2020-09-01-fastcore.ipynb')\n",
    "test_eq(_cat_slug(_fm1), '/fastcore/fastai')\n",
    "\n",
    "_fm2 = _get_fm('../../tests/2020-02-20-test.ipynb')\n",
    "test_eq(_cat_slug(_fm2), '/jupyter')"
   ]
  },
  {
   "cell_type": "code",
   "execution_count": null,
   "id": "9fac0338-a503-4680-984f-60153843d5ef",
   "metadata": {},
   "outputs": [],
   "source": [
    "#|export\n",
    "def _file_slug(fname): \n",
    "    \"Get the partial slug from the filename.\"\n",
    "    p = Path(fname)\n",
    "    dt = '/'+p.name[:10].replace('-', '/')+'/'\n",
    "    return dt + p.stem[11:]    "
   ]
  },
  {
   "cell_type": "code",
   "execution_count": null,
   "id": "65d5859a-571a-4ad7-8c50-57765b4603a8",
   "metadata": {},
   "outputs": [],
   "source": [
    "#|hide\n",
    "test_eq(_file_slug('../../tests/2020-09-01-fastcore.ipynb'), \n",
    "        '/2020/09/01/fastcore')"
   ]
  },
  {
   "cell_type": "code",
   "execution_count": null,
   "id": "689bf354",
   "metadata": {},
   "outputs": [],
   "source": [
    "#|export\n",
    "def _replace_fm(d:dict, # dictionary you wish to conditionally change\n",
    "                k:str,  # key to check \n",
    "                val:str,# value to check if d[k] == v\n",
    "                repl_dict:dict #dictionary that will be used as a replacement \n",
    "               ):\n",
    "    \"replace key `k` in dict `d` if d[k] == val with `repl_dict`\"\n",
    "    if str(d.get(k, '')).lower().strip() == str(val.lower()).strip():\n",
    "        d.pop(k)\n",
    "        d = merge(d, repl_dict)\n",
    "    return d\n",
    "\n",
    "def _fp_fm(d):\n",
    "    \"create aliases for fastpages front matter to match Quarto front matter.\"\n",
    "    d = _replace_fm(d, 'search_exclude', 'true', {'search':'false'})\n",
    "    d = _replace_fm(d, 'hide', 'true', {'draft': 'true'})\n",
    "    return d"
   ]
  },
  {
   "cell_type": "code",
   "execution_count": null,
   "id": "3146ce27",
   "metadata": {},
   "outputs": [],
   "source": [
    "#|export\n",
    "def _fp_image(d):\n",
    "    \"Correct path of fastpages images to reference the local directory.\"\n",
    "    prefix = 'images/copied_from_nb/'\n",
    "    if d.get('image', '').startswith(prefix): d['image'] = d['image'].replace(prefix, '')\n",
    "    return d"
   ]
  },
  {
   "cell_type": "code",
   "execution_count": null,
   "id": "244b0d01-a166-4549-9a45-1f8b1195c3c8",
   "metadata": {},
   "outputs": [],
   "source": [
    "#|export\n",
    "def _rm_quote(s): \n",
    "    title = re.search('''\"(.*?)\"''', s)\n",
    "    return title.group(1) if title else s\n",
    "\n",
    "def _is_jekyll_post(path): return bool(re.search(r'^\\d{4}-\\d{2}-\\d{2}-', Path(path).name))\n",
    "\n",
    "def _fp_convert(fm:dict, path:Path):\n",
    "    \"Make fastpages frontmatter Quarto complaint and add redirects.\"\n",
    "    fs = _file_slug(path)\n",
    "    if _is_jekyll_post(path):\n",
    "        fm = compose(_fp_fm, _fp_image)(fm)\n",
    "        if 'permalink' in fm: fm['aliases'] = [f\"{fm['permalink'].strip()}\"]\n",
    "        else: fm['aliases'] = [f'{_cat_slug(fm) + fs}']\n",
    "        if not fm.get('date'): \n",
    "            _,y,m,d,_ = fs.split('/')\n",
    "            fm['date'] = f'{y}-{m}-{d}'\n",
    "        \n",
    "    if fm.get('summary') and not fm.get('description'): fm['description'] = fm['summary']\n",
    "    if fm.get('tags') and not fm.get('categories'): \n",
    "        if isinstance(fm['tags'], str): fm['categories'] = fm['tags'].split()\n",
    "        elif isinstance(fm['tags'], list): fm['categories'] = fm['tags']\n",
    "    for k in ['title', 'description']:\n",
    "        if k in fm: fm[k] = _rm_quote(fm[k])\n",
    "    if fm.get('comments'): fm.pop('comments') #true by itself is not a valid value for comments https://quarto.org/docs/output-formats/html-basics.html#commenting, and the default is true\n",
    "    return fm"
   ]
  },
  {
   "cell_type": "code",
   "execution_count": null,
   "id": "75b8eb73-ee17-4dde-96eb-00f82d31ec4e",
   "metadata": {},
   "outputs": [],
   "source": [
    "#|hide\n",
    "_fm1 = _fp_convert(_fm1, '../../tests/2020-09-01-fastcore.ipynb')\n",
    "test_eq(_fm1['aliases'], ['/fastcore/'])\n",
    "test_eq(_fm1['image'], 'fastcore_imgs/td.png')\n",
    "\n",
    "assert 'hide' not in _fm1 and 'draft' in _fm1\n",
    "assert 'search_exclude' not in _fm1 and 'search' in _fm1\n",
    "assert 'comments' not in _fm1\n",
    "\n",
    "_fm2 = _fp_convert(_fm2, '../../tests/2020-02-20-test.ipynb')\n",
    "test_eq(_fm2['aliases'], ['/jupyter/2020/02/20/test'])"
   ]
  },
  {
   "cell_type": "markdown",
   "id": "120a9d51-bae9-4f22-8d6e-0711d12b08ab",
   "metadata": {},
   "source": [
    "### Migrate notebooks"
   ]
  },
  {
   "cell_type": "code",
   "execution_count": null,
   "id": "c8440f8b-f69e-44d2-8556-8869c1eedf0f",
   "metadata": {},
   "outputs": [],
   "source": [
    "#|export\n",
    "class MigrateProc(Processor):\n",
    "    \"Migrate fastpages front matter in notebooks to a raw cell.\"\n",
    "    def begin(self): \n",
    "        self.nb.frontmatter_ = _fp_convert(self.nb.frontmatter_, self.nb.path_)\n",
    "        if getattr(first(self.nb.cells), 'cell_type', None) == 'raw': del self.nb.cells[0]\n",
    "        _insertfm(self.nb, self.nb.frontmatter_)"
   ]
  },
  {
   "cell_type": "markdown",
   "id": "fbe3ac59-b782-4a7e-8f52-a9bbcafe4723",
   "metadata": {},
   "source": [
    "Before you migrate the fastpages notebook, the front matter is specified in Markdown like this:"
   ]
  },
  {
   "cell_type": "code",
   "execution_count": null,
   "id": "61b1008a-7ec8-422d-a7cf-55cbce684e98",
   "metadata": {},
   "outputs": [
    {
     "name": "stdout",
     "output_type": "stream",
     "text": [
      "# \"fastcore: An Underrated Python Library\"\n",
      "\n",
      "> A unique python library that extends the python programming language and provides utilities that enhance productivity.\n",
      "- author: \"<a href='https://twitter.com/HamelHusain'>Hamel Husain</a>\"\n",
      "- toc: false\n",
      "- image: images/copied_from_nb/fastcore_imgs/td.png\n",
      "- comments: true\n",
      "- search_exclude: true\n",
      "- hide: true\n",
      "- categories: [fastcore, fastai]\n",
      "- permalink: /fastcore/\n",
      "- badges: true\n"
     ]
    }
   ],
   "source": [
    "_tst_nb = '../../tests/2020-09-01-fastcore.ipynb'\n",
    "print(read_nb(_tst_nb).cells[0].source)"
   ]
  },
  {
   "cell_type": "markdown",
   "id": "6f768e05-5368-4a3d-be1d-ed40a4bdf8b1",
   "metadata": {},
   "source": [
    "After migrating the notebook, the front matter is moved to a raw cell, and some of the fields are converted to be compliant with Quarto.  Furthermore, aliases may be added in order to prevent broken links:"
   ]
  },
  {
   "cell_type": "code",
   "execution_count": null,
   "id": "a003953e-60d9-4374-98e6-451c2f03bbff",
   "metadata": {},
   "outputs": [
    {
     "name": "stdout",
     "output_type": "stream",
     "text": [
      "---\n",
      "aliases:\n",
      "- /fastcore/\n",
      "author: <a href='https://twitter.com/HamelHusain'>Hamel Husain</a>\n",
      "categories:\n",
      "- fastcore\n",
      "- fastai\n",
      "date: '2020-09-01'\n",
      "description: A unique python library that extends the python programming language\n",
      "  and provides utilities that enhance productivity.\n",
      "draft: 'true'\n",
      "image: fastcore_imgs/td.png\n",
      "output-file: 2020-09-01-fastcore.html\n",
      "permalink: /fastcore/\n",
      "search: 'false'\n",
      "title: 'fastcore: An Underrated Python Library'\n",
      "toc: false\n",
      "\n",
      "---\n",
      "\n",
      "\n"
     ]
    }
   ],
   "source": [
    "nbp = NBProcessor('../../tests/2020-09-01-fastcore.ipynb', procs=[FrontmatterProc, MigrateProc])\n",
    "nbp.process()\n",
    "_fm1 = _get_raw_fm(nbp.nb)\n",
    "print(_fm1)"
   ]
  },
  {
   "cell_type": "code",
   "execution_count": null,
   "id": "2010dbfc-be80-428c-a9cf-dd8fc80ac972",
   "metadata": {},
   "outputs": [
    {
     "ename": "AssertionError",
     "evalue": "==:\n---\naliases:\n- /fastcore/\nauthor: <a href='https://twitter.com/HamelHusain'>Hamel Husain</a>\ncategories:\n- fastcore\n- fastai\ndate: '2020-09-01'\ndescription: A unique python library that extends the python programming language\n  and provides utilities that enhance productivity.\ndraft: 'true'\nimage: fastcore_imgs/td.png\noutput-file: 2020-09-01-fastcore.html\npermalink: /fastcore/\nsearch: 'false'\ntitle: 'fastcore: An Underrated Python Library'\ntoc: false\n\n---\n\n\n---\naliases:\n- /fastcore/\nauthor: <a href='https://twitter.com/HamelHusain'>Hamel Husain</a>\nbadges: true\ncategories:\n- fastcore\n- fastai\ndate: '2020-09-01'\ndescription: A unique python library that extends the python programming language\n  and provides utilities that enhance productivity.\ndraft: 'true'\nimage: fastcore_imgs/td.png\noutput-file: 2020-09-01-fastcore.html\npermalink: /fastcore/\nsearch: 'false'\ntitle: 'fastcore: An Underrated Python Library'\ntoc: false\n\n---\n\n",
     "output_type": "error",
     "traceback": [
      "\u001b[0;31m---------------------------------------------------------------------------\u001b[0m",
      "\u001b[0;31mAssertionError\u001b[0m                            Traceback (most recent call last)",
      "Cell \u001b[0;32mIn[30], line 2\u001b[0m\n\u001b[1;32m      1\u001b[0m \u001b[38;5;66;03m#|hide\u001b[39;00m\n\u001b[0;32m----> 2\u001b[0m \u001b[43mtest_eq\u001b[49m\u001b[43m(\u001b[49m\u001b[43m_fm1\u001b[49m\u001b[43m,\u001b[49m\u001b[43m \u001b[49m\u001b[38;5;124;43m\"\"\"\u001b[39;49m\u001b[38;5;124;43m---\u001b[39;49m\n\u001b[1;32m      3\u001b[0m \u001b[38;5;124;43maliases:\u001b[39;49m\n\u001b[1;32m      4\u001b[0m \u001b[38;5;124;43m- /fastcore/\u001b[39;49m\n\u001b[1;32m      5\u001b[0m \u001b[38;5;124;43mauthor: <a href=\u001b[39;49m\u001b[38;5;124;43m'\u001b[39;49m\u001b[38;5;124;43mhttps://twitter.com/HamelHusain\u001b[39;49m\u001b[38;5;124;43m'\u001b[39;49m\u001b[38;5;124;43m>Hamel Husain</a>\u001b[39;49m\n\u001b[1;32m      6\u001b[0m \u001b[38;5;124;43mbadges: true\u001b[39;49m\n\u001b[1;32m      7\u001b[0m \u001b[38;5;124;43mcategories:\u001b[39;49m\n\u001b[1;32m      8\u001b[0m \u001b[38;5;124;43m- fastcore\u001b[39;49m\n\u001b[1;32m      9\u001b[0m \u001b[38;5;124;43m- fastai\u001b[39;49m\n\u001b[1;32m     10\u001b[0m \u001b[38;5;124;43mdate: \u001b[39;49m\u001b[38;5;124;43m'\u001b[39;49m\u001b[38;5;124;43m2020-09-01\u001b[39;49m\u001b[38;5;124;43m'\u001b[39;49m\n\u001b[1;32m     11\u001b[0m \u001b[38;5;124;43mdescription: A unique python library that extends the python programming language\u001b[39;49m\n\u001b[1;32m     12\u001b[0m \u001b[38;5;124;43m  and provides utilities that enhance productivity.\u001b[39;49m\n\u001b[1;32m     13\u001b[0m \u001b[38;5;124;43mdraft: \u001b[39;49m\u001b[38;5;124;43m'\u001b[39;49m\u001b[38;5;124;43mtrue\u001b[39;49m\u001b[38;5;124;43m'\u001b[39;49m\n\u001b[1;32m     14\u001b[0m \u001b[38;5;124;43mimage: fastcore_imgs/td.png\u001b[39;49m\n\u001b[1;32m     15\u001b[0m \u001b[38;5;124;43moutput-file: 2020-09-01-fastcore.html\u001b[39;49m\n\u001b[1;32m     16\u001b[0m \u001b[38;5;124;43mpermalink: /fastcore/\u001b[39;49m\n\u001b[1;32m     17\u001b[0m \u001b[38;5;124;43msearch: \u001b[39;49m\u001b[38;5;124;43m'\u001b[39;49m\u001b[38;5;124;43mfalse\u001b[39;49m\u001b[38;5;124;43m'\u001b[39;49m\n\u001b[1;32m     18\u001b[0m \u001b[38;5;124;43mtitle: \u001b[39;49m\u001b[38;5;124;43m'\u001b[39;49m\u001b[38;5;124;43mfastcore: An Underrated Python Library\u001b[39;49m\u001b[38;5;124;43m'\u001b[39;49m\n\u001b[1;32m     19\u001b[0m \u001b[38;5;124;43mtoc: false\u001b[39;49m\n\u001b[1;32m     20\u001b[0m \n\u001b[1;32m     21\u001b[0m \u001b[38;5;124;43m---\u001b[39;49m\n\u001b[1;32m     22\u001b[0m \n\u001b[1;32m     23\u001b[0m \u001b[38;5;124;43m\"\"\"\u001b[39;49m\u001b[43m)\u001b[49m\n\u001b[1;32m     26\u001b[0m _res\u001b[38;5;241m=\u001b[39m\u001b[38;5;124m\"\"\"\u001b[39m\u001b[38;5;124m---\u001b[39m\n\u001b[1;32m     27\u001b[0m \u001b[38;5;124maliases:\u001b[39m\n\u001b[1;32m     28\u001b[0m \u001b[38;5;124m- /jupyter/2020/02/20/test\u001b[39m\n\u001b[0;32m   (...)\u001b[0m\n\u001b[1;32m     40\u001b[0m \n\u001b[1;32m     41\u001b[0m \u001b[38;5;124m\"\"\"\u001b[39m\n\u001b[1;32m     43\u001b[0m nbp \u001b[38;5;241m=\u001b[39m NBProcessor(\u001b[38;5;124m'\u001b[39m\u001b[38;5;124m../../tests/2020-02-20-test.ipynb\u001b[39m\u001b[38;5;124m'\u001b[39m, procs\u001b[38;5;241m=\u001b[39m[FrontmatterProc, MigrateProc])\n",
      "File \u001b[0;32m~/miniconda3/envs/nbdev/lib/python3.10/site-packages/fastcore/test.py:39\u001b[0m, in \u001b[0;36mtest_eq\u001b[0;34m(a, b)\u001b[0m\n\u001b[1;32m     37\u001b[0m \u001b[38;5;28;01mdef\u001b[39;00m\u001b[38;5;250m \u001b[39m\u001b[38;5;21mtest_eq\u001b[39m(a,b):\n\u001b[1;32m     38\u001b[0m     \u001b[38;5;124m\"\u001b[39m\u001b[38;5;124m`test` that `a==b`\u001b[39m\u001b[38;5;124m\"\u001b[39m\n\u001b[0;32m---> 39\u001b[0m     \u001b[43mtest\u001b[49m\u001b[43m(\u001b[49m\u001b[43ma\u001b[49m\u001b[43m,\u001b[49m\u001b[43mb\u001b[49m\u001b[43m,\u001b[49m\u001b[43mequals\u001b[49m\u001b[43m,\u001b[49m\u001b[43m \u001b[49m\u001b[43mcname\u001b[49m\u001b[38;5;241;43m=\u001b[39;49m\u001b[38;5;124;43m'\u001b[39;49m\u001b[38;5;124;43m==\u001b[39;49m\u001b[38;5;124;43m'\u001b[39;49m\u001b[43m)\u001b[49m\n",
      "File \u001b[0;32m~/miniconda3/envs/nbdev/lib/python3.10/site-packages/fastcore/test.py:29\u001b[0m, in \u001b[0;36mtest\u001b[0;34m(a, b, cmp, cname)\u001b[0m\n\u001b[1;32m     27\u001b[0m \u001b[38;5;124m\"\u001b[39m\u001b[38;5;124m`assert` that `cmp(a,b)`; display inputs and `cname or cmp.__name__` if it fails\u001b[39m\u001b[38;5;124m\"\u001b[39m\n\u001b[1;32m     28\u001b[0m \u001b[38;5;28;01mif\u001b[39;00m cname \u001b[38;5;129;01mis\u001b[39;00m \u001b[38;5;28;01mNone\u001b[39;00m: cname\u001b[38;5;241m=\u001b[39mcmp\u001b[38;5;241m.\u001b[39m\u001b[38;5;18m__name__\u001b[39m\n\u001b[0;32m---> 29\u001b[0m \u001b[38;5;28;01massert\u001b[39;00m cmp(a,b),\u001b[38;5;124mf\u001b[39m\u001b[38;5;124m\"\u001b[39m\u001b[38;5;132;01m{\u001b[39;00mcname\u001b[38;5;132;01m}\u001b[39;00m\u001b[38;5;124m:\u001b[39m\u001b[38;5;130;01m\\n\u001b[39;00m\u001b[38;5;132;01m{\u001b[39;00ma\u001b[38;5;132;01m}\u001b[39;00m\u001b[38;5;130;01m\\n\u001b[39;00m\u001b[38;5;132;01m{\u001b[39;00mb\u001b[38;5;132;01m}\u001b[39;00m\u001b[38;5;124m\"\u001b[39m\n",
      "\u001b[0;31mAssertionError\u001b[0m: ==:\n---\naliases:\n- /fastcore/\nauthor: <a href='https://twitter.com/HamelHusain'>Hamel Husain</a>\ncategories:\n- fastcore\n- fastai\ndate: '2020-09-01'\ndescription: A unique python library that extends the python programming language\n  and provides utilities that enhance productivity.\ndraft: 'true'\nimage: fastcore_imgs/td.png\noutput-file: 2020-09-01-fastcore.html\npermalink: /fastcore/\nsearch: 'false'\ntitle: 'fastcore: An Underrated Python Library'\ntoc: false\n\n---\n\n\n---\naliases:\n- /fastcore/\nauthor: <a href='https://twitter.com/HamelHusain'>Hamel Husain</a>\nbadges: true\ncategories:\n- fastcore\n- fastai\ndate: '2020-09-01'\ndescription: A unique python library that extends the python programming language\n  and provides utilities that enhance productivity.\ndraft: 'true'\nimage: fastcore_imgs/td.png\noutput-file: 2020-09-01-fastcore.html\npermalink: /fastcore/\nsearch: 'false'\ntitle: 'fastcore: An Underrated Python Library'\ntoc: false\n\n---\n\n"
     ]
    }
   ],
   "source": [
    "#|hide\n",
    "test_eq(_fm1, \"\"\"---\n",
    "aliases:\n",
    "- /fastcore/\n",
    "author: <a href='https://twitter.com/HamelHusain'>Hamel Husain</a>\n",
    "badges: true\n",
    "categories:\n",
    "- fastcore\n",
    "- fastai\n",
    "date: '2020-09-01'\n",
    "description: A unique python library that extends the python programming language\n",
    "  and provides utilities that enhance productivity.\n",
    "draft: 'true'\n",
    "image: fastcore_imgs/td.png\n",
    "output-file: 2020-09-01-fastcore.html\n",
    "permalink: /fastcore/\n",
    "search: 'false'\n",
    "title: 'fastcore: An Underrated Python Library'\n",
    "toc: false\n",
    "\n",
    "---\n",
    "\n",
    "\"\"\")\n",
    "\n",
    "\n",
    "_res=\"\"\"---\n",
    "aliases:\n",
    "- /jupyter/2020/02/20/test\n",
    "badges: true\n",
    "categories:\n",
    "- jupyter\n",
    "date: '2020-02-20'\n",
    "description: A tutorial of fastpages for Jupyter notebooks.\n",
    "image: images/chart-preview.png\n",
    "output-file: 2020-02-20-test.html\n",
    "title: Fastpages Notebook Blog Post\n",
    "toc: true\n",
    "\n",
    "---\n",
    "\n",
    "\"\"\"\n",
    "\n",
    "nbp = NBProcessor('../../tests/2020-02-20-test.ipynb', procs=[FrontmatterProc, MigrateProc])\n",
    "nbp.process()\n",
    "_fm2 = _get_raw_fm(nbp.nb)\n",
    "test_eq(_fm2, _res)"
   ]
  },
  {
   "cell_type": "markdown",
   "id": "4b76a431-7490-4021-9677-0cc17ee4bab1",
   "metadata": {},
   "source": [
    "### Migrate Fastpages Markdown Front Matter"
   ]
  },
  {
   "cell_type": "code",
   "execution_count": null,
   "id": "d5d575f3-b3b8-487d-8740-b1ebdccf6b34",
   "metadata": {},
   "outputs": [],
   "source": [
    "#|export\n",
    "def fp_md_fm(path):\n",
    "    \"Make fastpages front matter in markdown files quarto compliant.\"\n",
    "    p = Path(path)\n",
    "    md = p.read_text()\n",
    "    fm = _fm2dict(md, nb=False)\n",
    "    if fm:\n",
    "        fm = _fp_convert(fm, path)\n",
    "        return _re_fm_md.sub(_dict2fm(fm), md)\n",
    "    else: return md "
   ]
  },
  {
   "cell_type": "markdown",
   "id": "f2fc664a-7dcd-409c-8051-2a18ecda6228",
   "metadata": {},
   "source": [
    "Here is what the front matter of a fastpages markdown post looks like before migration:"
   ]
  },
  {
   "cell_type": "code",
   "execution_count": null,
   "id": "cbebe788-63cd-4b67-bbc3-80b2eabf712d",
   "metadata": {},
   "outputs": [
    {
     "name": "stdout",
     "output_type": "stream",
     "text": [
      "---\n",
      "\n",
      "toc: true\n",
      "layout: post\n",
      "description: A minimal example of using markdown with fastpages.\n",
      "categories: [markdown]\n",
      "title: An Example Markdown Post\n",
      "\n",
      "\n",
      "---\n",
      "\n",
      "# Example Markdown Post\n"
     ]
    }
   ],
   "source": [
    "#|eval: false\n",
    "print(run('head -n13 ../../tests/2020-01-14-test-markdown-post.md'))"
   ]
  },
  {
   "cell_type": "markdown",
   "id": "5da2e267-485a-453a-b3bd-3eae01327187",
   "metadata": {},
   "source": [
    "And this is what it looks like after migration:"
   ]
  },
  {
   "cell_type": "code",
   "execution_count": null,
   "id": "734aa051-bc72-4f75-bfbd-7abd45126184",
   "metadata": {},
   "outputs": [
    {
     "name": "stdout",
     "output_type": "stream",
     "text": [
      "---\n",
      "aliases:\n",
      "- /markdown/2020/01/14/test-markdown-post\n",
      "categories:\n",
      "- markdown\n",
      "date: '2020-01-14'\n",
      "description: A minimal example of using markdown with fastpages.\n",
      "layout: post\n",
      "title: An Example Markdown Post\n",
      "toc: true\n",
      "\n",
      "---\n",
      "\n",
      "# Example Markdown Post\n",
      "\n",
      "## Basic setup\n",
      "\n",
      "Jekyll requires blog post files to b\n"
     ]
    }
   ],
   "source": [
    "_res = fp_md_fm('../../tests/2020-01-14-test-markdown-post.md')\n",
    "print(_res[:300])"
   ]
  },
  {
   "cell_type": "code",
   "execution_count": null,
   "id": "549a2605-9835-45bc-b0ae-4bdaa6d44aa7",
   "metadata": {},
   "outputs": [],
   "source": [
    "#|hide\n",
    "assert \"\"\"---\n",
    "aliases:\n",
    "- /markdown/2020/01/14/test-markdown-post\n",
    "categories:\n",
    "- markdown\n",
    "date: '2020-01-14'\n",
    "description: A minimal example of using markdown with fastpages.\n",
    "layout: post\n",
    "title: An Example Markdown Post\n",
    "toc: true\n",
    "\n",
    "---\n",
    "\n",
    "\"\"\" in _res"
   ]
  },
  {
   "cell_type": "code",
   "execution_count": null,
   "id": "5bf6b50b-8964-4336-a4be-017ec08db371",
   "metadata": {},
   "outputs": [],
   "source": [
    "#hide\n",
    "_res = fp_md_fm('../../tests/2022-09-06-homeschooling.md')\n",
    "test_eq(_res,\n",
    "\"\"\"---\n",
    "aliases:\n",
    "- /2022/09/06/homeschooling\n",
    "author: Rachel Thomas\n",
    "categories:\n",
    "- advice\n",
    "- health\n",
    "date: '2022-09-06'\n",
    "description: You can permanently damage your back, neck, and wrists from working without\n",
    "  an ergonomic setup.  Learn how to create one for less at home.\n",
    "image: /images/ergonomic1-short.jpg\n",
    "summary: You can permanently damage your back, neck, and wrists from working without\n",
    "  an ergonomic setup.  Learn how to create one for less at home.\n",
    "tags: advice health\n",
    "title: 'Essential Work-From-Home Advice: Cheap and Easy Ergonomic Setups'\n",
    "\n",
    "---\n",
    "\n",
    "Lorem ipsum\n",
    "\"\"\")"
   ]
  },
  {
   "cell_type": "markdown",
   "id": "bdbb6379",
   "metadata": {},
   "source": [
    "## Convert nbdev v1 projects to nbdev v2"
   ]
  },
  {
   "cell_type": "markdown",
   "id": "7ea931c9-e3a8-428e-8d41-61b0390254b8",
   "metadata": {},
   "source": [
    "### Directives\n",
    "\n",
    "nbdev v2 directives start with a `#|` whereas v1 directives were comments without a pipe `|`."
   ]
  },
  {
   "cell_type": "code",
   "execution_count": null,
   "id": "1abf7dc6-4a01-4c44-bdc3-0147820091ca",
   "metadata": {},
   "outputs": [],
   "source": [
    "#|export\n",
    "_alias = merge({k:'code-fold: true' for k in ['collapse', 'collapse_input', 'collapse_hide']}, \n",
    "               {'collapse_show':'code-fold: show', 'hide_input': 'echo: false', 'hide': 'include: false', 'hide_output': 'output: false'})\n",
    "def _subv1(s): return _alias.get(s, s)"
   ]
  },
  {
   "cell_type": "code",
   "execution_count": null,
   "id": "0dde9fe8-d3ad-47b8-bd87-85b9536e9f96",
   "metadata": {},
   "outputs": [],
   "source": [
    "#|export\n",
    "def _re_v1():\n",
    "    d = ['default_exp', 'export', 'exports', 'exporti', 'hide', 'hide_input', 'collapse_show', 'collapse',\n",
    "         'collapse_hide', 'collapse_input', 'hide_output',  'default_cls_lvl']\n",
    "    d += L(get_config().tst_flags).filter()\n",
    "    d += [s.replace('_', '-') for s in d] # allow for hyphenated version of old directives\n",
    "    _tmp = '|'.join(list(set(d)))\n",
    "    return re.compile(fr\"^[ \\f\\v\\t]*?(#)\\s*({_tmp})(?!\\S)\", re.MULTILINE)\n",
    "\n",
    "def _repl_directives(code_str): \n",
    "    def _fmt(x): return f\"#| {_subv1(x[2].replace('-', '_').strip())}\"\n",
    "    return _re_v1().sub(_fmt, code_str)"
   ]
  },
  {
   "cell_type": "code",
   "execution_count": null,
   "id": "610dcd47-b3cc-487a-905f-2796a6ebe4f8",
   "metadata": {},
   "outputs": [],
   "source": [
    "_test_dir = \"\"\"\n",
    "#default_exp\n",
    " #export\n",
    "# collapse-show\n",
    "#collapse-hide\n",
    "#collapse\n",
    "# collapse_output\n",
    "not_dir='#export'\n",
    "# hide_input\n",
    "foo\n",
    "# hide\n",
    "\"\"\"\n",
    "test_eq(_repl_directives(_test_dir),\n",
    "\"\"\"\n",
    "#| default_exp\n",
    "#| export\n",
    "#| code-fold: show\n",
    "#| code-fold: true\n",
    "#| code-fold: true\n",
    "# collapse_output\n",
    "not_dir='#export'\n",
    "#| echo: false\n",
    "foo\n",
    "#| include: false\n",
    "\"\"\")"
   ]
  },
  {
   "cell_type": "code",
   "execution_count": null,
   "id": "cddcad93-1e44-4cbe-8dbd-9538533d0f8e",
   "metadata": {},
   "outputs": [],
   "source": [
    "#|export\n",
    "def _repl_v1dir(cell):\n",
    "    \"Replace nbdev v1 with v2 directives.\"\n",
    "    if cell.get('source') and cell.get('cell_type') == 'code':\n",
    "        ss = cell['source'].splitlines()\n",
    "        first_code = first_code_ln(ss, re_pattern=_re_v1())\n",
    "        if not first_code: first_code = len(ss)\n",
    "        if not ss: pass\n",
    "        else: cell['source'] = '\\n'.join([_repl_directives(c) for c in ss[:first_code]] + ss[first_code:])"
   ]
  },
  {
   "cell_type": "code",
   "execution_count": null,
   "id": "c0ccc916-28e1-43cc-9613-dc4220643c32",
   "metadata": {},
   "outputs": [
    {
     "data": {
      "text/markdown": [
       "---\n",
       "\n",
       "[source](https://github.com/fastai/nbdev/blob/master/nbdev/migrate.py#L120){target=\"_blank\" style=\"float:right; font-size:smaller\"}\n",
       "\n",
       "### _repl_v1dir\n",
       "\n",
       ">      _repl_v1dir (cell)\n",
       "\n",
       "Replace nbdev v1 with v2 directives."
      ],
      "text/plain": [
       "---\n",
       "\n",
       "[source](https://github.com/fastai/nbdev/blob/master/nbdev/migrate.py#L120){target=\"_blank\" style=\"float:right; font-size:smaller\"}\n",
       "\n",
       "### _repl_v1dir\n",
       "\n",
       ">      _repl_v1dir (cell)\n",
       "\n",
       "Replace nbdev v1 with v2 directives."
      ]
     },
     "execution_count": null,
     "metadata": {},
     "output_type": "execute_result"
    }
   ],
   "source": [
    "show_doc(_repl_v1dir)"
   ]
  },
  {
   "cell_type": "markdown",
   "id": "c9fee5f4-6771-4c38-879e-4e1a0a47dd5f",
   "metadata": {},
   "source": [
    "for example, if any of the lines below are valid nbdev v1 directives, they replaced with a `#|`, but only before the first line of code:"
   ]
  },
  {
   "cell_type": "code",
   "execution_count": null,
   "id": "b9173d2f-d75d-44be-9be7-1a94e8459324",
   "metadata": {},
   "outputs": [],
   "source": [
    "#|hide\n",
    "_code = _test_dir\n",
    "\n",
    "tst = {'cell_type': 'code', 'execution_count': 26,\n",
    "       'metadata': {'hide_input': True, 'meta': 23},\n",
    "       'outputs': [{'execution_count': 2,\n",
    "                    'data': {\n",
    "                        'application/vnd.google.colaboratory.intrinsic+json': {'type': 'string'},\n",
    "                        'plain/text': ['sample output',]\n",
    "                    }, 'output': 'super'}],\n",
    "       'source': _code}\n",
    "nb = {'metadata': {'kernelspec': 'some_spec', 'jekyll': 'some_meta', 'meta': 37}, 'cells': [tst]}\n",
    "\n",
    "for cell in nb['cells']: _repl_v1dir(cell) \n",
    "\n",
    "test_eq(nb['cells'][0]['source'], \n",
    "\"\"\"\n",
    "#| default_exp\n",
    "#| export\n",
    "#| code-fold: show\n",
    "#| code-fold: true\n",
    "#| code-fold: true\n",
    "# collapse_output\n",
    "not_dir='#export'\n",
    "# hide_input\n",
    "foo\n",
    "# hide\"\"\")"
   ]
  },
  {
   "cell_type": "markdown",
   "id": "153e6fda-8a42-45ef-a097-9b4a29d0663d",
   "metadata": {},
   "source": [
    "## Callouts\n",
    "\n",
    "In fastpages, there was a markdown shortuct for callouts for `Note`, `Tip`, `Important` and `Warning` with block quotes (these only worked in notebooks).  Since Quarto has its own [callout blocks](https://quarto.org/docs/authoring/callouts.html#callout-types) with markdown syntax, we do not implement these shortcuts in nbdev.  Instead, we offer a manual conversion utility for these callouts so that you can migrate from fastpages to Quarto."
   ]
  },
  {
   "cell_type": "code",
   "execution_count": null,
   "id": "e99a0998-cbfc-46ca-a068-5695437ebc5a",
   "metadata": {},
   "outputs": [],
   "source": [
    "#|export\n",
    "_re_callout = re.compile(r'^>\\s(Warning|Note|Important|Tip):(.*)', flags=re.MULTILINE)\n",
    "def _co(x): return \":::{.callout-\"+x[1].lower()+\"}\\n\\n\" + f\"{x[2].strip()}\\n\\n\" + \":::\"\n",
    "def _convert_callout(s): \n",
    "    \"Convert nbdev v1 to v2 callouts.\"\n",
    "    return _re_callout.sub(_co, s)"
   ]
  },
  {
   "cell_type": "code",
   "execution_count": null,
   "id": "f2d83c72-8772-4037-8fe1-0e457f7c237a",
   "metadata": {},
   "outputs": [
    {
     "data": {
      "text/markdown": [
       "---\n",
       "\n",
       "[source](https://github.com/fastai/nbdev/blob/master/nbdev/migrate.py#L132){target=\"_blank\" style=\"float:right; font-size:smaller\"}\n",
       "\n",
       "### _convert_callout\n",
       "\n",
       ">      _convert_callout (s)\n",
       "\n",
       "Convert nbdev v1 to v2 callouts."
      ],
      "text/plain": [
       "---\n",
       "\n",
       "[source](https://github.com/fastai/nbdev/blob/master/nbdev/migrate.py#L132){target=\"_blank\" style=\"float:right; font-size:smaller\"}\n",
       "\n",
       "### _convert_callout\n",
       "\n",
       ">      _convert_callout (s)\n",
       "\n",
       "Convert nbdev v1 to v2 callouts."
      ]
     },
     "execution_count": null,
     "metadata": {},
     "output_type": "execute_result"
    }
   ],
   "source": [
    "show_doc(_convert_callout)"
   ]
  },
  {
   "cell_type": "markdown",
   "id": "3dfbe786-cb2a-48ec-bb03-57c1d99249ad",
   "metadata": {},
   "source": [
    "For example, the below markdown:"
   ]
  },
  {
   "cell_type": "code",
   "execution_count": null,
   "id": "84e8740c-b281-4c42-8c11-45dfaccdf4e4",
   "metadata": {},
   "outputs": [],
   "source": [
    "_callouts=\"\"\"\n",
    "## Boxes / Callouts\n",
    "\n",
    "> Warning: There will be no second warning!\n",
    "\n",
    "Other text\n",
    "\n",
    "> Important: Pay attention! It's important.\n",
    "\n",
    "> Tip: This is my tip.\n",
    "\n",
    "> Note: Take note of `this.`\n",
    "\"\"\""
   ]
  },
  {
   "cell_type": "markdown",
   "id": "ac093e47-ff12-44b9-bfa8-30da5bbfe696",
   "metadata": {},
   "source": [
    "Gets converted to:"
   ]
  },
  {
   "cell_type": "code",
   "execution_count": null,
   "id": "8797e53f-a741-410f-a1e3-0c09f84580c6",
   "metadata": {},
   "outputs": [
    {
     "name": "stdout",
     "output_type": "stream",
     "text": [
      "\n",
      "## Boxes / Callouts\n",
      "\n",
      ":::{.callout-warning}\n",
      "\n",
      "There will be no second warning!\n",
      "\n",
      ":::\n",
      "\n",
      "Other text\n",
      "\n",
      ":::{.callout-important}\n",
      "\n",
      "Pay attention! It's important.\n",
      "\n",
      ":::\n"
     ]
    }
   ],
   "source": [
    "#| echo:false\n",
    "_c = _convert_callout(_callouts)\n",
    "assert '> Tip:' not in _c\n",
    "assert 'Other text' in _c\n",
    "print(_c[:156])"
   ]
  },
  {
   "cell_type": "markdown",
   "id": "3a77fb60-6be3-45c6-afa7-4dc94e7092e6",
   "metadata": {},
   "source": [
    "## Video Embeds\n",
    "\n",
    "In fastpages, you could embed videos with a simple markdown shortcut involving a block quote with the prefix `youtube:`, that looked like this\n",
    "\n",
    "`> youtube: https://youtu.be/XfoYk_Z5AkI`\n",
    "\n",
    "However, in Quarto you can use the [video extension](https://github.com/quarto-ext/video) to embed videos.\n"
   ]
  },
  {
   "cell_type": "code",
   "execution_count": null,
   "id": "5b19ae68-9d40-498f-bcda-38496b139a27",
   "metadata": {},
   "outputs": [],
   "source": [
    "#|export\n",
    "_re_video = re.compile(r'^>\\syoutube:(.*)', flags=re.MULTILINE)\n",
    "def _v(x): return \"{{< \" + f\"video {x[1].strip()}\" + \" >}}\"\n",
    "def _convert_video(s):\n",
    "    \"Replace nbdev v1 with v2 video embeds.\"\n",
    "    return _re_video.sub(_v, s)"
   ]
  },
  {
   "cell_type": "code",
   "execution_count": null,
   "id": "3658faf9-7948-409e-be33-d0a915e27386",
   "metadata": {},
   "outputs": [
    {
     "data": {
      "text/markdown": [
       "---\n",
       "\n",
       "[source](https://github.com/fastai/nbdev/blob/master/nbdev/migrate.py#L139){target=\"_blank\" style=\"float:right; font-size:smaller\"}\n",
       "\n",
       "### _convert_video\n",
       "\n",
       ">      _convert_video (s)\n",
       "\n",
       "Replace nbdev v1 with v2 video embeds."
      ],
      "text/plain": [
       "---\n",
       "\n",
       "[source](https://github.com/fastai/nbdev/blob/master/nbdev/migrate.py#L139){target=\"_blank\" style=\"float:right; font-size:smaller\"}\n",
       "\n",
       "### _convert_video\n",
       "\n",
       ">      _convert_video (s)\n",
       "\n",
       "Replace nbdev v1 with v2 video embeds."
      ]
     },
     "execution_count": null,
     "metadata": {},
     "output_type": "execute_result"
    }
   ],
   "source": [
    "show_doc(_convert_video)"
   ]
  },
  {
   "cell_type": "code",
   "execution_count": null,
   "id": "a5a1110c-f173-48a1-8afa-bb5472b2b325",
   "metadata": {},
   "outputs": [],
   "source": [
    "_videos=\"\"\"\n",
    "## Videos\n",
    "\n",
    "> youtube: https://youtu.be/XfoYk_Z5AkI\n",
    "\"\"\""
   ]
  },
  {
   "cell_type": "code",
   "execution_count": null,
   "id": "36814fef-0542-46b7-9299-c005f4a52893",
   "metadata": {},
   "outputs": [
    {
     "name": "stdout",
     "output_type": "stream",
     "text": [
      "\n",
      "## Videos\n",
      "\n",
      "{{< video https://youtu.be/XfoYk_Z5AkI >}}\n",
      "\n"
     ]
    }
   ],
   "source": [
    "print(_convert_video(_videos))"
   ]
  },
  {
   "cell_type": "code",
   "execution_count": null,
   "id": "614a8cb8-5c43-45de-b93f-8646e549cc0e",
   "metadata": {},
   "outputs": [],
   "source": [
    "#|export\n",
    "_shortcuts = compose(_convert_video, _convert_callout)\n",
    "\n",
    "def _repl_v1shortcuts(cell):\n",
    "    \"Replace nbdev v1 with v2 callouts.\"\n",
    "    if cell.get('source') and cell.get('cell_type') == 'markdown':\n",
    "        cell['source'] = _shortcuts(cell['source'])"
   ]
  },
  {
   "cell_type": "code",
   "execution_count": null,
   "id": "9383e062-487b-4259-ab96-f427994742cc",
   "metadata": {},
   "outputs": [],
   "source": [
    "#|export\n",
    "def migrate_nb(path, overwrite=True):\n",
    "    \"Migrate Notebooks from nbdev v1 and fastpages.\"\n",
    "    nbp = NBProcessor(path, procs=[FrontmatterProc, MigrateProc, _repl_v1shortcuts, _repl_v1dir], rm_directives=False)\n",
    "    nbp.process()\n",
    "    if overwrite: write_nb(nbp.nb, path)\n",
    "    return nbp.nb"
   ]
  },
  {
   "cell_type": "code",
   "execution_count": null,
   "id": "e10f1558-95cb-49a6-b1e6-affd6fa3ecd2",
   "metadata": {},
   "outputs": [],
   "source": [
    "#|export\n",
    "def migrate_md(path, overwrite=True):\n",
    "    \"Migrate Markdown Files from fastpages.\"\n",
    "    txt = fp_md_fm(path)\n",
    "    if overwrite: path.write_text(txt)\n",
    "    return txt"
   ]
  },
  {
   "cell_type": "code",
   "execution_count": null,
   "id": "3eb0cd02-e1ee-4910-be82-570434b974b5",
   "metadata": {},
   "outputs": [],
   "source": [
    "#|export\n",
    "@call_parse\n",
    "def nbdev_migrate(\n",
    "    path:str=None, # A path or glob containing notebooks and markdown files to migrate\n",
    "    no_skip:bool=False, # Do not skip directories beginning with an underscore\n",
    "):\n",
    "    \"Convert all markdown and notebook files in `path` from v1 to v2\"\n",
    "    _skip_re = None if no_skip else '^[_.]'\n",
    "    if path is None: path = get_config().nbs_path\n",
    "    for f in globtastic(path, file_re='(.ipynb$)|(.md$)', skip_folder_re=_skip_re, func=Path):\n",
    "        try:\n",
    "            if f.name.endswith('.ipynb'): migrate_nb(f)\n",
    "            if f.name.endswith('.md'): migrate_md(f)\n",
    "        except Exception as e: raise Exception(f'Error in migrating file: {f}') from e"
   ]
  },
  {
   "cell_type": "code",
   "execution_count": null,
   "id": "241d5b44-9389-42f3-b901-f9e48c2b3491",
   "metadata": {},
   "outputs": [],
   "source": [
    "#|hide\n",
    "\n",
    "### Test Notebook Migration ####\n",
    "_orig =  Path('../../tests/2020-02-20-test.ipynb') # nbdev v1 notebook\n",
    "_tmp =  Path('../../tests/2020-02-20-test-COPY.ipynb') # A copy of this nb that will be migrated\n",
    "shutil.copy(_orig, _tmp)\n",
    "nbdev_migrate(_tmp)\n",
    "\n",
    "def _nb2str(p): return str(L(read_nb(p).cells).attrgot('source'))\n",
    "assert ':::{.callout-warning}' not in _nb2str(_orig) and ':::{.callout-warning}' in _nb2str(_tmp)\n",
    "assert '#| code-fold: true' not in _nb2str(_orig) and '#| code-fold: true' in _nb2str(_tmp)\n",
    "assert '#| single-value' not in _nb2str(_tmp)\n",
    "\n",
    "if _tmp.exists(): _tmp.unlink() # missing_ok not in python 3.7"
   ]
  },
  {
   "cell_type": "code",
   "execution_count": null,
   "id": "6c4afa9e-f25e-4e0a-b18a-580e61f92260",
   "metadata": {},
   "outputs": [],
   "source": [
    "#|hide\n",
    "\n",
    "### Test Markdown Migration #####\n",
    "_orig =  Path('../../tests/2020-01-14-test-markdown-post.md') # fastpages markdown\n",
    "_tmp =  Path('../../tests/2020-01-14-test-markdown-post-COPY.md') # A copy to be migrated\n",
    "shutil.copy(_orig, _tmp)\n",
    "nbdev_migrate(_tmp)\n",
    "\n",
    "assert _tmp.read_text().startswith(\"\"\"---\n",
    "aliases:\n",
    "- /markdown/2020/01/14/test-markdown-post-COPY\n",
    "categories:\n",
    "- markdown\n",
    "date: '2020-01-14'\n",
    "description: A minimal example of using markdown with fastpages.\n",
    "layout: post\n",
    "title: An Example Markdown Post\n",
    "toc: true\n",
    "\n",
    "---\"\"\")\n",
    "\n",
    "if _tmp.exists(): _tmp.unlink() # missing_ok not in python 3.7"
   ]
  },
  {
   "cell_type": "markdown",
   "id": "a67431f9-52b1-45f8-9d9c-f5a6cb2aebb5",
   "metadata": {},
   "source": [
    "## Export -"
   ]
  },
  {
   "cell_type": "code",
   "execution_count": null,
   "id": "2945bb49-33e8-4066-8ef4-db3573a1f9ab",
   "metadata": {},
   "outputs": [],
   "source": [
    "#|hide\n",
    "import nbdev; nbdev.nbdev_export()"
   ]
  },
  {
   "cell_type": "code",
   "execution_count": null,
   "id": "1cb9e030-a3af-44d7-b188-5dbc43fa5314",
   "metadata": {},
   "outputs": [],
   "source": []
  }
 ],
 "metadata": {
  "kernelspec": {
   "display_name": "python3",
   "language": "python",
   "name": "python3"
  }
 },
 "nbformat": 4,
 "nbformat_minor": 5
}
